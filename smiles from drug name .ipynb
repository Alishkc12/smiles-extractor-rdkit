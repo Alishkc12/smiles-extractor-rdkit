{
 "cells": [
  {
   "cell_type": "markdown",
   "id": "46f85fac-7f7d-4f70-bc50-becb6f4cb543",
   "metadata": {},
   "source": [
    " ### Smiles Retrieval Using PubChem API\n"
   ]
  },
  {
   "cell_type": "code",
   "execution_count": 1,
   "id": "77c5a7c5-9376-44be-ba0b-6ac9bc1d4afa",
   "metadata": {},
   "outputs": [],
   "source": [
    "import pandas as pd\n",
    "import pubchempy as pcp\n",
    "\n",
    "from tqdm import tqdm\n",
    "import numpy as np"
   ]
  },
  {
   "cell_type": "markdown",
   "id": "f79d81a8-de0c-48e6-b125-817231d6d1a2",
   "metadata": {},
   "source": [
    "##### Load DrugComb Dataset"
   ]
  },
  {
   "cell_type": "code",
   "execution_count": 2,
   "id": "16a1a977-485d-4b79-8686-56b1ad8ae9d2",
   "metadata": {},
   "outputs": [],
   "source": [
    "drug_comb=pd.read_csv(\"drug_interaction_drugcomb.csv\",low_memory=False)"
   ]
  },
  {
   "cell_type": "code",
   "execution_count": 3,
   "id": "6b4faf0d-bcd7-4bd1-92be-e239e2d4ed27",
   "metadata": {},
   "outputs": [
    {
     "data": {
      "text/html": [
       "<div>\n",
       "<style scoped>\n",
       "    .dataframe tbody tr th:only-of-type {\n",
       "        vertical-align: middle;\n",
       "    }\n",
       "\n",
       "    .dataframe tbody tr th {\n",
       "        vertical-align: top;\n",
       "    }\n",
       "\n",
       "    .dataframe thead th {\n",
       "        text-align: right;\n",
       "    }\n",
       "</style>\n",
       "<table border=\"1\" class=\"dataframe\">\n",
       "  <thead>\n",
       "    <tr style=\"text-align: right;\">\n",
       "      <th></th>\n",
       "      <th>block_id</th>\n",
       "      <th>drug_row</th>\n",
       "      <th>drug_col</th>\n",
       "      <th>cell_line_name</th>\n",
       "      <th>conc_r_unit</th>\n",
       "      <th>conc_c_unit</th>\n",
       "      <th>css</th>\n",
       "      <th>synergy_zip</th>\n",
       "      <th>synergy_bliss</th>\n",
       "      <th>synergy_loewe</th>\n",
       "      <th>synergy_hsa</th>\n",
       "      <th>ic50_row</th>\n",
       "      <th>ic50_col</th>\n",
       "      <th>ri_row</th>\n",
       "      <th>ri_col</th>\n",
       "      <th>css_row</th>\n",
       "      <th>css_col</th>\n",
       "      <th>S</th>\n",
       "    </tr>\n",
       "  </thead>\n",
       "  <tbody>\n",
       "    <tr>\n",
       "      <th>0</th>\n",
       "      <td>1</td>\n",
       "      <td>5-FU</td>\n",
       "      <td>ABT-888</td>\n",
       "      <td>A2058</td>\n",
       "      <td>uM</td>\n",
       "      <td>uM</td>\n",
       "      <td>30.869</td>\n",
       "      <td>3.865915</td>\n",
       "      <td>6.256584</td>\n",
       "      <td>-2.951386</td>\n",
       "      <td>5.536903</td>\n",
       "      <td>5.126836</td>\n",
       "      <td>3.267734</td>\n",
       "      <td>11.471</td>\n",
       "      <td>-0.441</td>\n",
       "      <td>22.545</td>\n",
       "      <td>39.193</td>\n",
       "      <td>19.839</td>\n",
       "    </tr>\n",
       "    <tr>\n",
       "      <th>1</th>\n",
       "      <td>2</td>\n",
       "      <td>5-FU</td>\n",
       "      <td>ABT-888</td>\n",
       "      <td>A2058</td>\n",
       "      <td>uM</td>\n",
       "      <td>uM</td>\n",
       "      <td>27.460</td>\n",
       "      <td>8.247403</td>\n",
       "      <td>12.333896</td>\n",
       "      <td>3.125927</td>\n",
       "      <td>11.614215</td>\n",
       "      <td>5.126836</td>\n",
       "      <td>3.267734</td>\n",
       "      <td>11.471</td>\n",
       "      <td>-0.441</td>\n",
       "      <td>24.135</td>\n",
       "      <td>30.785</td>\n",
       "      <td>16.430</td>\n",
       "    </tr>\n",
       "    <tr>\n",
       "      <th>2</th>\n",
       "      <td>3</td>\n",
       "      <td>5-FU</td>\n",
       "      <td>ABT-888</td>\n",
       "      <td>A2058</td>\n",
       "      <td>uM</td>\n",
       "      <td>uM</td>\n",
       "      <td>29.901</td>\n",
       "      <td>6.063440</td>\n",
       "      <td>11.660209</td>\n",
       "      <td>2.452239</td>\n",
       "      <td>10.940528</td>\n",
       "      <td>5.126836</td>\n",
       "      <td>3.267734</td>\n",
       "      <td>11.471</td>\n",
       "      <td>-0.441</td>\n",
       "      <td>25.561</td>\n",
       "      <td>34.241</td>\n",
       "      <td>18.871</td>\n",
       "    </tr>\n",
       "    <tr>\n",
       "      <th>3</th>\n",
       "      <td>4</td>\n",
       "      <td>5-FU</td>\n",
       "      <td>ABT-888</td>\n",
       "      <td>A2058</td>\n",
       "      <td>uM</td>\n",
       "      <td>uM</td>\n",
       "      <td>24.016</td>\n",
       "      <td>-4.280231</td>\n",
       "      <td>5.145209</td>\n",
       "      <td>-4.062761</td>\n",
       "      <td>4.425528</td>\n",
       "      <td>5.126836</td>\n",
       "      <td>3.267734</td>\n",
       "      <td>11.471</td>\n",
       "      <td>-0.441</td>\n",
       "      <td>16.661</td>\n",
       "      <td>31.371</td>\n",
       "      <td>12.986</td>\n",
       "    </tr>\n",
       "    <tr>\n",
       "      <th>4</th>\n",
       "      <td>5</td>\n",
       "      <td>5-FU</td>\n",
       "      <td>AZD1775</td>\n",
       "      <td>A2058</td>\n",
       "      <td>uM</td>\n",
       "      <td>uM</td>\n",
       "      <td>66.847</td>\n",
       "      <td>12.284698</td>\n",
       "      <td>15.765467</td>\n",
       "      <td>10.409407</td>\n",
       "      <td>18.656340</td>\n",
       "      <td>5.126836</td>\n",
       "      <td>0.266027</td>\n",
       "      <td>11.471</td>\n",
       "      <td>25.164</td>\n",
       "      <td>76.501</td>\n",
       "      <td>57.193</td>\n",
       "      <td>30.212</td>\n",
       "    </tr>\n",
       "  </tbody>\n",
       "</table>\n",
       "</div>"
      ],
      "text/plain": [
       "   block_id drug_row drug_col cell_line_name conc_r_unit conc_c_unit     css  \\\n",
       "0         1     5-FU  ABT-888          A2058          uM          uM  30.869   \n",
       "1         2     5-FU  ABT-888          A2058          uM          uM  27.460   \n",
       "2         3     5-FU  ABT-888          A2058          uM          uM  29.901   \n",
       "3         4     5-FU  ABT-888          A2058          uM          uM  24.016   \n",
       "4         5     5-FU  AZD1775          A2058          uM          uM  66.847   \n",
       "\n",
       "   synergy_zip  synergy_bliss  synergy_loewe  synergy_hsa  ic50_row  ic50_col  \\\n",
       "0     3.865915       6.256584      -2.951386     5.536903  5.126836  3.267734   \n",
       "1     8.247403      12.333896       3.125927    11.614215  5.126836  3.267734   \n",
       "2     6.063440      11.660209       2.452239    10.940528  5.126836  3.267734   \n",
       "3    -4.280231       5.145209      -4.062761     4.425528  5.126836  3.267734   \n",
       "4    12.284698      15.765467      10.409407    18.656340  5.126836  0.266027   \n",
       "\n",
       "   ri_row  ri_col  css_row  css_col       S  \n",
       "0  11.471  -0.441   22.545   39.193  19.839  \n",
       "1  11.471  -0.441   24.135   30.785  16.430  \n",
       "2  11.471  -0.441   25.561   34.241  18.871  \n",
       "3  11.471  -0.441   16.661   31.371  12.986  \n",
       "4  11.471  25.164   76.501   57.193  30.212  "
      ]
     },
     "execution_count": 3,
     "metadata": {},
     "output_type": "execute_result"
    }
   ],
   "source": [
    "drug_comb.head()"
   ]
  },
  {
   "cell_type": "code",
   "execution_count": 4,
   "id": "d06a370c-6e30-467c-8e7a-48cadb4fe728",
   "metadata": {},
   "outputs": [
    {
     "data": {
      "text/plain": [
       "(1048575, 18)"
      ]
     },
     "execution_count": 4,
     "metadata": {},
     "output_type": "execute_result"
    }
   ],
   "source": [
    "drug_comb.shape"
   ]
  },
  {
   "cell_type": "code",
   "execution_count": 5,
   "id": "68bf501e-2257-4ab2-8d9c-d0c112b09356",
   "metadata": {},
   "outputs": [
    {
     "data": {
      "text/plain": [
       "np.int64(0)"
      ]
     },
     "execution_count": 5,
     "metadata": {},
     "output_type": "execute_result"
    }
   ],
   "source": [
    "drug_comb['drug_row'].isna().sum()  #Counts the number of missing (NaN) values in the 'drug_row' column "
   ]
  },
  {
   "cell_type": "code",
   "execution_count": 6,
   "id": "30a85c69-40b2-410f-b318-01453628027a",
   "metadata": {},
   "outputs": [
    {
     "data": {
      "text/plain": [
       "np.int64(582542)"
      ]
     },
     "execution_count": 6,
     "metadata": {},
     "output_type": "execute_result"
    }
   ],
   "source": [
    "drug_comb['drug_col'].isna().sum()  #Counts the number of missing (NaN) values in the 'drug_col' column "
   ]
  },
  {
   "cell_type": "markdown",
   "id": "19d63d5e-8b7b-4551-92b9-310c905a35e2",
   "metadata": {},
   "source": [
    "##### Missing drug names in the drug_col column were not imputed, as such data is considered sensitive and unsuitable for imputation. Instead, rows containing missing values in drug_col were removed to ensure the integrity of downstream processing."
   ]
  },
  {
   "cell_type": "code",
   "execution_count": 7,
   "id": "7d01cb15-ef49-4d72-b042-4de0dd906deb",
   "metadata": {},
   "outputs": [],
   "source": [
    "drug_comb = drug_comb.dropna(subset='drug_col')  # Drops all rows from the DataFrame where the 'drug_col' entry is missing (NaN)"
   ]
  },
  {
   "cell_type": "code",
   "execution_count": 8,
   "id": "cfdda121-c137-483b-83e6-ceca826117f9",
   "metadata": {},
   "outputs": [
    {
     "data": {
      "text/plain": [
       "np.int64(0)"
      ]
     },
     "execution_count": 8,
     "metadata": {},
     "output_type": "execute_result"
    }
   ],
   "source": [
    "drug_comb['drug_col'].isna().sum()"
   ]
  },
  {
   "cell_type": "code",
   "execution_count": 9,
   "id": "053f0414-937b-4b12-a462-141e0005ef72",
   "metadata": {},
   "outputs": [
    {
     "name": "stdout",
     "output_type": "stream",
     "text": [
      "total number of drug involved in interaciton dataset 4150\n"
     ]
    }
   ],
   "source": [
    "a=len(np.unique(np.concatenate([drug_comb.drug_row.unique(),drug_comb.drug_col.unique()])))\n",
    "print(f\"total number of drug involved in interaciton dataset {a}\")"
   ]
  },
  {
   "cell_type": "code",
   "execution_count": 10,
   "id": "5cd4972b-bc2b-4316-8863-bbb454660af8",
   "metadata": {},
   "outputs": [
    {
     "data": {
      "text/plain": [
       "(466033, 18)"
      ]
     },
     "execution_count": 10,
     "metadata": {},
     "output_type": "execute_result"
    }
   ],
   "source": [
    "drug_comb.shape"
   ]
  },
  {
   "cell_type": "code",
   "execution_count": 11,
   "id": "5fc1820d-8c88-48a9-a7f4-206003367b64",
   "metadata": {},
   "outputs": [
    {
     "data": {
      "text/html": [
       "<div>\n",
       "<style scoped>\n",
       "    .dataframe tbody tr th:only-of-type {\n",
       "        vertical-align: middle;\n",
       "    }\n",
       "\n",
       "    .dataframe tbody tr th {\n",
       "        vertical-align: top;\n",
       "    }\n",
       "\n",
       "    .dataframe thead th {\n",
       "        text-align: right;\n",
       "    }\n",
       "</style>\n",
       "<table border=\"1\" class=\"dataframe\">\n",
       "  <thead>\n",
       "    <tr style=\"text-align: right;\">\n",
       "      <th></th>\n",
       "      <th>block_id</th>\n",
       "      <th>drug_row</th>\n",
       "      <th>drug_col</th>\n",
       "      <th>cell_line_name</th>\n",
       "      <th>conc_r_unit</th>\n",
       "      <th>conc_c_unit</th>\n",
       "      <th>css</th>\n",
       "      <th>synergy_zip</th>\n",
       "      <th>synergy_bliss</th>\n",
       "      <th>synergy_loewe</th>\n",
       "      <th>synergy_hsa</th>\n",
       "      <th>ic50_row</th>\n",
       "      <th>ic50_col</th>\n",
       "      <th>ri_row</th>\n",
       "      <th>ri_col</th>\n",
       "      <th>css_row</th>\n",
       "      <th>css_col</th>\n",
       "      <th>S</th>\n",
       "    </tr>\n",
       "  </thead>\n",
       "  <tbody>\n",
       "  </tbody>\n",
       "</table>\n",
       "</div>"
      ],
      "text/plain": [
       "Empty DataFrame\n",
       "Columns: [block_id, drug_row, drug_col, cell_line_name, conc_r_unit, conc_c_unit, css, synergy_zip, synergy_bliss, synergy_loewe, synergy_hsa, ic50_row, ic50_col, ri_row, ri_col, css_row, css_col, S]\n",
       "Index: []"
      ]
     },
     "execution_count": 11,
     "metadata": {},
     "output_type": "execute_result"
    }
   ],
   "source": [
    "drug_comb[drug_comb['drug_row'].isna() | drug_comb['drug_col'].isna()] # Selects all rows from drug_comb where either 'drug_row' or 'drug_col' has missing (NaN) values"
   ]
  },
  {
   "cell_type": "markdown",
   "id": "49a76fb0-6dcc-4d47-b456-2926ce325ebf",
   "metadata": {},
   "source": [
    "##### The distinct drug names are compiled into a new DataFrame called drug_df to facilitate further analysis, such as retrieving SMILES strings"
   ]
  },
  {
   "cell_type": "code",
   "execution_count": 12,
   "id": "779bfc0d-06c6-4232-ba75-0746f5491b93",
   "metadata": {},
   "outputs": [
    {
     "data": {
      "text/html": [
       "<div>\n",
       "<style scoped>\n",
       "    .dataframe tbody tr th:only-of-type {\n",
       "        vertical-align: middle;\n",
       "    }\n",
       "\n",
       "    .dataframe tbody tr th {\n",
       "        vertical-align: top;\n",
       "    }\n",
       "\n",
       "    .dataframe thead th {\n",
       "        text-align: right;\n",
       "    }\n",
       "</style>\n",
       "<table border=\"1\" class=\"dataframe\">\n",
       "  <thead>\n",
       "    <tr style=\"text-align: right;\">\n",
       "      <th></th>\n",
       "      <th>drug</th>\n",
       "    </tr>\n",
       "  </thead>\n",
       "  <tbody>\n",
       "    <tr>\n",
       "      <th>0</th>\n",
       "      <td>5-FU</td>\n",
       "    </tr>\n",
       "    <tr>\n",
       "      <th>1</th>\n",
       "      <td>ABT-888</td>\n",
       "    </tr>\n",
       "    <tr>\n",
       "      <th>2</th>\n",
       "      <td>AZD1775</td>\n",
       "    </tr>\n",
       "    <tr>\n",
       "      <th>3</th>\n",
       "      <td>BEZ-235</td>\n",
       "    </tr>\n",
       "    <tr>\n",
       "      <th>4</th>\n",
       "      <td>BORTEZOMIB</td>\n",
       "    </tr>\n",
       "  </tbody>\n",
       "</table>\n",
       "</div>"
      ],
      "text/plain": [
       "         drug\n",
       "0        5-FU\n",
       "1     ABT-888\n",
       "2     AZD1775\n",
       "3     BEZ-235\n",
       "4  BORTEZOMIB"
      ]
     },
     "execution_count": 12,
     "metadata": {},
     "output_type": "execute_result"
    }
   ],
   "source": [
    "unique_drugs = pd.unique(drug_comb[['drug_row', 'drug_col']].values.ravel())\n",
    "drug_df = pd.DataFrame(unique_drugs, columns=['drug'])\n",
    "drug_df.head()"
   ]
  },
  {
   "cell_type": "code",
   "execution_count": 13,
   "id": "c9cb8b89-7c71-4fd6-886b-25929e04a148",
   "metadata": {},
   "outputs": [
    {
     "data": {
      "text/plain": [
       "(4150, 1)"
      ]
     },
     "execution_count": 13,
     "metadata": {},
     "output_type": "execute_result"
    }
   ],
   "source": [
    "drug_df.shape"
   ]
  },
  {
   "cell_type": "markdown",
   "id": "21e3ca64-5328-4017-be7b-0f7347b0ff88",
   "metadata": {},
   "source": [
    "##### Fetching SMILES Strings from PubChem by Drug Name"
   ]
  },
  {
   "cell_type": "code",
   "execution_count": 14,
   "id": "5ea0bf15-e131-4c54-9120-2ac15cba5774",
   "metadata": {},
   "outputs": [],
   "source": [
    "import requests\n",
    "\n",
    "failed_names = []\n",
    "\n",
    "def get_smiles_from_name(name):\n",
    "    url = f'https://pubchem.ncbi.nlm.nih.gov/rest/pug/compound/name/{name}/property/IsomericSMILES/TXT'\n",
    "    try:\n",
    "        response = requests.get(url, timeout=10)\n",
    "        response.raise_for_status()\n",
    "        return response.text.strip()\n",
    "    except Exception as e:\n",
    "        print(f\"Error retrieving SMILES for {name}: {e}\")\n",
    "        failed_names.append(name)\n",
    "        return None\n"
   ]
  },
  {
   "cell_type": "markdown",
   "id": "cf2603e8-8b8f-40ae-96ef-277368277769",
   "metadata": {},
   "source": [
    "##### Adding a new 'smiles' column to drug_df by applying the get_smiles_from_name function to each drug name, fetching its SMILES string from PubChem"
   ]
  },
  {
   "cell_type": "code",
   "execution_count": 21,
   "id": "6c9a34fa-42bc-483c-b9ee-a618817f5778",
   "metadata": {},
   "outputs": [
    {
     "name": "stderr",
     "output_type": "stream",
     "text": [
      "  2%|█▌                                                                              | 81/4150 [01:13<58:54,  1.15it/s]"
     ]
    },
    {
     "name": "stdout",
     "output_type": "stream",
     "text": [
      "Error retrieving SMILES for (+/-)-SULFINPYRAZONE: 404 Client Error: PUGREST.NotFound for url: https://pubchem.ncbi.nlm.nih.gov/rest/pug/compound/name/(+/-)-SULFINPYRAZONE/property/IsomericSMILES/TXT\n"
     ]
    },
    {
     "name": "stderr",
     "output_type": "stream",
     "text": [
      " 10%|███████▌                                                                       | 395/4150 [06:03<55:53,  1.12it/s]"
     ]
    },
    {
     "name": "stdout",
     "output_type": "stream",
     "text": [
      "Error retrieving SMILES for (6-)E-<U+200B>AMINOCAPROIC ACID: 404 Client Error: PUGREST.NotFound for url: https://pubchem.ncbi.nlm.nih.gov/rest/pug/compound/name/(6-)E-%3CU+200B%3EAMINOCAPROIC%20ACID/property/IsomericSMILES/TXT\n"
     ]
    },
    {
     "name": "stderr",
     "output_type": "stream",
     "text": [
      " 14%|███████████                                                                    | 584/4150 [08:56<54:35,  1.09it/s]"
     ]
    },
    {
     "name": "stdout",
     "output_type": "stream",
     "text": [
      "Error retrieving SMILES for BACITRACIN: 404 Client Error: PUGREST.NotFound for url: https://pubchem.ncbi.nlm.nih.gov/rest/pug/compound/name/BACITRACIN/property/IsomericSMILES/TXT\n"
     ]
    },
    {
     "name": "stderr",
     "output_type": "stream",
     "text": [
      " 21%|████████████████▍                                                              | 864/4150 [13:11<48:41,  1.12it/s]"
     ]
    },
    {
     "name": "stdout",
     "output_type": "stream",
     "text": [
      "Error retrieving SMILES for DEXTROSE: 404 Client Error: PUGREST.NotFound for url: https://pubchem.ncbi.nlm.nih.gov/rest/pug/compound/name/DEXTROSE/property/IsomericSMILES/TXT\n"
     ]
    },
    {
     "name": "stderr",
     "output_type": "stream",
     "text": [
      " 27%|████████████████████▊                                                         | 1108/4150 [16:51<45:30,  1.11it/s]"
     ]
    },
    {
     "name": "stdout",
     "output_type": "stream",
     "text": [
      "Error retrieving SMILES for GYNOSTEMMA EXTRACT: 404 Client Error: PUGREST.NotFound for url: https://pubchem.ncbi.nlm.nih.gov/rest/pug/compound/name/GYNOSTEMMA%20EXTRACT/property/IsomericSMILES/TXT\n"
     ]
    },
    {
     "name": "stderr",
     "output_type": "stream",
     "text": [
      " 32%|████████████████████████▋                                                     | 1315/4150 [19:58<41:17,  1.14it/s]"
     ]
    },
    {
     "name": "stdout",
     "output_type": "stream",
     "text": [
      "Error retrieving SMILES for METHYL-HESPERIDIN: 404 Client Error: PUGREST.NotFound for url: https://pubchem.ncbi.nlm.nih.gov/rest/pug/compound/name/METHYL-HESPERIDIN/property/IsomericSMILES/TXT\n"
     ]
    },
    {
     "name": "stderr",
     "output_type": "stream",
     "text": [
      " 37%|████████████████████████████▍                                               | 1550/4150 [23:33<1:00:51,  1.40s/it]"
     ]
    },
    {
     "name": "stdout",
     "output_type": "stream",
     "text": [
      "Error retrieving SMILES for PIFITHRIN-A (PFTA): 404 Client Error: PUGREST.NotFound for url: https://pubchem.ncbi.nlm.nih.gov/rest/pug/compound/name/PIFITHRIN-A%20(PFTA)/property/IsomericSMILES/TXT\n"
     ]
    },
    {
     "name": "stderr",
     "output_type": "stream",
     "text": [
      " 38%|█████████████████████████████▌                                                | 1570/4150 [23:53<37:53,  1.13it/s]"
     ]
    },
    {
     "name": "stdout",
     "output_type": "stream",
     "text": [
      "Error retrieving SMILES for PLURISIN #1 (NSC 14613): 400 Client Error: PUGREST.BadRequest for url: https://pubchem.ncbi.nlm.nih.gov/rest/pug/compound/name/PLURISIN%20#1%20(NSC%2014613)/property/IsomericSMILES/TXT\n"
     ]
    },
    {
     "name": "stderr",
     "output_type": "stream",
     "text": [
      " 38%|█████████████████████████████▌                                                | 1574/4150 [23:56<37:45,  1.14it/s]"
     ]
    },
    {
     "name": "stdout",
     "output_type": "stream",
     "text": [
      "Error retrieving SMILES for POLYDATIN: 404 Client Error: PUGREST.NotFound for url: https://pubchem.ncbi.nlm.nih.gov/rest/pug/compound/name/POLYDATIN/property/IsomericSMILES/TXT\n"
     ]
    },
    {
     "name": "stderr",
     "output_type": "stream",
     "text": [
      " 45%|██████████████████████████████████▊                                           | 1854/4150 [28:07<33:43,  1.13it/s]"
     ]
    },
    {
     "name": "stdout",
     "output_type": "stream",
     "text": [
      "Error retrieving SMILES for TETRAETHYLENEPENTAMINE 5HCL: 404 Client Error: PUGREST.NotFound for url: https://pubchem.ncbi.nlm.nih.gov/rest/pug/compound/name/TETRAETHYLENEPENTAMINE%205HCL/property/IsomericSMILES/TXT\n"
     ]
    },
    {
     "name": "stderr",
     "output_type": "stream",
     "text": [
      " 50%|███████████████████████████████████████▎                                      | 2093/4150 [31:43<30:30,  1.12it/s]"
     ]
    },
    {
     "name": "stdout",
     "output_type": "stream",
     "text": [
      "Error retrieving SMILES for Triciribinephosphate: 404 Client Error: PUGREST.NotFound for url: https://pubchem.ncbi.nlm.nih.gov/rest/pug/compound/name/Triciribinephosphate/property/IsomericSMILES/TXT\n"
     ]
    },
    {
     "name": "stderr",
     "output_type": "stream",
     "text": [
      " 52%|████████████████████████████████████████▎                                     | 2143/4150 [32:29<29:59,  1.12it/s]"
     ]
    },
    {
     "name": "stdout",
     "output_type": "stream",
     "text": [
      "Error retrieving SMILES for ONO-4059 analog: 404 Client Error: PUGREST.NotFound for url: https://pubchem.ncbi.nlm.nih.gov/rest/pug/compound/name/ONO-4059%20analog/property/IsomericSMILES/TXT\n"
     ]
    },
    {
     "name": "stderr",
     "output_type": "stream",
     "text": [
      " 52%|████████████████████████████████████████▊                                     | 2171/4150 [32:54<29:43,  1.11it/s]"
     ]
    },
    {
     "name": "stdout",
     "output_type": "stream",
     "text": [
      "Error retrieving SMILES for Cdk/Crk Inhibitor: 404 Client Error: PUGREST.NotFound for url: https://pubchem.ncbi.nlm.nih.gov/rest/pug/compound/name/Cdk/Crk%20Inhibitor/property/IsomericSMILES/TXT\n"
     ]
    },
    {
     "name": "stderr",
     "output_type": "stream",
     "text": [
      " 57%|████████████████████████████████████████████▋                                 | 2375/4150 [36:02<26:51,  1.10it/s]"
     ]
    },
    {
     "name": "stdout",
     "output_type": "stream",
     "text": [
      "Error retrieving SMILES for 3',4'-Diacetylafzelin: 404 Client Error: PUGREST.NotFound for url: https://pubchem.ncbi.nlm.nih.gov/rest/pug/compound/name/3',4'-Diacetylafzelin/property/IsomericSMILES/TXT\n"
     ]
    },
    {
     "name": "stderr",
     "output_type": "stream",
     "text": [
      " 57%|████████████████████████████████████████████▋                                 | 2379/4150 [36:05<25:49,  1.14it/s]"
     ]
    },
    {
     "name": "stdout",
     "output_type": "stream",
     "text": [
      "Error retrieving SMILES for SUDAHWBOROXANE-UHFFFAOYSA-N: 404 Client Error: PUGREST.NotFound for url: https://pubchem.ncbi.nlm.nih.gov/rest/pug/compound/name/SUDAHWBOROXANE-UHFFFAOYSA-N/property/IsomericSMILES/TXT\n"
     ]
    },
    {
     "name": "stderr",
     "output_type": "stream",
     "text": [
      " 58%|████████████████████████████████████████████▉                                 | 2391/4150 [36:16<25:54,  1.13it/s]"
     ]
    },
    {
     "name": "stdout",
     "output_type": "stream",
     "text": [
      "Error retrieving SMILES for ERK 11e: 404 Client Error: PUGREST.NotFound for url: https://pubchem.ncbi.nlm.nih.gov/rest/pug/compound/name/ERK%2011e/property/IsomericSMILES/TXT\n"
     ]
    },
    {
     "name": "stderr",
     "output_type": "stream",
     "text": [
      " 58%|█████████████████████████████████████████████▎                                | 2412/4150 [36:35<25:58,  1.12it/s]"
     ]
    },
    {
     "name": "stdout",
     "output_type": "stream",
     "text": [
      "Error retrieving SMILES for AGN-PC-0MU5N5: 404 Client Error: PUGREST.NotFound for url: https://pubchem.ncbi.nlm.nih.gov/rest/pug/compound/name/AGN-PC-0MU5N5/property/IsomericSMILES/TXT\n"
     ]
    },
    {
     "name": "stderr",
     "output_type": "stream",
     "text": [
      " 61%|███████████████████████████████████████████████▉                              | 2550/4150 [38:42<24:23,  1.09it/s]"
     ]
    },
    {
     "name": "stdout",
     "output_type": "stream",
     "text": [
      "Error retrieving SMILES for ZINC18182079: 404 Client Error: PUGREST.NotFound for url: https://pubchem.ncbi.nlm.nih.gov/rest/pug/compound/name/ZINC18182079/property/IsomericSMILES/TXT\n"
     ]
    },
    {
     "name": "stderr",
     "output_type": "stream",
     "text": [
      " 63%|█████████████████████████████████████████████████▏                            | 2619/4150 [39:45<22:26,  1.14it/s]"
     ]
    },
    {
     "name": "stdout",
     "output_type": "stream",
     "text": [
      "Error retrieving SMILES for AK176003: 404 Client Error: PUGREST.NotFound for url: https://pubchem.ncbi.nlm.nih.gov/rest/pug/compound/name/AK176003/property/IsomericSMILES/TXT\n"
     ]
    },
    {
     "name": "stderr",
     "output_type": "stream",
     "text": [
      " 66%|███████████████████████████████████████████████████▊                          | 2759/4150 [41:53<20:14,  1.15it/s]"
     ]
    },
    {
     "name": "stdout",
     "output_type": "stream",
     "text": [
      "Error retrieving SMILES for ZINC21999985: 404 Client Error: PUGREST.NotFound for url: https://pubchem.ncbi.nlm.nih.gov/rest/pug/compound/name/ZINC21999985/property/IsomericSMILES/TXT\n"
     ]
    },
    {
     "name": "stderr",
     "output_type": "stream",
     "text": [
      " 67%|████████████████████████████████████████████████████                          | 2773/4150 [42:06<20:15,  1.13it/s]"
     ]
    },
    {
     "name": "stdout",
     "output_type": "stream",
     "text": [
      "Error retrieving SMILES for DSSTox_CID_31408: 404 Client Error: PUGREST.NotFound for url: https://pubchem.ncbi.nlm.nih.gov/rest/pug/compound/name/DSSTox_CID_31408/property/IsomericSMILES/TXT\n"
     ]
    },
    {
     "name": "stderr",
     "output_type": "stream",
     "text": [
      " 67%|████████████████████████████████████████████████████▎                         | 2782/4150 [42:14<20:08,  1.13it/s]"
     ]
    },
    {
     "name": "stdout",
     "output_type": "stream",
     "text": [
      "Error retrieving SMILES for ZINC84688828: 404 Client Error: PUGREST.NotFound for url: https://pubchem.ncbi.nlm.nih.gov/rest/pug/compound/name/ZINC84688828/property/IsomericSMILES/TXT\n"
     ]
    },
    {
     "name": "stderr",
     "output_type": "stream",
     "text": [
      " 71%|███████████████████████████████████████████████████████▌                      | 2959/4150 [44:57<17:20,  1.14it/s]"
     ]
    },
    {
     "name": "stdout",
     "output_type": "stream",
     "text": [
      "Error retrieving SMILES for QCR-20: 404 Client Error: PUGREST.NotFound for url: https://pubchem.ncbi.nlm.nih.gov/rest/pug/compound/name/QCR-20/property/IsomericSMILES/TXT\n"
     ]
    },
    {
     "name": "stderr",
     "output_type": "stream",
     "text": [
      " 72%|████████████████████████████████████████████████████████▏                     | 2990/4150 [45:25<17:18,  1.12it/s]"
     ]
    },
    {
     "name": "stdout",
     "output_type": "stream",
     "text": [
      "Error retrieving SMILES for AC1NPCOI: 404 Client Error: PUGREST.NotFound for url: https://pubchem.ncbi.nlm.nih.gov/rest/pug/compound/name/AC1NPCOI/property/IsomericSMILES/TXT\n"
     ]
    },
    {
     "name": "stderr",
     "output_type": "stream",
     "text": [
      " 72%|████████████████████████████████████████████████████████▍                     | 3002/4150 [45:35<16:58,  1.13it/s]"
     ]
    },
    {
     "name": "stdout",
     "output_type": "stream",
     "text": [
      "Error retrieving SMILES for Pd-1/pd-l1 inhibitor 1: 400 Client Error: PUGREST.BadRequest for url: https://pubchem.ncbi.nlm.nih.gov/rest/pug/compound/name/Pd-1/pd-l1%20inhibitor%201/property/IsomericSMILES/TXT\n"
     ]
    },
    {
     "name": "stderr",
     "output_type": "stream",
     "text": [
      " 74%|█████████████████████████████████████████████████████████▎                    | 3052/4150 [46:23<16:17,  1.12it/s]"
     ]
    },
    {
     "name": "stdout",
     "output_type": "stream",
     "text": [
      "Error retrieving SMILES for MOLPORT-042-665-727: 404 Client Error: PUGREST.NotFound for url: https://pubchem.ncbi.nlm.nih.gov/rest/pug/compound/name/MOLPORT-042-665-727/property/IsomericSMILES/TXT\n"
     ]
    },
    {
     "name": "stderr",
     "output_type": "stream",
     "text": [
      " 76%|███████████████████████████████████████████████████████████▌                  | 3167/4150 [48:08<14:34,  1.12it/s]"
     ]
    },
    {
     "name": "stdout",
     "output_type": "stream",
     "text": [
      "Error retrieving SMILES for ZINC242723022: 404 Client Error: PUGREST.NotFound for url: https://pubchem.ncbi.nlm.nih.gov/rest/pug/compound/name/ZINC242723022/property/IsomericSMILES/TXT\n"
     ]
    },
    {
     "name": "stderr",
     "output_type": "stream",
     "text": [
      " 77%|████████████████████████████████████████████████████████████▍                 | 3213/4150 [48:49<13:58,  1.12it/s]"
     ]
    },
    {
     "name": "stdout",
     "output_type": "stream",
     "text": [
      "Error retrieving SMILES for AC1OF4NF: 404 Client Error: PUGREST.NotFound for url: https://pubchem.ncbi.nlm.nih.gov/rest/pug/compound/name/AC1OF4NF/property/IsomericSMILES/TXT\n"
     ]
    },
    {
     "name": "stderr",
     "output_type": "stream",
     "text": [
      " 78%|████████████████████████████████████████████████████████████▍                 | 3218/4150 [48:54<13:29,  1.15it/s]"
     ]
    },
    {
     "name": "stdout",
     "output_type": "stream",
     "text": [
      "Error retrieving SMILES for Ergosterine: 404 Client Error: PUGREST.NotFound for url: https://pubchem.ncbi.nlm.nih.gov/rest/pug/compound/name/Ergosterine/property/IsomericSMILES/TXT\n"
     ]
    },
    {
     "name": "stderr",
     "output_type": "stream",
     "text": [
      " 79%|█████████████████████████████████████████████████████████████▊                | 3291/4150 [50:00<12:34,  1.14it/s]"
     ]
    },
    {
     "name": "stdout",
     "output_type": "stream",
     "text": [
      "Error retrieving SMILES for AC1O7H3F: 404 Client Error: PUGREST.NotFound for url: https://pubchem.ncbi.nlm.nih.gov/rest/pug/compound/name/AC1O7H3F/property/IsomericSMILES/TXT\n"
     ]
    },
    {
     "name": "stderr",
     "output_type": "stream",
     "text": [
      " 80%|██████████████████████████████████████████████████████████████▋               | 3333/4150 [50:38<12:10,  1.12it/s]"
     ]
    },
    {
     "name": "stdout",
     "output_type": "stream",
     "text": [
      "Error retrieving SMILES for ZINC250325905: 404 Client Error: PUGREST.NotFound for url: https://pubchem.ncbi.nlm.nih.gov/rest/pug/compound/name/ZINC250325905/property/IsomericSMILES/TXT\n"
     ]
    },
    {
     "name": "stderr",
     "output_type": "stream",
     "text": [
      " 80%|██████████████████████████████████████████████████████████████▋               | 3336/4150 [50:41<12:26,  1.09it/s]"
     ]
    },
    {
     "name": "stdout",
     "output_type": "stream",
     "text": [
      "Error retrieving SMILES for AC1NUNML: 404 Client Error: PUGREST.NotFound for url: https://pubchem.ncbi.nlm.nih.gov/rest/pug/compound/name/AC1NUNML/property/IsomericSMILES/TXT\n"
     ]
    },
    {
     "name": "stderr",
     "output_type": "stream",
     "text": [
      " 81%|██████████████████████████████████████████████████████████████▊               | 3342/4150 [50:46<11:51,  1.14it/s]"
     ]
    },
    {
     "name": "stdout",
     "output_type": "stream",
     "text": [
      "Error retrieving SMILES for AK198640: 404 Client Error: PUGREST.NotFound for url: https://pubchem.ncbi.nlm.nih.gov/rest/pug/compound/name/AK198640/property/IsomericSMILES/TXT\n"
     ]
    },
    {
     "name": "stderr",
     "output_type": "stream",
     "text": [
      " 81%|██████████████████████████████████████████████████████████████▊               | 3345/4150 [50:49<11:50,  1.13it/s]"
     ]
    },
    {
     "name": "stdout",
     "output_type": "stream",
     "text": [
      "Error retrieving SMILES for AC1LAYFC: 404 Client Error: PUGREST.NotFound for url: https://pubchem.ncbi.nlm.nih.gov/rest/pug/compound/name/AC1LAYFC/property/IsomericSMILES/TXT\n"
     ]
    },
    {
     "name": "stderr",
     "output_type": "stream",
     "text": [
      " 81%|███████████████████████████████████████████████████████████████▌              | 3381/4150 [51:21<11:14,  1.14it/s]"
     ]
    },
    {
     "name": "stdout",
     "output_type": "stream",
     "text": [
      "Error retrieving SMILES for AC1LU7HW: 404 Client Error: PUGREST.NotFound for url: https://pubchem.ncbi.nlm.nih.gov/rest/pug/compound/name/AC1LU7HW/property/IsomericSMILES/TXT\n"
     ]
    },
    {
     "name": "stderr",
     "output_type": "stream",
     "text": [
      " 82%|███████████████████████████████████████████████████████████████▊              | 3394/4150 [51:33<11:11,  1.13it/s]"
     ]
    },
    {
     "name": "stdout",
     "output_type": "stream",
     "text": [
      "Error retrieving SMILES for ZD7288 HYDRATE: 404 Client Error: PUGREST.NotFound for url: https://pubchem.ncbi.nlm.nih.gov/rest/pug/compound/name/ZD7288%20HYDRATE/property/IsomericSMILES/TXT\n"
     ]
    },
    {
     "name": "stderr",
     "output_type": "stream",
     "text": [
      " 83%|████████████████████████████████████████████████████████████████▋             | 3445/4150 [52:19<10:33,  1.11it/s]"
     ]
    },
    {
     "name": "stdout",
     "output_type": "stream",
     "text": [
      "Error retrieving SMILES for AC1O53DL: 404 Client Error: PUGREST.NotFound for url: https://pubchem.ncbi.nlm.nih.gov/rest/pug/compound/name/AC1O53DL/property/IsomericSMILES/TXT\n"
     ]
    },
    {
     "name": "stderr",
     "output_type": "stream",
     "text": [
      " 83%|█████████████████████████████████████████████████████████████████             | 3461/4150 [52:34<10:05,  1.14it/s]"
     ]
    },
    {
     "name": "stdout",
     "output_type": "stream",
     "text": [
      "Error retrieving SMILES for Bacitracin (Zinc): 404 Client Error: PUGREST.NotFound for url: https://pubchem.ncbi.nlm.nih.gov/rest/pug/compound/name/Bacitracin%20(Zinc)/property/IsomericSMILES/TXT\n"
     ]
    },
    {
     "name": "stderr",
     "output_type": "stream",
     "text": [
      " 85%|██████████████████████████████████████████████████████████████████            | 3516/4150 [53:23<09:13,  1.15it/s]"
     ]
    },
    {
     "name": "stdout",
     "output_type": "stream",
     "text": [
      "Error retrieving SMILES for TIC10 isomer: 404 Client Error: PUGREST.NotFound for url: https://pubchem.ncbi.nlm.nih.gov/rest/pug/compound/name/TIC10%20isomer/property/IsomericSMILES/TXT\n"
     ]
    },
    {
     "name": "stderr",
     "output_type": "stream",
     "text": [
      " 85%|██████████████████████████████████████████████████████████████████▏           | 3520/4150 [53:26<09:04,  1.16it/s]"
     ]
    },
    {
     "name": "stdout",
     "output_type": "stream",
     "text": [
      "Error retrieving SMILES for AK170455: 404 Client Error: PUGREST.NotFound for url: https://pubchem.ncbi.nlm.nih.gov/rest/pug/compound/name/AK170455/property/IsomericSMILES/TXT\n"
     ]
    },
    {
     "name": "stderr",
     "output_type": "stream",
     "text": [
      " 85%|██████████████████████████████████████████████████████████████████▏           | 3522/4150 [53:28<09:24,  1.11it/s]"
     ]
    },
    {
     "name": "stdout",
     "output_type": "stream",
     "text": [
      "Error retrieving SMILES for AK-77283: 404 Client Error: PUGREST.NotFound for url: https://pubchem.ncbi.nlm.nih.gov/rest/pug/compound/name/AK-77283/property/IsomericSMILES/TXT\n"
     ]
    },
    {
     "name": "stderr",
     "output_type": "stream",
     "text": [
      " 85%|██████████████████████████████████████████████████████████████████▎           | 3529/4150 [53:34<08:54,  1.16it/s]"
     ]
    },
    {
     "name": "stdout",
     "output_type": "stream",
     "text": [
      "Error retrieving SMILES for AC1L1KJK: 404 Client Error: PUGREST.NotFound for url: https://pubchem.ncbi.nlm.nih.gov/rest/pug/compound/name/AC1L1KJK/property/IsomericSMILES/TXT\n"
     ]
    },
    {
     "name": "stderr",
     "output_type": "stream",
     "text": [
      " 86%|███████████████████████████████████████████████████████████████████▏          | 3573/4150 [54:14<08:17,  1.16it/s]"
     ]
    },
    {
     "name": "stdout",
     "output_type": "stream",
     "text": [
      "Error retrieving SMILES for ZINC208949883: 404 Client Error: PUGREST.NotFound for url: https://pubchem.ncbi.nlm.nih.gov/rest/pug/compound/name/ZINC208949883/property/IsomericSMILES/TXT\n"
     ]
    },
    {
     "name": "stderr",
     "output_type": "stream",
     "text": [
      " 86%|███████████████████████████████████████████████████████████████████▏          | 3574/4150 [54:14<08:10,  1.17it/s]"
     ]
    },
    {
     "name": "stdout",
     "output_type": "stream",
     "text": [
      "Error retrieving SMILES for ZINC11616871: 404 Client Error: PUGREST.NotFound for url: https://pubchem.ncbi.nlm.nih.gov/rest/pug/compound/name/ZINC11616871/property/IsomericSMILES/TXT\n"
     ]
    },
    {
     "name": "stderr",
     "output_type": "stream",
     "text": [
      " 86%|███████████████████████████████████████████████████████████████████▎          | 3583/4150 [54:22<08:18,  1.14it/s]"
     ]
    },
    {
     "name": "stdout",
     "output_type": "stream",
     "text": [
      "Error retrieving SMILES for ZINC117147304: 404 Client Error: PUGREST.NotFound for url: https://pubchem.ncbi.nlm.nih.gov/rest/pug/compound/name/ZINC117147304/property/IsomericSMILES/TXT\n"
     ]
    },
    {
     "name": "stderr",
     "output_type": "stream",
     "text": [
      " 87%|███████████████████████████████████████████████████████████████████▌          | 3595/4150 [54:33<08:18,  1.11it/s]"
     ]
    },
    {
     "name": "stdout",
     "output_type": "stream",
     "text": [
      "Error retrieving SMILES for KS-00001CUZ: 404 Client Error: PUGREST.NotFound for url: https://pubchem.ncbi.nlm.nih.gov/rest/pug/compound/name/KS-00001CUZ/property/IsomericSMILES/TXT\n"
     ]
    },
    {
     "name": "stderr",
     "output_type": "stream",
     "text": [
      " 87%|███████████████████████████████████████████████████████████████████▌          | 3596/4150 [54:34<08:04,  1.14it/s]"
     ]
    },
    {
     "name": "stdout",
     "output_type": "stream",
     "text": [
      "Error retrieving SMILES for CTK8E8456: 404 Client Error: PUGREST.NotFound for url: https://pubchem.ncbi.nlm.nih.gov/rest/pug/compound/name/CTK8E8456/property/IsomericSMILES/TXT\n"
     ]
    },
    {
     "name": "stderr",
     "output_type": "stream",
     "text": [
      " 87%|███████████████████████████████████████████████████████████████████▋          | 3604/4150 [54:41<07:59,  1.14it/s]"
     ]
    },
    {
     "name": "stdout",
     "output_type": "stream",
     "text": [
      "Error retrieving SMILES for CTK8F0346: 404 Client Error: PUGREST.NotFound for url: https://pubchem.ncbi.nlm.nih.gov/rest/pug/compound/name/CTK8F0346/property/IsomericSMILES/TXT\n"
     ]
    },
    {
     "name": "stderr",
     "output_type": "stream",
     "text": [
      " 87%|████████████████████████████████████████████████████████████████████          | 3619/4150 [54:55<07:45,  1.14it/s]"
     ]
    },
    {
     "name": "stdout",
     "output_type": "stream",
     "text": [
      "Error retrieving SMILES for ZINC208012538: 404 Client Error: PUGREST.NotFound for url: https://pubchem.ncbi.nlm.nih.gov/rest/pug/compound/name/ZINC208012538/property/IsomericSMILES/TXT\n"
     ]
    },
    {
     "name": "stderr",
     "output_type": "stream",
     "text": [
      " 87%|████████████████████████████████████████████████████████████████████          | 3623/4150 [54:58<07:35,  1.16it/s]"
     ]
    },
    {
     "name": "stdout",
     "output_type": "stream",
     "text": [
      "Error retrieving SMILES for ZINC17545571: 404 Client Error: PUGREST.NotFound for url: https://pubchem.ncbi.nlm.nih.gov/rest/pug/compound/name/ZINC17545571/property/IsomericSMILES/TXT\n"
     ]
    },
    {
     "name": "stderr",
     "output_type": "stream",
     "text": [
      " 87%|████████████████████████████████████████████████████████████████████          | 3624/4150 [54:59<07:28,  1.17it/s]"
     ]
    },
    {
     "name": "stdout",
     "output_type": "stream",
     "text": [
      "Error retrieving SMILES for 04/04/7218: 404 Client Error: PUGREST.NotFound for url: https://pubchem.ncbi.nlm.nih.gov/rest/pug/compound/name/04/04/7218/property/IsomericSMILES/TXT\n"
     ]
    },
    {
     "name": "stderr",
     "output_type": "stream",
     "text": [
      " 87%|████████████████████████████████████████████████████████████████████▏         | 3626/4150 [55:01<07:22,  1.18it/s]"
     ]
    },
    {
     "name": "stdout",
     "output_type": "stream",
     "text": [
      "Error retrieving SMILES for Curcumin, Curcuma longa L.: 404 Client Error: PUGREST.NotFound for url: https://pubchem.ncbi.nlm.nih.gov/rest/pug/compound/name/Curcumin,%20Curcuma%20longa%20L./property/IsomericSMILES/TXT\n"
     ]
    },
    {
     "name": "stderr",
     "output_type": "stream",
     "text": [
      " 88%|████████████████████████████████████████████████████████████████████▌         | 3647/4150 [55:19<07:23,  1.13it/s]"
     ]
    },
    {
     "name": "stdout",
     "output_type": "stream",
     "text": [
      "Error retrieving SMILES for ZINC34894448: 404 Client Error: PUGREST.NotFound for url: https://pubchem.ncbi.nlm.nih.gov/rest/pug/compound/name/ZINC34894448/property/IsomericSMILES/TXT\n"
     ]
    },
    {
     "name": "stderr",
     "output_type": "stream",
     "text": [
      " 88%|████████████████████████████████████████████████████████████████████▌         | 3650/4150 [55:22<07:20,  1.14it/s]"
     ]
    },
    {
     "name": "stdout",
     "output_type": "stream",
     "text": [
      "Error retrieving SMILES for AC1L9B3J: 404 Client Error: PUGREST.NotFound for url: https://pubchem.ncbi.nlm.nih.gov/rest/pug/compound/name/AC1L9B3J/property/IsomericSMILES/TXT\n"
     ]
    },
    {
     "name": "stderr",
     "output_type": "stream",
     "text": [
      " 88%|████████████████████████████████████████████████████████████████████▋         | 3652/4150 [55:24<07:29,  1.11it/s]"
     ]
    },
    {
     "name": "stdout",
     "output_type": "stream",
     "text": [
      "Error retrieving SMILES for ZINC100015731: 404 Client Error: PUGREST.NotFound for url: https://pubchem.ncbi.nlm.nih.gov/rest/pug/compound/name/ZINC100015731/property/IsomericSMILES/TXT\n"
     ]
    },
    {
     "name": "stderr",
     "output_type": "stream",
     "text": [
      " 88%|█████████████████████████████████████████████████████████████████████         | 3672/4150 [55:41<06:58,  1.14it/s]"
     ]
    },
    {
     "name": "stdout",
     "output_type": "stream",
     "text": [
      "Error retrieving SMILES for AC1L2QK3: 404 Client Error: PUGREST.NotFound for url: https://pubchem.ncbi.nlm.nih.gov/rest/pug/compound/name/AC1L2QK3/property/IsomericSMILES/TXT\n"
     ]
    },
    {
     "name": "stderr",
     "output_type": "stream",
     "text": [
      " 89%|█████████████████████████████████████████████████████████████████████         | 3674/4150 [55:43<06:54,  1.15it/s]"
     ]
    },
    {
     "name": "stdout",
     "output_type": "stream",
     "text": [
      "Error retrieving SMILES for KS-00001D5I: 404 Client Error: PUGREST.NotFound for url: https://pubchem.ncbi.nlm.nih.gov/rest/pug/compound/name/KS-00001D5I/property/IsomericSMILES/TXT\n"
     ]
    },
    {
     "name": "stderr",
     "output_type": "stream",
     "text": [
      " 89%|█████████████████████████████████████████████████████████████████████         | 3677/4150 [55:46<06:52,  1.15it/s]"
     ]
    },
    {
     "name": "stdout",
     "output_type": "stream",
     "text": [
      "Error retrieving SMILES for AC1Q29DP: 404 Client Error: PUGREST.NotFound for url: https://pubchem.ncbi.nlm.nih.gov/rest/pug/compound/name/AC1Q29DP/property/IsomericSMILES/TXT\n"
     ]
    },
    {
     "name": "stderr",
     "output_type": "stream",
     "text": [
      " 89%|█████████████████████████████████████████████████████████████████████▏        | 3684/4150 [55:52<06:41,  1.16it/s]"
     ]
    },
    {
     "name": "stdout",
     "output_type": "stream",
     "text": [
      "Error retrieving SMILES for KS-00000Y5E: 404 Client Error: PUGREST.NotFound for url: https://pubchem.ncbi.nlm.nih.gov/rest/pug/compound/name/KS-00000Y5E/property/IsomericSMILES/TXT\n"
     ]
    },
    {
     "name": "stderr",
     "output_type": "stream",
     "text": [
      " 89%|█████████████████████████████████████████████████████████████████████▎        | 3691/4150 [55:58<06:46,  1.13it/s]"
     ]
    },
    {
     "name": "stdout",
     "output_type": "stream",
     "text": [
      "Error retrieving SMILES for KGBPLKOPSFDBOX-UHFFFAOYSA-N: 404 Client Error: PUGREST.NotFound for url: https://pubchem.ncbi.nlm.nih.gov/rest/pug/compound/name/KGBPLKOPSFDBOX-UHFFFAOYSA-N/property/IsomericSMILES/TXT\n"
     ]
    },
    {
     "name": "stderr",
     "output_type": "stream",
     "text": [
      " 89%|█████████████████████████████████████████████████████████████████████▌        | 3703/4150 [56:09<06:39,  1.12it/s]"
     ]
    },
    {
     "name": "stdout",
     "output_type": "stream",
     "text": [
      "Error retrieving SMILES for AC1L1IJY: 404 Client Error: PUGREST.NotFound for url: https://pubchem.ncbi.nlm.nih.gov/rest/pug/compound/name/AC1L1IJY/property/IsomericSMILES/TXT\n"
     ]
    },
    {
     "name": "stderr",
     "output_type": "stream",
     "text": [
      " 89%|█████████████████████████████████████████████████████████████████████▌        | 3704/4150 [56:10<06:31,  1.14it/s]"
     ]
    },
    {
     "name": "stdout",
     "output_type": "stream",
     "text": [
      "Error retrieving SMILES for AK160201: 404 Client Error: PUGREST.NotFound for url: https://pubchem.ncbi.nlm.nih.gov/rest/pug/compound/name/AK160201/property/IsomericSMILES/TXT\n"
     ]
    },
    {
     "name": "stderr",
     "output_type": "stream",
     "text": [
      " 89%|█████████████████████████████████████████████████████████████████████▋        | 3706/4150 [56:11<06:25,  1.15it/s]"
     ]
    },
    {
     "name": "stdout",
     "output_type": "stream",
     "text": [
      "Error retrieving SMILES for AK174336: 404 Client Error: PUGREST.NotFound for url: https://pubchem.ncbi.nlm.nih.gov/rest/pug/compound/name/AK174336/property/IsomericSMILES/TXT\n"
     ]
    },
    {
     "name": "stderr",
     "output_type": "stream",
     "text": [
      " 89%|█████████████████████████████████████████████████████████████████████▋        | 3707/4150 [56:12<06:20,  1.16it/s]"
     ]
    },
    {
     "name": "stdout",
     "output_type": "stream",
     "text": [
      "Error retrieving SMILES for AC1L1DW2: 404 Client Error: PUGREST.NotFound for url: https://pubchem.ncbi.nlm.nih.gov/rest/pug/compound/name/AC1L1DW2/property/IsomericSMILES/TXT\n"
     ]
    },
    {
     "name": "stderr",
     "output_type": "stream",
     "text": [
      " 89%|█████████████████████████████████████████████████████████████████████▋        | 3710/4150 [56:15<06:26,  1.14it/s]"
     ]
    },
    {
     "name": "stdout",
     "output_type": "stream",
     "text": [
      "Error retrieving SMILES for AC1NRBJE: 404 Client Error: PUGREST.NotFound for url: https://pubchem.ncbi.nlm.nih.gov/rest/pug/compound/name/AC1NRBJE/property/IsomericSMILES/TXT\n"
     ]
    },
    {
     "name": "stderr",
     "output_type": "stream",
     "text": [
      " 90%|██████████████████████████████████████████████████████████████████████        | 3726/4150 [56:29<06:15,  1.13it/s]"
     ]
    },
    {
     "name": "stdout",
     "output_type": "stream",
     "text": [
      "Error retrieving SMILES for ZINC896472: 404 Client Error: PUGREST.NotFound for url: https://pubchem.ncbi.nlm.nih.gov/rest/pug/compound/name/ZINC896472/property/IsomericSMILES/TXT\n"
     ]
    },
    {
     "name": "stderr",
     "output_type": "stream",
     "text": [
      " 90%|██████████████████████████████████████████████████████████████████████▏       | 3735/4150 [56:37<05:57,  1.16it/s]"
     ]
    },
    {
     "name": "stdout",
     "output_type": "stream",
     "text": [
      "Error retrieving SMILES for Provitamin A1: 404 Client Error: PUGREST.NotFound for url: https://pubchem.ncbi.nlm.nih.gov/rest/pug/compound/name/Provitamin%20A1/property/IsomericSMILES/TXT\n"
     ]
    },
    {
     "name": "stderr",
     "output_type": "stream",
     "text": [
      " 90%|██████████████████████████████████████████████████████████████████████▎       | 3739/4150 [56:41<06:23,  1.07it/s]"
     ]
    },
    {
     "name": "stdout",
     "output_type": "stream",
     "text": [
      "Error retrieving SMILES for AC1OFCEV: 404 Client Error: PUGREST.NotFound for url: https://pubchem.ncbi.nlm.nih.gov/rest/pug/compound/name/AC1OFCEV/property/IsomericSMILES/TXT\n"
     ]
    },
    {
     "name": "stderr",
     "output_type": "stream",
     "text": [
      " 90%|██████████████████████████████████████████████████████████████████████▎       | 3742/4150 [56:43<05:57,  1.14it/s]"
     ]
    },
    {
     "name": "stdout",
     "output_type": "stream",
     "text": [
      "Error retrieving SMILES for ZINC3881972: 404 Client Error: PUGREST.NotFound for url: https://pubchem.ncbi.nlm.nih.gov/rest/pug/compound/name/ZINC3881972/property/IsomericSMILES/TXT\n"
     ]
    },
    {
     "name": "stderr",
     "output_type": "stream",
     "text": [
      " 90%|██████████████████████████████████████████████████████████████████████▍       | 3745/4150 [56:46<05:54,  1.14it/s]"
     ]
    },
    {
     "name": "stdout",
     "output_type": "stream",
     "text": [
      "Error retrieving SMILES for ZINC208951860: 404 Client Error: PUGREST.NotFound for url: https://pubchem.ncbi.nlm.nih.gov/rest/pug/compound/name/ZINC208951860/property/IsomericSMILES/TXT\n"
     ]
    },
    {
     "name": "stderr",
     "output_type": "stream",
     "text": [
      " 90%|██████████████████████████████████████████████████████████████████████▍       | 3746/4150 [56:47<05:48,  1.16it/s]"
     ]
    },
    {
     "name": "stdout",
     "output_type": "stream",
     "text": [
      "Error retrieving SMILES for AC1MWLHC: 404 Client Error: PUGREST.NotFound for url: https://pubchem.ncbi.nlm.nih.gov/rest/pug/compound/name/AC1MWLHC/property/IsomericSMILES/TXT\n"
     ]
    },
    {
     "name": "stderr",
     "output_type": "stream",
     "text": [
      " 91%|██████████████████████████████████████████████████████████████████████▋       | 3758/4150 [56:57<05:40,  1.15it/s]"
     ]
    },
    {
     "name": "stdout",
     "output_type": "stream",
     "text": [
      "Error retrieving SMILES for AC1OFCJY: 404 Client Error: PUGREST.NotFound for url: https://pubchem.ncbi.nlm.nih.gov/rest/pug/compound/name/AC1OFCJY/property/IsomericSMILES/TXT\n"
     ]
    },
    {
     "name": "stderr",
     "output_type": "stream",
     "text": [
      " 91%|██████████████████████████████████████████████████████████████████████▋       | 3761/4150 [57:00<05:38,  1.15it/s]"
     ]
    },
    {
     "name": "stdout",
     "output_type": "stream",
     "text": [
      "Error retrieving SMILES for ZINC44963243: 404 Client Error: PUGREST.NotFound for url: https://pubchem.ncbi.nlm.nih.gov/rest/pug/compound/name/ZINC44963243/property/IsomericSMILES/TXT\n"
     ]
    },
    {
     "name": "stderr",
     "output_type": "stream",
     "text": [
      " 91%|██████████████████████████████████████████████████████████████████████▊       | 3768/4150 [57:06<05:41,  1.12it/s]"
     ]
    },
    {
     "name": "stdout",
     "output_type": "stream",
     "text": [
      "Error retrieving SMILES for AC1O41R4: 404 Client Error: PUGREST.NotFound for url: https://pubchem.ncbi.nlm.nih.gov/rest/pug/compound/name/AC1O41R4/property/IsomericSMILES/TXT\n"
     ]
    },
    {
     "name": "stderr",
     "output_type": "stream",
     "text": [
      " 92%|███████████████████████████████████████████████████████████████████████▍      | 3801/4150 [57:36<05:13,  1.11it/s]"
     ]
    },
    {
     "name": "stdout",
     "output_type": "stream",
     "text": [
      "Error retrieving SMILES for AC1LIMNP: 404 Client Error: PUGREST.NotFound for url: https://pubchem.ncbi.nlm.nih.gov/rest/pug/compound/name/AC1LIMNP/property/IsomericSMILES/TXT\n"
     ]
    },
    {
     "name": "stderr",
     "output_type": "stream",
     "text": [
      " 92%|███████████████████████████████████████████████████████████████████████▋      | 3811/4150 [57:45<04:54,  1.15it/s]"
     ]
    },
    {
     "name": "stdout",
     "output_type": "stream",
     "text": [
      "Error retrieving SMILES for ZINC101426918: 404 Client Error: PUGREST.NotFound for url: https://pubchem.ncbi.nlm.nih.gov/rest/pug/compound/name/ZINC101426918/property/IsomericSMILES/TXT\n"
     ]
    },
    {
     "name": "stderr",
     "output_type": "stream",
     "text": [
      " 92%|███████████████████████████████████████████████████████████████████████▋      | 3816/4150 [57:49<04:57,  1.12it/s]"
     ]
    },
    {
     "name": "stdout",
     "output_type": "stream",
     "text": [
      "Error retrieving SMILES for DSSTox_CID_28582: 404 Client Error: PUGREST.NotFound for url: https://pubchem.ncbi.nlm.nih.gov/rest/pug/compound/name/DSSTox_CID_28582/property/IsomericSMILES/TXT\n"
     ]
    },
    {
     "name": "stderr",
     "output_type": "stream",
     "text": [
      " 92%|███████████████████████████████████████████████████████████████████████▉      | 3827/4150 [57:59<04:51,  1.11it/s]"
     ]
    },
    {
     "name": "stdout",
     "output_type": "stream",
     "text": [
      "Error retrieving SMILES for AC1OF340: 404 Client Error: PUGREST.NotFound for url: https://pubchem.ncbi.nlm.nih.gov/rest/pug/compound/name/AC1OF340/property/IsomericSMILES/TXT\n"
     ]
    },
    {
     "name": "stderr",
     "output_type": "stream",
     "text": [
      " 93%|████████████████████████████████████████████████████████████████████████▏     | 3841/4150 [58:12<04:28,  1.15it/s]"
     ]
    },
    {
     "name": "stdout",
     "output_type": "stream",
     "text": [
      "Error retrieving SMILES for AC1L21NN: 404 Client Error: PUGREST.NotFound for url: https://pubchem.ncbi.nlm.nih.gov/rest/pug/compound/name/AC1L21NN/property/IsomericSMILES/TXT\n"
     ]
    },
    {
     "name": "stderr",
     "output_type": "stream",
     "text": [
      " 93%|████████████████████████████████████████████████████████████████████████▎     | 3847/4150 [58:17<04:35,  1.10it/s]"
     ]
    },
    {
     "name": "stdout",
     "output_type": "stream",
     "text": [
      "Error retrieving SMILES for Phloretin 2'-galactoside: 404 Client Error: PUGREST.NotFound for url: https://pubchem.ncbi.nlm.nih.gov/rest/pug/compound/name/Phloretin%202'-galactoside/property/IsomericSMILES/TXT\n"
     ]
    },
    {
     "name": "stderr",
     "output_type": "stream",
     "text": [
      " 93%|████████████████████████████████████████████████████████████████████████▌     | 3864/4150 [58:33<04:15,  1.12it/s]"
     ]
    },
    {
     "name": "stdout",
     "output_type": "stream",
     "text": [
      "Error retrieving SMILES for ZINC28538988: 404 Client Error: PUGREST.NotFound for url: https://pubchem.ncbi.nlm.nih.gov/rest/pug/compound/name/ZINC28538988/property/IsomericSMILES/TXT\n"
     ]
    },
    {
     "name": "stderr",
     "output_type": "stream",
     "text": [
      " 93%|████████████████████████████████████████████████████████████████████████▋     | 3869/4150 [58:37<04:00,  1.17it/s]"
     ]
    },
    {
     "name": "stdout",
     "output_type": "stream",
     "text": [
      "Error retrieving SMILES for ZINC38139483: 404 Client Error: PUGREST.NotFound for url: https://pubchem.ncbi.nlm.nih.gov/rest/pug/compound/name/ZINC38139483/property/IsomericSMILES/TXT\n"
     ]
    },
    {
     "name": "stderr",
     "output_type": "stream",
     "text": [
      " 93%|████████████████████████████████████████████████████████████████████████▊     | 3875/4150 [58:42<03:59,  1.15it/s]"
     ]
    },
    {
     "name": "stdout",
     "output_type": "stream",
     "text": [
      "Error retrieving SMILES for Poly(2-fluoroadenylic acid): 404 Client Error: PUGREST.NotFound for url: https://pubchem.ncbi.nlm.nih.gov/rest/pug/compound/name/Poly(2-fluoroadenylic%20acid)/property/IsomericSMILES/TXT\n"
     ]
    },
    {
     "name": "stderr",
     "output_type": "stream",
     "text": [
      " 93%|████████████████████████████████████████████████████████████████████████▉     | 3879/4150 [58:46<04:00,  1.12it/s]"
     ]
    },
    {
     "name": "stdout",
     "output_type": "stream",
     "text": [
      "Error retrieving SMILES for AC1LAKOZ: 404 Client Error: PUGREST.NotFound for url: https://pubchem.ncbi.nlm.nih.gov/rest/pug/compound/name/AC1LAKOZ/property/IsomericSMILES/TXT\n"
     ]
    },
    {
     "name": "stderr",
     "output_type": "stream",
     "text": [
      " 94%|█████████████████████████████████████████████████████████████████████████▍    | 3906/4150 [59:10<03:31,  1.15it/s]"
     ]
    },
    {
     "name": "stdout",
     "output_type": "stream",
     "text": [
      "Error retrieving SMILES for 1beta-Methylimipenem: 404 Client Error: PUGREST.NotFound for url: https://pubchem.ncbi.nlm.nih.gov/rest/pug/compound/name/1beta-Methylimipenem/property/IsomericSMILES/TXT\n"
     ]
    },
    {
     "name": "stderr",
     "output_type": "stream",
     "text": [
      " 95%|█████████████████████████████████████████████████████████████████████████▋    | 3923/4150 [59:25<03:57,  1.05s/it]"
     ]
    },
    {
     "name": "stdout",
     "output_type": "stream",
     "text": [
      "Error retrieving SMILES for AC1O7GND: 404 Client Error: PUGREST.NotFound for url: https://pubchem.ncbi.nlm.nih.gov/rest/pug/compound/name/AC1O7GND/property/IsomericSMILES/TXT\n"
     ]
    },
    {
     "name": "stderr",
     "output_type": "stream",
     "text": [
      " 95%|██████████████████████████████████████████████████████████████████████████    | 3939/4150 [59:39<02:59,  1.18it/s]"
     ]
    },
    {
     "name": "stdout",
     "output_type": "stream",
     "text": [
      "Error retrieving SMILES for AC1LCZJT: 404 Client Error: PUGREST.NotFound for url: https://pubchem.ncbi.nlm.nih.gov/rest/pug/compound/name/AC1LCZJT/property/IsomericSMILES/TXT\n"
     ]
    },
    {
     "name": "stderr",
     "output_type": "stream",
     "text": [
      " 95%|██████████████████████████████████████████████████████████████████████████    | 3940/4150 [59:40<02:59,  1.17it/s]"
     ]
    },
    {
     "name": "stdout",
     "output_type": "stream",
     "text": [
      "Error retrieving SMILES for C10H10O4: 404 Client Error: PUGREST.NotFound for url: https://pubchem.ncbi.nlm.nih.gov/rest/pug/compound/name/C10H10O4/property/IsomericSMILES/TXT\n"
     ]
    },
    {
     "name": "stderr",
     "output_type": "stream",
     "text": [
      " 95%|██████████████████████████████████████████████████████████████████████████    | 3941/4150 [59:41<02:58,  1.17it/s]"
     ]
    },
    {
     "name": "stdout",
     "output_type": "stream",
     "text": [
      "Error retrieving SMILES for ZINC103939005: 404 Client Error: PUGREST.NotFound for url: https://pubchem.ncbi.nlm.nih.gov/rest/pug/compound/name/ZINC103939005/property/IsomericSMILES/TXT\n"
     ]
    },
    {
     "name": "stderr",
     "output_type": "stream",
     "text": [
      " 95%|██████████████████████████████████████████████████████████████████████████▏   | 3947/4150 [59:47<03:00,  1.13it/s]"
     ]
    },
    {
     "name": "stdout",
     "output_type": "stream",
     "text": [
      "Error retrieving SMILES for AC1L9B2S: 404 Client Error: PUGREST.NotFound for url: https://pubchem.ncbi.nlm.nih.gov/rest/pug/compound/name/AC1L9B2S/property/IsomericSMILES/TXT\n"
     ]
    },
    {
     "name": "stderr",
     "output_type": "stream",
     "text": [
      " 95%|██████████████████████████████████████████████████████████████████████████▍   | 3958/4150 [59:56<02:47,  1.15it/s]"
     ]
    },
    {
     "name": "stdout",
     "output_type": "stream",
     "text": [
      "Error retrieving SMILES for ZINC43163828: 404 Client Error: PUGREST.NotFound for url: https://pubchem.ncbi.nlm.nih.gov/rest/pug/compound/name/ZINC43163828/property/IsomericSMILES/TXT\n"
     ]
    },
    {
     "name": "stderr",
     "output_type": "stream",
     "text": [
      " 96%|████████████████████████████████████████████████████████████████████████▉   | 3981/4150 [1:00:17<02:27,  1.15it/s]"
     ]
    },
    {
     "name": "stdout",
     "output_type": "stream",
     "text": [
      "Error retrieving SMILES for ZINC97975747: 404 Client Error: PUGREST.NotFound for url: https://pubchem.ncbi.nlm.nih.gov/rest/pug/compound/name/ZINC97975747/property/IsomericSMILES/TXT\n"
     ]
    },
    {
     "name": "stderr",
     "output_type": "stream",
     "text": [
      " 96%|████████████████████████████████████████████████████████████████████████▉   | 3985/4150 [1:00:20<02:22,  1.16it/s]"
     ]
    },
    {
     "name": "stdout",
     "output_type": "stream",
     "text": [
      "Error retrieving SMILES for AC1OF33F: 404 Client Error: PUGREST.NotFound for url: https://pubchem.ncbi.nlm.nih.gov/rest/pug/compound/name/AC1OF33F/property/IsomericSMILES/TXT\n"
     ]
    },
    {
     "name": "stderr",
     "output_type": "stream",
     "text": [
      " 96%|█████████████████████████████████████████████████████████████████████████   | 3990/4150 [1:00:25<02:20,  1.14it/s]"
     ]
    },
    {
     "name": "stdout",
     "output_type": "stream",
     "text": [
      "Error retrieving SMILES for AC1OFCD4: 404 Client Error: PUGREST.NotFound for url: https://pubchem.ncbi.nlm.nih.gov/rest/pug/compound/name/AC1OFCD4/property/IsomericSMILES/TXT\n"
     ]
    },
    {
     "name": "stderr",
     "output_type": "stream",
     "text": [
      " 97%|█████████████████████████████████████████████████████████████████████████▍  | 4007/4150 [1:00:40<02:04,  1.15it/s]"
     ]
    },
    {
     "name": "stdout",
     "output_type": "stream",
     "text": [
      "Error retrieving SMILES for AC1OFCEP: 404 Client Error: PUGREST.NotFound for url: https://pubchem.ncbi.nlm.nih.gov/rest/pug/compound/name/AC1OFCEP/property/IsomericSMILES/TXT\n"
     ]
    },
    {
     "name": "stderr",
     "output_type": "stream",
     "text": [
      " 97%|█████████████████████████████████████████████████████████████████████████▍  | 4010/4150 [1:00:42<02:00,  1.16it/s]"
     ]
    },
    {
     "name": "stdout",
     "output_type": "stream",
     "text": [
      "Error retrieving SMILES for ZINC22059945: 404 Client Error: PUGREST.NotFound for url: https://pubchem.ncbi.nlm.nih.gov/rest/pug/compound/name/ZINC22059945/property/IsomericSMILES/TXT\n"
     ]
    },
    {
     "name": "stderr",
     "output_type": "stream",
     "text": [
      " 97%|█████████████████████████████████████████████████████████████████████████▋  | 4021/4150 [1:00:52<01:56,  1.11it/s]"
     ]
    },
    {
     "name": "stdout",
     "output_type": "stream",
     "text": [
      "Error retrieving SMILES for ACMC-20mj2l: 404 Client Error: PUGREST.NotFound for url: https://pubchem.ncbi.nlm.nih.gov/rest/pug/compound/name/ACMC-20mj2l/property/IsomericSMILES/TXT\n"
     ]
    },
    {
     "name": "stderr",
     "output_type": "stream",
     "text": [
      " 97%|█████████████████████████████████████████████████████████████████████████▋  | 4023/4150 [1:00:54<01:51,  1.14it/s]"
     ]
    },
    {
     "name": "stdout",
     "output_type": "stream",
     "text": [
      "Error retrieving SMILES for ZINC101112865: 404 Client Error: PUGREST.NotFound for url: https://pubchem.ncbi.nlm.nih.gov/rest/pug/compound/name/ZINC101112865/property/IsomericSMILES/TXT\n"
     ]
    },
    {
     "name": "stderr",
     "output_type": "stream",
     "text": [
      " 98%|██████████████████████████████████████████████████████████████████████████▋ | 4078/4150 [1:01:43<01:02,  1.16it/s]"
     ]
    },
    {
     "name": "stdout",
     "output_type": "stream",
     "text": [
      "Error retrieving SMILES for ZINC11616261: 404 Client Error: PUGREST.NotFound for url: https://pubchem.ncbi.nlm.nih.gov/rest/pug/compound/name/ZINC11616261/property/IsomericSMILES/TXT\n"
     ]
    },
    {
     "name": "stderr",
     "output_type": "stream",
     "text": [
      " 99%|██████████████████████████████████████████████████████████████████████████▉ | 4089/4150 [1:01:53<00:53,  1.15it/s]"
     ]
    },
    {
     "name": "stdout",
     "output_type": "stream",
     "text": [
      "Error retrieving SMILES for ZINC3831133: 404 Client Error: PUGREST.NotFound for url: https://pubchem.ncbi.nlm.nih.gov/rest/pug/compound/name/ZINC3831133/property/IsomericSMILES/TXT\n"
     ]
    },
    {
     "name": "stderr",
     "output_type": "stream",
     "text": [
      " 99%|██████████████████████████████████████████████████████████████████████████▉ | 4091/4150 [1:01:55<00:50,  1.17it/s]"
     ]
    },
    {
     "name": "stdout",
     "output_type": "stream",
     "text": [
      "Error retrieving SMILES for ZINC139045355: 404 Client Error: PUGREST.NotFound for url: https://pubchem.ncbi.nlm.nih.gov/rest/pug/compound/name/ZINC139045355/property/IsomericSMILES/TXT\n"
     ]
    },
    {
     "name": "stderr",
     "output_type": "stream",
     "text": [
      " 99%|███████████████████████████████████████████████████████████████████████████▏| 4103/4150 [1:02:05<00:41,  1.15it/s]"
     ]
    },
    {
     "name": "stdout",
     "output_type": "stream",
     "text": [
      "Error retrieving SMILES for AC1L34YQ: 404 Client Error: PUGREST.NotFound for url: https://pubchem.ncbi.nlm.nih.gov/rest/pug/compound/name/AC1L34YQ/property/IsomericSMILES/TXT\n"
     ]
    },
    {
     "name": "stderr",
     "output_type": "stream",
     "text": [
      " 99%|███████████████████████████████████████████████████████████████████████████▏| 4104/4150 [1:02:06<00:39,  1.15it/s]"
     ]
    },
    {
     "name": "stdout",
     "output_type": "stream",
     "text": [
      "Error retrieving SMILES for AC1M4BZH: 404 Client Error: PUGREST.NotFound for url: https://pubchem.ncbi.nlm.nih.gov/rest/pug/compound/name/AC1M4BZH/property/IsomericSMILES/TXT\n"
     ]
    },
    {
     "name": "stderr",
     "output_type": "stream",
     "text": [
      " 99%|███████████████████████████████████████████████████████████████████████████▌| 4126/4150 [1:02:26<00:21,  1.13it/s]"
     ]
    },
    {
     "name": "stdout",
     "output_type": "stream",
     "text": [
      "Error retrieving SMILES for AC1L1EUK: 404 Client Error: PUGREST.NotFound for url: https://pubchem.ncbi.nlm.nih.gov/rest/pug/compound/name/AC1L1EUK/property/IsomericSMILES/TXT\n"
     ]
    },
    {
     "name": "stderr",
     "output_type": "stream",
     "text": [
      " 99%|███████████████████████████████████████████████████████████████████████████▌| 4129/4150 [1:02:29<00:18,  1.15it/s]"
     ]
    },
    {
     "name": "stdout",
     "output_type": "stream",
     "text": [
      "Error retrieving SMILES for AC1Q4OOX: 404 Client Error: PUGREST.NotFound for url: https://pubchem.ncbi.nlm.nih.gov/rest/pug/compound/name/AC1Q4OOX/property/IsomericSMILES/TXT\n"
     ]
    },
    {
     "name": "stderr",
     "output_type": "stream",
     "text": [
      "100%|███████████████████████████████████████████████████████████████████████████▊| 4142/4150 [1:02:40<00:07,  1.07it/s]"
     ]
    },
    {
     "name": "stdout",
     "output_type": "stream",
     "text": [
      "Error retrieving SMILES for Vincristine Sulfate, Apocynaceae sp.: 404 Client Error: PUGREST.NotFound for url: https://pubchem.ncbi.nlm.nih.gov/rest/pug/compound/name/Vincristine%20Sulfate,%20Apocynaceae%20sp./property/IsomericSMILES/TXT\n"
     ]
    },
    {
     "name": "stderr",
     "output_type": "stream",
     "text": [
      "100%|████████████████████████████████████████████████████████████████████████████| 4150/4150 [1:02:49<00:00,  1.10it/s]\n"
     ]
    }
   ],
   "source": [
    "# Enabling progress_apply to show progress bars with pandas apply\n",
    "tqdm.pandas()\n",
    "drug_df['smiles'] = drug_df['drug'].progress_apply(get_smiles_from_name)"
   ]
  },
  {
   "cell_type": "markdown",
   "id": "48a44a5b-738d-4aa1-9f25-598861f79676",
   "metadata": {},
   "source": [
    "##### Save the drug_df DataFrame with drug names and their SMILES strings to a CSV file\n"
   ]
  },
  {
   "cell_type": "code",
   "execution_count": 22,
   "id": "982dca86-8f58-4ebf-938d-a2a7c1f1d1b7",
   "metadata": {},
   "outputs": [],
   "source": [
    "drug_df.to_csv(\"final_drug_with_smiles.csv\")"
   ]
  },
  {
   "cell_type": "code",
   "execution_count": null,
   "id": "7a8fb9ed-5d14-4eb0-bf4d-f57eff154e7c",
   "metadata": {},
   "outputs": [],
   "source": []
  },
  {
   "cell_type": "code",
   "execution_count": 16,
   "id": "2d2649b7-8bbf-4314-8628-bba760abf86b",
   "metadata": {},
   "outputs": [],
   "source": []
  },
  {
   "cell_type": "code",
   "execution_count": 14,
   "id": "1b543a8d-31cc-4377-bf16-0d0cd96857a5",
   "metadata": {},
   "outputs": [],
   "source": [
    "drug_df=pd.read_csv(\"final_drug_with_smiles.csv\",index_col=0)"
   ]
  },
  {
   "cell_type": "code",
   "execution_count": 15,
   "id": "d834b036-3a6e-46e3-8fbf-199cda501db3",
   "metadata": {},
   "outputs": [
    {
     "data": {
      "text/plain": [
       "drug        0\n",
       "smiles    106\n",
       "dtype: int64"
      ]
     },
     "execution_count": 15,
     "metadata": {},
     "output_type": "execute_result"
    }
   ],
   "source": [
    "drug_df.isnull().sum()"
   ]
  },
  {
   "cell_type": "code",
   "execution_count": 16,
   "id": "1df9c2da-1500-4514-9699-377d2260f985",
   "metadata": {},
   "outputs": [
    {
     "name": "stderr",
     "output_type": "stream",
     "text": [
      "  2%|█▌                                                                            | 80/4150 [01:10<1:01:10,  1.11it/s]"
     ]
    },
    {
     "name": "stdout",
     "output_type": "stream",
     "text": [
      "PubChem failed for (+/-)-SULFINPYRAZONE: 404 Client Error: PUGREST.NotFound for url: https://pubchem.ncbi.nlm.nih.gov/rest/pug/compound/name/(+/-)-SULFINPYRAZONE/property/IsomericSMILES/TXT\n",
      " get_from_pubchem could not find SMILES for '(+/-)-SULFINPYRAZONE'\n",
      "PubChem-CID failed for (+/-)-SULFINPYRAZONE: 404 Client Error: PUGREST.NotFound for url: https://pubchem.ncbi.nlm.nih.gov/rest/pug/compound/name/(+/-)-SULFINPYRAZONE/cids/TXT\n",
      " get_from_pubchem_cid could not find SMILES for '(+/-)-SULFINPYRAZONE'\n",
      " get_from_zinc could not find SMILES for '(+/-)-SULFINPYRAZONE'\n"
     ]
    },
    {
     "name": "stderr",
     "output_type": "stream",
     "text": [
      "  9%|███████▌                                                                       | 394/4150 [06:01<54:47,  1.14it/s]"
     ]
    },
    {
     "name": "stdout",
     "output_type": "stream",
     "text": [
      "PubChem failed for (6-)E-<U+200B>AMINOCAPROIC ACID: 404 Client Error: PUGREST.NotFound for url: https://pubchem.ncbi.nlm.nih.gov/rest/pug/compound/name/(6-)E-%3CU+200B%3EAMINOCAPROIC%20ACID/property/IsomericSMILES/TXT\n",
      " get_from_pubchem could not find SMILES for '(6-)E-<U+200B>AMINOCAPROIC ACID'\n",
      "PubChem-CID failed for (6-)E-<U+200B>AMINOCAPROIC ACID: 404 Client Error: PUGREST.NotFound for url: https://pubchem.ncbi.nlm.nih.gov/rest/pug/compound/name/(6-)E-%3CU+200B%3EAMINOCAPROIC%20ACID/cids/TXT\n",
      " get_from_pubchem_cid could not find SMILES for '(6-)E-<U+200B>AMINOCAPROIC ACID'\n",
      " get_from_zinc could not find SMILES for '(6-)E-<U+200B>AMINOCAPROIC ACID'\n",
      " get_from_nci could not find SMILES for '(6-)E-<U+200B>AMINOCAPROIC ACID'\n",
      "CIR failed for (6-)E-<U+200B>AMINOCAPROIC ACID: 500 Server Error: INTERNAL SERVER ERROR for url: https://cactus.nci.nih.gov/chemical/structure/(6-)E-%3CU+200B%3EAMINOCAPROIC%20ACID/smiles\n",
      " get_from_cir could not find SMILES for '(6-)E-<U+200B>AMINOCAPROIC ACID'\n",
      " get_from_chembl could not find SMILES for '(6-)E-<U+200B>AMINOCAPROIC ACID'\n"
     ]
    },
    {
     "name": "stderr",
     "output_type": "stream",
     "text": [
      " 10%|███████▎                                                                     | 395/4150 [06:15<4:55:06,  4.72s/it]"
     ]
    },
    {
     "name": "stdout",
     "output_type": "stream",
     "text": [
      " None of the APIs could find SMILES for '(6-)E-<U+200B>AMINOCAPROIC ACID'\n",
      "\n"
     ]
    },
    {
     "name": "stderr",
     "output_type": "stream",
     "text": [
      " 14%|███████████                                                                    | 583/4150 [09:03<52:23,  1.13it/s]"
     ]
    },
    {
     "name": "stdout",
     "output_type": "stream",
     "text": [
      "PubChem failed for BACITRACIN: 404 Client Error: PUGREST.NotFound for url: https://pubchem.ncbi.nlm.nih.gov/rest/pug/compound/name/BACITRACIN/property/IsomericSMILES/TXT\n",
      " get_from_pubchem could not find SMILES for 'BACITRACIN'\n",
      "PubChem-CID failed for BACITRACIN: 404 Client Error: PUGREST.NotFound for url: https://pubchem.ncbi.nlm.nih.gov/rest/pug/compound/name/BACITRACIN/cids/TXT\n",
      " get_from_pubchem_cid could not find SMILES for 'BACITRACIN'\n",
      " get_from_zinc could not find SMILES for 'BACITRACIN'\n"
     ]
    },
    {
     "name": "stderr",
     "output_type": "stream",
     "text": [
      " 21%|████████████████▍                                                              | 863/4150 [13:25<50:09,  1.09it/s]"
     ]
    },
    {
     "name": "stdout",
     "output_type": "stream",
     "text": [
      "PubChem failed for DEXTROSE: 404 Client Error: PUGREST.NotFound for url: https://pubchem.ncbi.nlm.nih.gov/rest/pug/compound/name/DEXTROSE/property/IsomericSMILES/TXT\n",
      " get_from_pubchem could not find SMILES for 'DEXTROSE'\n",
      "PubChem-CID failed for DEXTROSE: 404 Client Error: PUGREST.NotFound for url: https://pubchem.ncbi.nlm.nih.gov/rest/pug/compound/name/DEXTROSE/cids/TXT\n",
      " get_from_pubchem_cid could not find SMILES for 'DEXTROSE'\n",
      " get_from_zinc could not find SMILES for 'DEXTROSE'\n"
     ]
    },
    {
     "name": "stderr",
     "output_type": "stream",
     "text": [
      " 27%|████████████████████▊                                                         | 1107/4150 [17:10<48:38,  1.04it/s]"
     ]
    },
    {
     "name": "stdout",
     "output_type": "stream",
     "text": [
      "PubChem failed for GYNOSTEMMA EXTRACT: 404 Client Error: PUGREST.NotFound for url: https://pubchem.ncbi.nlm.nih.gov/rest/pug/compound/name/GYNOSTEMMA%20EXTRACT/property/IsomericSMILES/TXT\n",
      " get_from_pubchem could not find SMILES for 'GYNOSTEMMA EXTRACT'\n",
      "PubChem-CID failed for GYNOSTEMMA EXTRACT: 404 Client Error: PUGREST.NotFound for url: https://pubchem.ncbi.nlm.nih.gov/rest/pug/compound/name/GYNOSTEMMA%20EXTRACT/cids/TXT\n",
      " get_from_pubchem_cid could not find SMILES for 'GYNOSTEMMA EXTRACT'\n",
      " get_from_zinc could not find SMILES for 'GYNOSTEMMA EXTRACT'\n",
      " get_from_nci could not find SMILES for 'GYNOSTEMMA EXTRACT'\n",
      "CIR failed for GYNOSTEMMA EXTRACT: 500 Server Error: INTERNAL SERVER ERROR for url: https://cactus.nci.nih.gov/chemical/structure/GYNOSTEMMA%20EXTRACT/smiles\n",
      " get_from_cir could not find SMILES for 'GYNOSTEMMA EXTRACT'\n",
      " get_from_chembl could not find SMILES for 'GYNOSTEMMA EXTRACT'\n"
     ]
    },
    {
     "name": "stderr",
     "output_type": "stream",
     "text": [
      " 27%|████████████████████▎                                                       | 1108/4150 [17:23<3:54:46,  4.63s/it]"
     ]
    },
    {
     "name": "stdout",
     "output_type": "stream",
     "text": [
      " None of the APIs could find SMILES for 'GYNOSTEMMA EXTRACT'\n",
      "\n"
     ]
    },
    {
     "name": "stderr",
     "output_type": "stream",
     "text": [
      " 32%|████████████████████████▋                                                     | 1314/4150 [20:29<42:33,  1.11it/s]"
     ]
    },
    {
     "name": "stdout",
     "output_type": "stream",
     "text": [
      "PubChem failed for METHYL-HESPERIDIN: 404 Client Error: PUGREST.NotFound for url: https://pubchem.ncbi.nlm.nih.gov/rest/pug/compound/name/METHYL-HESPERIDIN/property/IsomericSMILES/TXT\n",
      " get_from_pubchem could not find SMILES for 'METHYL-HESPERIDIN'\n",
      "PubChem-CID failed for METHYL-HESPERIDIN: 404 Client Error: PUGREST.NotFound for url: https://pubchem.ncbi.nlm.nih.gov/rest/pug/compound/name/METHYL-HESPERIDIN/cids/TXT\n",
      " get_from_pubchem_cid could not find SMILES for 'METHYL-HESPERIDIN'\n",
      " get_from_zinc could not find SMILES for 'METHYL-HESPERIDIN'\n",
      " get_from_nci could not find SMILES for 'METHYL-HESPERIDIN'\n",
      "CIR failed for METHYL-HESPERIDIN: 500 Server Error: INTERNAL SERVER ERROR for url: https://cactus.nci.nih.gov/chemical/structure/METHYL-HESPERIDIN/smiles\n",
      " get_from_cir could not find SMILES for 'METHYL-HESPERIDIN'\n",
      " get_from_chembl could not find SMILES for 'METHYL-HESPERIDIN'\n"
     ]
    },
    {
     "name": "stderr",
     "output_type": "stream",
     "text": [
      " 32%|████████████████████████                                                    | 1315/4150 [20:43<3:37:52,  4.61s/it]"
     ]
    },
    {
     "name": "stdout",
     "output_type": "stream",
     "text": [
      " None of the APIs could find SMILES for 'METHYL-HESPERIDIN'\n",
      "\n"
     ]
    },
    {
     "name": "stderr",
     "output_type": "stream",
     "text": [
      " 37%|█████████████████████████████                                                 | 1549/4150 [24:13<38:13,  1.13it/s]"
     ]
    },
    {
     "name": "stdout",
     "output_type": "stream",
     "text": [
      "PubChem failed for PIFITHRIN-A (PFTA): 404 Client Error: PUGREST.NotFound for url: https://pubchem.ncbi.nlm.nih.gov/rest/pug/compound/name/PIFITHRIN-A%20(PFTA)/property/IsomericSMILES/TXT\n",
      " get_from_pubchem could not find SMILES for 'PIFITHRIN-A (PFTA)'\n",
      "PubChem-CID failed for PIFITHRIN-A (PFTA): 404 Client Error: PUGREST.NotFound for url: https://pubchem.ncbi.nlm.nih.gov/rest/pug/compound/name/PIFITHRIN-A%20(PFTA)/cids/TXT\n",
      " get_from_pubchem_cid could not find SMILES for 'PIFITHRIN-A (PFTA)'\n",
      " get_from_zinc could not find SMILES for 'PIFITHRIN-A (PFTA)'\n",
      " get_from_nci could not find SMILES for 'PIFITHRIN-A (PFTA)'\n",
      "CIR failed for PIFITHRIN-A (PFTA): 500 Server Error: INTERNAL SERVER ERROR for url: https://cactus.nci.nih.gov/chemical/structure/PIFITHRIN-A%20(PFTA)/smiles\n",
      " get_from_cir could not find SMILES for 'PIFITHRIN-A (PFTA)'\n",
      " get_from_chembl could not find SMILES for 'PIFITHRIN-A (PFTA)'\n"
     ]
    },
    {
     "name": "stderr",
     "output_type": "stream",
     "text": [
      " 37%|████████████████████████████▍                                               | 1550/4150 [24:26<3:15:25,  4.51s/it]"
     ]
    },
    {
     "name": "stdout",
     "output_type": "stream",
     "text": [
      " None of the APIs could find SMILES for 'PIFITHRIN-A (PFTA)'\n",
      "\n"
     ]
    },
    {
     "name": "stderr",
     "output_type": "stream",
     "text": [
      " 38%|█████████████████████████████▍                                                | 1569/4150 [24:44<42:55,  1.00it/s]"
     ]
    },
    {
     "name": "stdout",
     "output_type": "stream",
     "text": [
      "PubChem failed for PLURISIN #1 (NSC 14613): 400 Client Error: PUGREST.BadRequest for url: https://pubchem.ncbi.nlm.nih.gov/rest/pug/compound/name/PLURISIN%20#1%20(NSC%2014613)/property/IsomericSMILES/TXT\n",
      " get_from_pubchem could not find SMILES for 'PLURISIN #1 (NSC 14613)'\n",
      "PubChem-CID failed for PLURISIN #1 (NSC 14613): 400 Client Error: PUGREST.BadRequest for url: https://pubchem.ncbi.nlm.nih.gov/rest/pug/compound/name/PLURISIN%20#1%20(NSC%2014613)/cids/TXT\n",
      " get_from_pubchem_cid could not find SMILES for 'PLURISIN #1 (NSC 14613)'\n",
      " get_from_zinc could not find SMILES for 'PLURISIN #1 (NSC 14613)'\n"
     ]
    },
    {
     "name": "stderr",
     "output_type": "stream",
     "text": [
      " 38%|████████████████████████████▊                                               | 1573/4150 [24:54<1:11:55,  1.67s/it]"
     ]
    },
    {
     "name": "stdout",
     "output_type": "stream",
     "text": [
      "PubChem failed for POLYDATIN: 404 Client Error: PUGREST.NotFound for url: https://pubchem.ncbi.nlm.nih.gov/rest/pug/compound/name/POLYDATIN/property/IsomericSMILES/TXT\n",
      " get_from_pubchem could not find SMILES for 'POLYDATIN'\n",
      "PubChem-CID failed for POLYDATIN: 404 Client Error: PUGREST.NotFound for url: https://pubchem.ncbi.nlm.nih.gov/rest/pug/compound/name/POLYDATIN/cids/TXT\n",
      " get_from_pubchem_cid could not find SMILES for 'POLYDATIN'\n",
      " get_from_zinc could not find SMILES for 'POLYDATIN'\n"
     ]
    },
    {
     "name": "stderr",
     "output_type": "stream",
     "text": [
      " 43%|█████████████████████████████████▋                                            | 1791/4150 [28:20<46:54,  1.19s/it]"
     ]
    },
    {
     "name": "stdout",
     "output_type": "stream",
     "text": [
      "PubChem failed for SULFAMETHAZINE: HTTPSConnectionPool(host='pubchem.ncbi.nlm.nih.gov', port=443): Read timed out. (read timeout=10)\n",
      " get_from_pubchem could not find SMILES for 'SULFAMETHAZINE'\n"
     ]
    },
    {
     "name": "stderr",
     "output_type": "stream",
     "text": [
      " 45%|██████████████████████████████████▊                                           | 1853/4150 [29:41<34:24,  1.11it/s]"
     ]
    },
    {
     "name": "stdout",
     "output_type": "stream",
     "text": [
      "PubChem failed for TETRAETHYLENEPENTAMINE 5HCL: 404 Client Error: PUGREST.NotFound for url: https://pubchem.ncbi.nlm.nih.gov/rest/pug/compound/name/TETRAETHYLENEPENTAMINE%205HCL/property/IsomericSMILES/TXT\n",
      " get_from_pubchem could not find SMILES for 'TETRAETHYLENEPENTAMINE 5HCL'\n",
      "PubChem-CID failed for TETRAETHYLENEPENTAMINE 5HCL: 404 Client Error: PUGREST.NotFound for url: https://pubchem.ncbi.nlm.nih.gov/rest/pug/compound/name/TETRAETHYLENEPENTAMINE%205HCL/cids/TXT\n",
      " get_from_pubchem_cid could not find SMILES for 'TETRAETHYLENEPENTAMINE 5HCL'\n",
      " get_from_zinc could not find SMILES for 'TETRAETHYLENEPENTAMINE 5HCL'\n",
      " get_from_nci could not find SMILES for 'TETRAETHYLENEPENTAMINE 5HCL'\n",
      "CIR failed for TETRAETHYLENEPENTAMINE 5HCL: 500 Server Error: INTERNAL SERVER ERROR for url: https://cactus.nci.nih.gov/chemical/structure/TETRAETHYLENEPENTAMINE%205HCL/smiles\n",
      " get_from_cir could not find SMILES for 'TETRAETHYLENEPENTAMINE 5HCL'\n",
      " get_from_chembl could not find SMILES for 'TETRAETHYLENEPENTAMINE 5HCL'\n"
     ]
    },
    {
     "name": "stderr",
     "output_type": "stream",
     "text": [
      " 45%|█████████████████████████████████▉                                          | 1854/4150 [29:55<2:59:45,  4.70s/it]"
     ]
    },
    {
     "name": "stdout",
     "output_type": "stream",
     "text": [
      " None of the APIs could find SMILES for 'TETRAETHYLENEPENTAMINE 5HCL'\n",
      "\n"
     ]
    },
    {
     "name": "stderr",
     "output_type": "stream",
     "text": [
      " 50%|███████████████████████████████████████▎                                      | 2092/4150 [33:29<30:53,  1.11it/s]"
     ]
    },
    {
     "name": "stdout",
     "output_type": "stream",
     "text": [
      "PubChem failed for Triciribinephosphate: 404 Client Error: PUGREST.NotFound for url: https://pubchem.ncbi.nlm.nih.gov/rest/pug/compound/name/Triciribinephosphate/property/IsomericSMILES/TXT\n",
      " get_from_pubchem could not find SMILES for 'Triciribinephosphate'\n",
      "PubChem-CID failed for Triciribinephosphate: 404 Client Error: PUGREST.NotFound for url: https://pubchem.ncbi.nlm.nih.gov/rest/pug/compound/name/Triciribinephosphate/cids/TXT\n",
      " get_from_pubchem_cid could not find SMILES for 'Triciribinephosphate'\n",
      " get_from_zinc could not find SMILES for 'Triciribinephosphate'\n",
      " get_from_nci could not find SMILES for 'Triciribinephosphate'\n",
      "CIR failed for Triciribinephosphate: 500 Server Error: INTERNAL SERVER ERROR for url: https://cactus.nci.nih.gov/chemical/structure/Triciribinephosphate/smiles\n",
      " get_from_cir could not find SMILES for 'Triciribinephosphate'\n",
      " get_from_chembl could not find SMILES for 'Triciribinephosphate'\n"
     ]
    },
    {
     "name": "stderr",
     "output_type": "stream",
     "text": [
      " 50%|██████████████████████████████████████▎                                     | 2093/4150 [33:42<2:39:20,  4.65s/it]"
     ]
    },
    {
     "name": "stdout",
     "output_type": "stream",
     "text": [
      " None of the APIs could find SMILES for 'Triciribinephosphate'\n",
      "\n"
     ]
    },
    {
     "name": "stderr",
     "output_type": "stream",
     "text": [
      " 52%|████████████████████████████████████████▎                                     | 2142/4150 [34:27<30:34,  1.09it/s]"
     ]
    },
    {
     "name": "stdout",
     "output_type": "stream",
     "text": [
      "PubChem failed for ONO-4059 analog: 404 Client Error: PUGREST.NotFound for url: https://pubchem.ncbi.nlm.nih.gov/rest/pug/compound/name/ONO-4059%20analog/property/IsomericSMILES/TXT\n",
      " get_from_pubchem could not find SMILES for 'ONO-4059 analog'\n",
      "PubChem-CID failed for ONO-4059 analog: 404 Client Error: PUGREST.NotFound for url: https://pubchem.ncbi.nlm.nih.gov/rest/pug/compound/name/ONO-4059%20analog/cids/TXT\n",
      " get_from_pubchem_cid could not find SMILES for 'ONO-4059 analog'\n",
      " get_from_zinc could not find SMILES for 'ONO-4059 analog'\n",
      " get_from_nci could not find SMILES for 'ONO-4059 analog'\n",
      "CIR failed for ONO-4059 analog: 500 Server Error: INTERNAL SERVER ERROR for url: https://cactus.nci.nih.gov/chemical/structure/ONO-4059%20analog/smiles\n",
      " get_from_cir could not find SMILES for 'ONO-4059 analog'\n",
      " get_from_chembl could not find SMILES for 'ONO-4059 analog'\n"
     ]
    },
    {
     "name": "stderr",
     "output_type": "stream",
     "text": [
      " 52%|███████████████████████████████████████▏                                    | 2143/4150 [34:40<2:34:09,  4.61s/it]"
     ]
    },
    {
     "name": "stdout",
     "output_type": "stream",
     "text": [
      " None of the APIs could find SMILES for 'ONO-4059 analog'\n",
      "\n"
     ]
    },
    {
     "name": "stderr",
     "output_type": "stream",
     "text": [
      " 52%|████████████████████████████████████████▊                                     | 2170/4150 [35:05<29:40,  1.11it/s]"
     ]
    },
    {
     "name": "stdout",
     "output_type": "stream",
     "text": [
      "PubChem failed for Cdk/Crk Inhibitor: 404 Client Error: PUGREST.NotFound for url: https://pubchem.ncbi.nlm.nih.gov/rest/pug/compound/name/Cdk/Crk%20Inhibitor/property/IsomericSMILES/TXT\n",
      " get_from_pubchem could not find SMILES for 'Cdk/Crk Inhibitor'\n",
      "PubChem-CID failed for Cdk/Crk Inhibitor: 404 Client Error: PUGREST.NotFound for url: https://pubchem.ncbi.nlm.nih.gov/rest/pug/compound/name/Cdk/Crk%20Inhibitor/cids/TXT\n",
      " get_from_pubchem_cid could not find SMILES for 'Cdk/Crk Inhibitor'\n",
      " get_from_zinc could not find SMILES for 'Cdk/Crk Inhibitor'\n"
     ]
    },
    {
     "name": "stderr",
     "output_type": "stream",
     "text": [
      " 57%|████████████████████████████████████████████▌                                 | 2374/4150 [38:17<26:56,  1.10it/s]"
     ]
    },
    {
     "name": "stdout",
     "output_type": "stream",
     "text": [
      "PubChem failed for 3',4'-Diacetylafzelin: 404 Client Error: PUGREST.NotFound for url: https://pubchem.ncbi.nlm.nih.gov/rest/pug/compound/name/3',4'-Diacetylafzelin/property/IsomericSMILES/TXT\n",
      " get_from_pubchem could not find SMILES for '3',4'-Diacetylafzelin'\n",
      "PubChem-CID failed for 3',4'-Diacetylafzelin: 404 Client Error: PUGREST.NotFound for url: https://pubchem.ncbi.nlm.nih.gov/rest/pug/compound/name/3',4'-Diacetylafzelin/cids/TXT\n",
      " get_from_pubchem_cid could not find SMILES for '3',4'-Diacetylafzelin'\n",
      " get_from_zinc could not find SMILES for '3',4'-Diacetylafzelin'\n",
      " get_from_nci could not find SMILES for '3',4'-Diacetylafzelin'\n",
      "CIR failed for 3',4'-Diacetylafzelin: 500 Server Error: INTERNAL SERVER ERROR for url: https://cactus.nci.nih.gov/chemical/structure/3',4'-Diacetylafzelin/smiles\n",
      " get_from_cir could not find SMILES for '3',4'-Diacetylafzelin'\n",
      " get_from_chembl could not find SMILES for '3',4'-Diacetylafzelin'\n"
     ]
    },
    {
     "name": "stderr",
     "output_type": "stream",
     "text": [
      " 57%|███████████████████████████████████████████▍                                | 2375/4150 [38:31<2:15:55,  4.59s/it]"
     ]
    },
    {
     "name": "stdout",
     "output_type": "stream",
     "text": [
      " None of the APIs could find SMILES for '3',4'-Diacetylafzelin'\n",
      "\n"
     ]
    },
    {
     "name": "stderr",
     "output_type": "stream",
     "text": [
      " 57%|███████████████████████████████████████████▌                                | 2378/4150 [38:33<1:03:48,  2.16s/it]"
     ]
    },
    {
     "name": "stdout",
     "output_type": "stream",
     "text": [
      "PubChem failed for SUDAHWBOROXANE-UHFFFAOYSA-N: 404 Client Error: PUGREST.NotFound for url: https://pubchem.ncbi.nlm.nih.gov/rest/pug/compound/name/SUDAHWBOROXANE-UHFFFAOYSA-N/property/IsomericSMILES/TXT\n",
      " get_from_pubchem could not find SMILES for 'SUDAHWBOROXANE-UHFFFAOYSA-N'\n",
      "PubChem-CID failed for SUDAHWBOROXANE-UHFFFAOYSA-N: 404 Client Error: PUGREST.NotFound for url: https://pubchem.ncbi.nlm.nih.gov/rest/pug/compound/name/SUDAHWBOROXANE-UHFFFAOYSA-N/cids/TXT\n",
      " get_from_pubchem_cid could not find SMILES for 'SUDAHWBOROXANE-UHFFFAOYSA-N'\n",
      " get_from_zinc could not find SMILES for 'SUDAHWBOROXANE-UHFFFAOYSA-N'\n"
     ]
    },
    {
     "name": "stderr",
     "output_type": "stream",
     "text": [
      " 58%|████████████████████████████████████████████▉                                 | 2390/4150 [38:50<28:01,  1.05it/s]"
     ]
    },
    {
     "name": "stdout",
     "output_type": "stream",
     "text": [
      "PubChem failed for ERK 11e: 404 Client Error: PUGREST.NotFound for url: https://pubchem.ncbi.nlm.nih.gov/rest/pug/compound/name/ERK%2011e/property/IsomericSMILES/TXT\n",
      " get_from_pubchem could not find SMILES for 'ERK 11e'\n",
      "PubChem-CID failed for ERK 11e: 404 Client Error: PUGREST.NotFound for url: https://pubchem.ncbi.nlm.nih.gov/rest/pug/compound/name/ERK%2011e/cids/TXT\n",
      " get_from_pubchem_cid could not find SMILES for 'ERK 11e'\n",
      " get_from_zinc could not find SMILES for 'ERK 11e'\n",
      " get_from_nci could not find SMILES for 'ERK 11e'\n",
      "CIR failed for ERK 11e: 500 Server Error: INTERNAL SERVER ERROR for url: https://cactus.nci.nih.gov/chemical/structure/ERK%2011e/smiles\n",
      " get_from_cir could not find SMILES for 'ERK 11e'\n",
      " get_from_chembl could not find SMILES for 'ERK 11e'\n"
     ]
    },
    {
     "name": "stderr",
     "output_type": "stream",
     "text": [
      " 58%|███████████████████████████████████████████▊                                | 2391/4150 [39:03<2:12:39,  4.53s/it]"
     ]
    },
    {
     "name": "stdout",
     "output_type": "stream",
     "text": [
      " None of the APIs could find SMILES for 'ERK 11e'\n",
      "\n"
     ]
    },
    {
     "name": "stderr",
     "output_type": "stream",
     "text": [
      " 58%|█████████████████████████████████████████████▎                                | 2411/4150 [39:22<26:04,  1.11it/s]"
     ]
    },
    {
     "name": "stdout",
     "output_type": "stream",
     "text": [
      "PubChem failed for AGN-PC-0MU5N5: 404 Client Error: PUGREST.NotFound for url: https://pubchem.ncbi.nlm.nih.gov/rest/pug/compound/name/AGN-PC-0MU5N5/property/IsomericSMILES/TXT\n",
      " get_from_pubchem could not find SMILES for 'AGN-PC-0MU5N5'\n",
      "PubChem-CID failed for AGN-PC-0MU5N5: 404 Client Error: PUGREST.NotFound for url: https://pubchem.ncbi.nlm.nih.gov/rest/pug/compound/name/AGN-PC-0MU5N5/cids/TXT\n",
      " get_from_pubchem_cid could not find SMILES for 'AGN-PC-0MU5N5'\n",
      " get_from_zinc could not find SMILES for 'AGN-PC-0MU5N5'\n",
      " get_from_nci could not find SMILES for 'AGN-PC-0MU5N5'\n",
      "CIR failed for AGN-PC-0MU5N5: 500 Server Error: INTERNAL SERVER ERROR for url: https://cactus.nci.nih.gov/chemical/structure/AGN-PC-0MU5N5/smiles\n",
      " get_from_cir could not find SMILES for 'AGN-PC-0MU5N5'\n",
      " get_from_chembl could not find SMILES for 'AGN-PC-0MU5N5'\n"
     ]
    },
    {
     "name": "stderr",
     "output_type": "stream",
     "text": [
      " 58%|████████████████████████████████████████████▏                               | 2412/4150 [39:35<2:13:41,  4.62s/it]"
     ]
    },
    {
     "name": "stdout",
     "output_type": "stream",
     "text": [
      " None of the APIs could find SMILES for 'AGN-PC-0MU5N5'\n",
      "\n"
     ]
    },
    {
     "name": "stderr",
     "output_type": "stream",
     "text": [
      " 61%|███████████████████████████████████████████████▉                              | 2549/4150 [41:39<24:19,  1.10it/s]"
     ]
    },
    {
     "name": "stdout",
     "output_type": "stream",
     "text": [
      "PubChem failed for ZINC18182079: 404 Client Error: PUGREST.NotFound for url: https://pubchem.ncbi.nlm.nih.gov/rest/pug/compound/name/ZINC18182079/property/IsomericSMILES/TXT\n",
      " get_from_pubchem could not find SMILES for 'ZINC18182079'\n",
      "PubChem-CID failed for ZINC18182079: 404 Client Error: PUGREST.NotFound for url: https://pubchem.ncbi.nlm.nih.gov/rest/pug/compound/name/ZINC18182079/cids/TXT\n",
      " get_from_pubchem_cid could not find SMILES for 'ZINC18182079'\n",
      " get_from_zinc could not find SMILES for 'ZINC18182079'\n",
      " get_from_nci could not find SMILES for 'ZINC18182079'\n",
      "CIR failed for ZINC18182079: 500 Server Error: INTERNAL SERVER ERROR for url: https://cactus.nci.nih.gov/chemical/structure/ZINC18182079/smiles\n",
      " get_from_cir could not find SMILES for 'ZINC18182079'\n",
      " get_from_chembl could not find SMILES for 'ZINC18182079'\n"
     ]
    },
    {
     "name": "stderr",
     "output_type": "stream",
     "text": [
      " 61%|██████████████████████████████████████████████▋                             | 2550/4150 [41:52<1:54:10,  4.28s/it]"
     ]
    },
    {
     "name": "stdout",
     "output_type": "stream",
     "text": [
      " None of the APIs could find SMILES for 'ZINC18182079'\n",
      "\n"
     ]
    },
    {
     "name": "stderr",
     "output_type": "stream",
     "text": [
      " 63%|█████████████████████████████████████████████████▏                            | 2618/4150 [42:53<23:32,  1.08it/s]"
     ]
    },
    {
     "name": "stdout",
     "output_type": "stream",
     "text": [
      "PubChem failed for AK176003: 404 Client Error: PUGREST.NotFound for url: https://pubchem.ncbi.nlm.nih.gov/rest/pug/compound/name/AK176003/property/IsomericSMILES/TXT\n",
      " get_from_pubchem could not find SMILES for 'AK176003'\n",
      "PubChem-CID failed for AK176003: 404 Client Error: PUGREST.NotFound for url: https://pubchem.ncbi.nlm.nih.gov/rest/pug/compound/name/AK176003/cids/TXT\n",
      " get_from_pubchem_cid could not find SMILES for 'AK176003'\n",
      " get_from_zinc could not find SMILES for 'AK176003'\n",
      " get_from_nci could not find SMILES for 'AK176003'\n",
      "CIR failed for AK176003: 500 Server Error: INTERNAL SERVER ERROR for url: https://cactus.nci.nih.gov/chemical/structure/AK176003/smiles\n",
      " get_from_cir could not find SMILES for 'AK176003'\n",
      " get_from_chembl could not find SMILES for 'AK176003'\n"
     ]
    },
    {
     "name": "stderr",
     "output_type": "stream",
     "text": [
      " 63%|███████████████████████████████████████████████▉                            | 2619/4150 [43:06<1:56:43,  4.57s/it]"
     ]
    },
    {
     "name": "stdout",
     "output_type": "stream",
     "text": [
      " None of the APIs could find SMILES for 'AK176003'\n",
      "\n"
     ]
    },
    {
     "name": "stderr",
     "output_type": "stream",
     "text": [
      " 66%|███████████████████████████████████████████████████▊                          | 2758/4150 [45:12<21:05,  1.10it/s]"
     ]
    },
    {
     "name": "stdout",
     "output_type": "stream",
     "text": [
      "PubChem failed for ZINC21999985: 404 Client Error: PUGREST.NotFound for url: https://pubchem.ncbi.nlm.nih.gov/rest/pug/compound/name/ZINC21999985/property/IsomericSMILES/TXT\n",
      " get_from_pubchem could not find SMILES for 'ZINC21999985'\n",
      "PubChem-CID failed for ZINC21999985: 404 Client Error: PUGREST.NotFound for url: https://pubchem.ncbi.nlm.nih.gov/rest/pug/compound/name/ZINC21999985/cids/TXT\n",
      " get_from_pubchem_cid could not find SMILES for 'ZINC21999985'\n",
      " get_from_zinc could not find SMILES for 'ZINC21999985'\n",
      " get_from_nci could not find SMILES for 'ZINC21999985'\n",
      "CIR failed for ZINC21999985: 500 Server Error: INTERNAL SERVER ERROR for url: https://cactus.nci.nih.gov/chemical/structure/ZINC21999985/smiles\n",
      " get_from_cir could not find SMILES for 'ZINC21999985'\n",
      " get_from_chembl could not find SMILES for 'ZINC21999985'\n"
     ]
    },
    {
     "name": "stderr",
     "output_type": "stream",
     "text": [
      " 66%|██████████████████████████████████████████████████▌                         | 2759/4150 [45:24<1:39:05,  4.27s/it]"
     ]
    },
    {
     "name": "stdout",
     "output_type": "stream",
     "text": [
      " None of the APIs could find SMILES for 'ZINC21999985'\n",
      "\n"
     ]
    },
    {
     "name": "stderr",
     "output_type": "stream",
     "text": [
      " 67%|████████████████████████████████████████████████████                          | 2772/4150 [45:36<21:21,  1.08it/s]"
     ]
    },
    {
     "name": "stdout",
     "output_type": "stream",
     "text": [
      "PubChem failed for DSSTox_CID_31408: 404 Client Error: PUGREST.NotFound for url: https://pubchem.ncbi.nlm.nih.gov/rest/pug/compound/name/DSSTox_CID_31408/property/IsomericSMILES/TXT\n",
      " get_from_pubchem could not find SMILES for 'DSSTox_CID_31408'\n",
      "PubChem-CID failed for DSSTox_CID_31408: 404 Client Error: PUGREST.NotFound for url: https://pubchem.ncbi.nlm.nih.gov/rest/pug/compound/name/DSSTox_CID_31408/cids/TXT\n",
      " get_from_pubchem_cid could not find SMILES for 'DSSTox_CID_31408'\n",
      " get_from_zinc could not find SMILES for 'DSSTox_CID_31408'\n",
      " get_from_nci could not find SMILES for 'DSSTox_CID_31408'\n",
      "CIR failed for DSSTox_CID_31408: 500 Server Error: INTERNAL SERVER ERROR for url: https://cactus.nci.nih.gov/chemical/structure/DSSTox_CID_31408/smiles\n",
      " get_from_cir could not find SMILES for 'DSSTox_CID_31408'\n",
      " get_from_chembl could not find SMILES for 'DSSTox_CID_31408'\n"
     ]
    },
    {
     "name": "stderr",
     "output_type": "stream",
     "text": [
      " 67%|██████████████████████████████████████████████████▊                         | 2773/4150 [45:49<1:49:13,  4.76s/it]"
     ]
    },
    {
     "name": "stdout",
     "output_type": "stream",
     "text": [
      " None of the APIs could find SMILES for 'DSSTox_CID_31408'\n",
      "\n"
     ]
    },
    {
     "name": "stderr",
     "output_type": "stream",
     "text": [
      " 67%|████████████████████████████████████████████████████▎                         | 2781/4150 [45:56<25:30,  1.12s/it]"
     ]
    },
    {
     "name": "stdout",
     "output_type": "stream",
     "text": [
      "PubChem failed for ZINC84688828: 404 Client Error: PUGREST.NotFound for url: https://pubchem.ncbi.nlm.nih.gov/rest/pug/compound/name/ZINC84688828/property/IsomericSMILES/TXT\n",
      " get_from_pubchem could not find SMILES for 'ZINC84688828'\n",
      "PubChem-CID failed for ZINC84688828: 404 Client Error: PUGREST.NotFound for url: https://pubchem.ncbi.nlm.nih.gov/rest/pug/compound/name/ZINC84688828/cids/TXT\n",
      " get_from_pubchem_cid could not find SMILES for 'ZINC84688828'\n",
      " get_from_zinc could not find SMILES for 'ZINC84688828'\n",
      " get_from_nci could not find SMILES for 'ZINC84688828'\n",
      "CIR failed for ZINC84688828: 500 Server Error: INTERNAL SERVER ERROR for url: https://cactus.nci.nih.gov/chemical/structure/ZINC84688828/smiles\n",
      " get_from_cir could not find SMILES for 'ZINC84688828'\n",
      " get_from_chembl could not find SMILES for 'ZINC84688828'\n"
     ]
    },
    {
     "name": "stderr",
     "output_type": "stream",
     "text": [
      " 67%|██████████████████████████████████████████████████▉                         | 2782/4150 [46:08<1:38:45,  4.33s/it]"
     ]
    },
    {
     "name": "stdout",
     "output_type": "stream",
     "text": [
      " None of the APIs could find SMILES for 'ZINC84688828'\n",
      "\n"
     ]
    },
    {
     "name": "stderr",
     "output_type": "stream",
     "text": [
      " 71%|███████████████████████████████████████████████████████▌                      | 2958/4150 [48:48<17:58,  1.11it/s]"
     ]
    },
    {
     "name": "stdout",
     "output_type": "stream",
     "text": [
      "PubChem failed for QCR-20: 404 Client Error: PUGREST.NotFound for url: https://pubchem.ncbi.nlm.nih.gov/rest/pug/compound/name/QCR-20/property/IsomericSMILES/TXT\n",
      " get_from_pubchem could not find SMILES for 'QCR-20'\n",
      "PubChem-CID failed for QCR-20: 404 Client Error: PUGREST.NotFound for url: https://pubchem.ncbi.nlm.nih.gov/rest/pug/compound/name/QCR-20/cids/TXT\n",
      " get_from_pubchem_cid could not find SMILES for 'QCR-20'\n",
      " get_from_zinc could not find SMILES for 'QCR-20'\n",
      " get_from_nci could not find SMILES for 'QCR-20'\n",
      "CIR failed for QCR-20: 500 Server Error: INTERNAL SERVER ERROR for url: https://cactus.nci.nih.gov/chemical/structure/QCR-20/smiles\n",
      " get_from_cir could not find SMILES for 'QCR-20'\n",
      " get_from_chembl could not find SMILES for 'QCR-20'\n"
     ]
    },
    {
     "name": "stderr",
     "output_type": "stream",
     "text": [
      " 71%|██████████████████████████████████████████████████████▏                     | 2959/4150 [49:03<1:42:26,  5.16s/it]"
     ]
    },
    {
     "name": "stdout",
     "output_type": "stream",
     "text": [
      " None of the APIs could find SMILES for 'QCR-20'\n",
      "\n"
     ]
    },
    {
     "name": "stderr",
     "output_type": "stream",
     "text": [
      " 72%|████████████████████████████████████████████████████████▏                     | 2989/4150 [49:33<19:09,  1.01it/s]"
     ]
    },
    {
     "name": "stdout",
     "output_type": "stream",
     "text": [
      "PubChem failed for AC1NPCOI: 404 Client Error: PUGREST.NotFound for url: https://pubchem.ncbi.nlm.nih.gov/rest/pug/compound/name/AC1NPCOI/property/IsomericSMILES/TXT\n",
      " get_from_pubchem could not find SMILES for 'AC1NPCOI'\n",
      "PubChem-CID failed for AC1NPCOI: 404 Client Error: PUGREST.NotFound for url: https://pubchem.ncbi.nlm.nih.gov/rest/pug/compound/name/AC1NPCOI/cids/TXT\n",
      " get_from_pubchem_cid could not find SMILES for 'AC1NPCOI'\n",
      " get_from_zinc could not find SMILES for 'AC1NPCOI'\n",
      " get_from_nci could not find SMILES for 'AC1NPCOI'\n",
      "CIR failed for AC1NPCOI: 500 Server Error: INTERNAL SERVER ERROR for url: https://cactus.nci.nih.gov/chemical/structure/AC1NPCOI/smiles\n",
      " get_from_cir could not find SMILES for 'AC1NPCOI'\n",
      " get_from_chembl could not find SMILES for 'AC1NPCOI'\n"
     ]
    },
    {
     "name": "stderr",
     "output_type": "stream",
     "text": [
      " 72%|██████████████████████████████████████████████████████▊                     | 2990/4150 [49:45<1:28:00,  4.55s/it]"
     ]
    },
    {
     "name": "stdout",
     "output_type": "stream",
     "text": [
      " None of the APIs could find SMILES for 'AC1NPCOI'\n",
      "\n"
     ]
    },
    {
     "name": "stderr",
     "output_type": "stream",
     "text": [
      " 72%|████████████████████████████████████████████████████████▍                     | 3001/4150 [49:55<18:33,  1.03it/s]"
     ]
    },
    {
     "name": "stdout",
     "output_type": "stream",
     "text": [
      "PubChem failed for Pd-1/pd-l1 inhibitor 1: 400 Client Error: PUGREST.BadRequest for url: https://pubchem.ncbi.nlm.nih.gov/rest/pug/compound/name/Pd-1/pd-l1%20inhibitor%201/property/IsomericSMILES/TXT\n",
      " get_from_pubchem could not find SMILES for 'Pd-1/pd-l1 inhibitor 1'\n",
      "PubChem-CID failed for Pd-1/pd-l1 inhibitor 1: 400 Client Error: PUGREST.BadRequest for url: https://pubchem.ncbi.nlm.nih.gov/rest/pug/compound/name/Pd-1/pd-l1%20inhibitor%201/cids/TXT\n",
      " get_from_pubchem_cid could not find SMILES for 'Pd-1/pd-l1 inhibitor 1'\n",
      " get_from_zinc could not find SMILES for 'Pd-1/pd-l1 inhibitor 1'\n",
      " get_from_nci could not find SMILES for 'Pd-1/pd-l1 inhibitor 1'\n",
      "CIR failed for Pd-1/pd-l1 inhibitor 1: 500 Server Error: INTERNAL SERVER ERROR for url: https://cactus.nci.nih.gov/chemical/structure/Pd-1/pd-l1%20inhibitor%201/smiles\n",
      " get_from_cir could not find SMILES for 'Pd-1/pd-l1 inhibitor 1'\n",
      " get_from_chembl could not find SMILES for 'Pd-1/pd-l1 inhibitor 1'\n"
     ]
    },
    {
     "name": "stderr",
     "output_type": "stream",
     "text": [
      " 72%|██████████████████████████████████████████████████████▉                     | 3002/4150 [50:10<1:38:28,  5.15s/it]"
     ]
    },
    {
     "name": "stdout",
     "output_type": "stream",
     "text": [
      " None of the APIs could find SMILES for 'Pd-1/pd-l1 inhibitor 1'\n",
      "\n"
     ]
    },
    {
     "name": "stderr",
     "output_type": "stream",
     "text": [
      " 74%|█████████████████████████████████████████████████████████▎                    | 3051/4150 [50:55<16:57,  1.08it/s]"
     ]
    },
    {
     "name": "stdout",
     "output_type": "stream",
     "text": [
      "PubChem failed for MOLPORT-042-665-727: 404 Client Error: PUGREST.NotFound for url: https://pubchem.ncbi.nlm.nih.gov/rest/pug/compound/name/MOLPORT-042-665-727/property/IsomericSMILES/TXT\n",
      " get_from_pubchem could not find SMILES for 'MOLPORT-042-665-727'\n",
      "PubChem-CID failed for MOLPORT-042-665-727: 404 Client Error: PUGREST.NotFound for url: https://pubchem.ncbi.nlm.nih.gov/rest/pug/compound/name/MOLPORT-042-665-727/cids/TXT\n",
      " get_from_pubchem_cid could not find SMILES for 'MOLPORT-042-665-727'\n",
      " get_from_zinc could not find SMILES for 'MOLPORT-042-665-727'\n",
      " get_from_nci could not find SMILES for 'MOLPORT-042-665-727'\n",
      "CIR failed for MOLPORT-042-665-727: 500 Server Error: INTERNAL SERVER ERROR for url: https://cactus.nci.nih.gov/chemical/structure/MOLPORT-042-665-727/smiles\n",
      " get_from_cir could not find SMILES for 'MOLPORT-042-665-727'\n",
      " get_from_chembl could not find SMILES for 'MOLPORT-042-665-727'\n"
     ]
    },
    {
     "name": "stderr",
     "output_type": "stream",
     "text": [
      " 74%|███████████████████████████████████████████████████████▉                    | 3052/4150 [51:08<1:23:18,  4.55s/it]"
     ]
    },
    {
     "name": "stdout",
     "output_type": "stream",
     "text": [
      " None of the APIs could find SMILES for 'MOLPORT-042-665-727'\n",
      "\n"
     ]
    },
    {
     "name": "stderr",
     "output_type": "stream",
     "text": [
      " 76%|███████████████████████████████████████████████████████████▌                  | 3166/4150 [52:53<14:55,  1.10it/s]"
     ]
    },
    {
     "name": "stdout",
     "output_type": "stream",
     "text": [
      "PubChem failed for ZINC242723022: 404 Client Error: PUGREST.NotFound for url: https://pubchem.ncbi.nlm.nih.gov/rest/pug/compound/name/ZINC242723022/property/IsomericSMILES/TXT\n",
      " get_from_pubchem could not find SMILES for 'ZINC242723022'\n",
      "PubChem-CID failed for ZINC242723022: 404 Client Error: PUGREST.NotFound for url: https://pubchem.ncbi.nlm.nih.gov/rest/pug/compound/name/ZINC242723022/cids/TXT\n",
      " get_from_pubchem_cid could not find SMILES for 'ZINC242723022'\n",
      " get_from_zinc could not find SMILES for 'ZINC242723022'\n",
      " get_from_nci could not find SMILES for 'ZINC242723022'\n",
      "CIR failed for ZINC242723022: 500 Server Error: INTERNAL SERVER ERROR for url: https://cactus.nci.nih.gov/chemical/structure/ZINC242723022/smiles\n",
      " get_from_cir could not find SMILES for 'ZINC242723022'\n",
      " get_from_chembl could not find SMILES for 'ZINC242723022'\n"
     ]
    },
    {
     "name": "stderr",
     "output_type": "stream",
     "text": [
      " 76%|█████████████████████████████████████████████████████████▉                  | 3167/4150 [53:05<1:10:01,  4.27s/it]"
     ]
    },
    {
     "name": "stdout",
     "output_type": "stream",
     "text": [
      " None of the APIs could find SMILES for 'ZINC242723022'\n",
      "\n"
     ]
    },
    {
     "name": "stderr",
     "output_type": "stream",
     "text": [
      " 77%|████████████████████████████████████████████████████████████▎                 | 3212/4150 [53:46<13:33,  1.15it/s]"
     ]
    },
    {
     "name": "stdout",
     "output_type": "stream",
     "text": [
      "PubChem failed for AC1OF4NF: 404 Client Error: PUGREST.NotFound for url: https://pubchem.ncbi.nlm.nih.gov/rest/pug/compound/name/AC1OF4NF/property/IsomericSMILES/TXT\n",
      " get_from_pubchem could not find SMILES for 'AC1OF4NF'\n",
      "PubChem-CID failed for AC1OF4NF: 404 Client Error: PUGREST.NotFound for url: https://pubchem.ncbi.nlm.nih.gov/rest/pug/compound/name/AC1OF4NF/cids/TXT\n",
      " get_from_pubchem_cid could not find SMILES for 'AC1OF4NF'\n",
      " get_from_zinc could not find SMILES for 'AC1OF4NF'\n",
      " get_from_nci could not find SMILES for 'AC1OF4NF'\n",
      "CIR failed for AC1OF4NF: 500 Server Error: INTERNAL SERVER ERROR for url: https://cactus.nci.nih.gov/chemical/structure/AC1OF4NF/smiles\n",
      " get_from_cir could not find SMILES for 'AC1OF4NF'\n",
      " get_from_chembl could not find SMILES for 'AC1OF4NF'\n"
     ]
    },
    {
     "name": "stderr",
     "output_type": "stream",
     "text": [
      " 77%|██████████████████████████████████████████████████████████▊                 | 3213/4150 [53:59<1:10:47,  4.53s/it]"
     ]
    },
    {
     "name": "stdout",
     "output_type": "stream",
     "text": [
      " None of the APIs could find SMILES for 'AC1OF4NF'\n",
      "\n"
     ]
    },
    {
     "name": "stderr",
     "output_type": "stream",
     "text": [
      " 78%|████████████████████████████████████████████████████████████▍                 | 3217/4150 [54:03<27:16,  1.75s/it]"
     ]
    },
    {
     "name": "stdout",
     "output_type": "stream",
     "text": [
      "PubChem failed for Ergosterine: 404 Client Error: PUGREST.NotFound for url: https://pubchem.ncbi.nlm.nih.gov/rest/pug/compound/name/Ergosterine/property/IsomericSMILES/TXT\n",
      " get_from_pubchem could not find SMILES for 'Ergosterine'\n",
      "PubChem-CID failed for Ergosterine: 404 Client Error: PUGREST.NotFound for url: https://pubchem.ncbi.nlm.nih.gov/rest/pug/compound/name/Ergosterine/cids/TXT\n",
      " get_from_pubchem_cid could not find SMILES for 'Ergosterine'\n",
      " get_from_zinc could not find SMILES for 'Ergosterine'\n",
      " get_from_nci could not find SMILES for 'Ergosterine'\n",
      "CIR failed for Ergosterine: 500 Server Error: INTERNAL SERVER ERROR for url: https://cactus.nci.nih.gov/chemical/structure/Ergosterine/smiles\n",
      " get_from_cir could not find SMILES for 'Ergosterine'\n",
      " get_from_chembl could not find SMILES for 'Ergosterine'\n"
     ]
    },
    {
     "name": "stderr",
     "output_type": "stream",
     "text": [
      " 78%|██████████████████████████████████████████████████████████▉                 | 3218/4150 [54:16<1:20:48,  5.20s/it]"
     ]
    },
    {
     "name": "stdout",
     "output_type": "stream",
     "text": [
      " None of the APIs could find SMILES for 'Ergosterine'\n",
      "\n"
     ]
    },
    {
     "name": "stderr",
     "output_type": "stream",
     "text": [
      " 79%|█████████████████████████████████████████████████████████████▊                | 3290/4150 [55:21<14:29,  1.01s/it]"
     ]
    },
    {
     "name": "stdout",
     "output_type": "stream",
     "text": [
      "PubChem failed for AC1O7H3F: 404 Client Error: PUGREST.NotFound for url: https://pubchem.ncbi.nlm.nih.gov/rest/pug/compound/name/AC1O7H3F/property/IsomericSMILES/TXT\n",
      " get_from_pubchem could not find SMILES for 'AC1O7H3F'\n",
      "PubChem-CID failed for AC1O7H3F: 404 Client Error: PUGREST.NotFound for url: https://pubchem.ncbi.nlm.nih.gov/rest/pug/compound/name/AC1O7H3F/cids/TXT\n",
      " get_from_pubchem_cid could not find SMILES for 'AC1O7H3F'\n",
      " get_from_zinc could not find SMILES for 'AC1O7H3F'\n",
      " get_from_nci could not find SMILES for 'AC1O7H3F'\n",
      "CIR failed for AC1O7H3F: 500 Server Error: INTERNAL SERVER ERROR for url: https://cactus.nci.nih.gov/chemical/structure/AC1O7H3F/smiles\n",
      " get_from_cir could not find SMILES for 'AC1O7H3F'\n",
      " get_from_chembl could not find SMILES for 'AC1O7H3F'\n"
     ]
    },
    {
     "name": "stderr",
     "output_type": "stream",
     "text": [
      " 79%|████████████████████████████████████████████████████████████▎               | 3291/4150 [55:36<1:14:33,  5.21s/it]"
     ]
    },
    {
     "name": "stdout",
     "output_type": "stream",
     "text": [
      " None of the APIs could find SMILES for 'AC1O7H3F'\n",
      "\n"
     ]
    },
    {
     "name": "stderr",
     "output_type": "stream",
     "text": [
      " 80%|██████████████████████████████████████████████████████████████▋               | 3332/4150 [56:14<12:17,  1.11it/s]"
     ]
    },
    {
     "name": "stdout",
     "output_type": "stream",
     "text": [
      "PubChem failed for ZINC250325905: 404 Client Error: PUGREST.NotFound for url: https://pubchem.ncbi.nlm.nih.gov/rest/pug/compound/name/ZINC250325905/property/IsomericSMILES/TXT\n",
      " get_from_pubchem could not find SMILES for 'ZINC250325905'\n",
      "PubChem-CID failed for ZINC250325905: 404 Client Error: PUGREST.NotFound for url: https://pubchem.ncbi.nlm.nih.gov/rest/pug/compound/name/ZINC250325905/cids/TXT\n",
      " get_from_pubchem_cid could not find SMILES for 'ZINC250325905'\n",
      " get_from_zinc could not find SMILES for 'ZINC250325905'\n",
      " get_from_nci could not find SMILES for 'ZINC250325905'\n",
      "CIR failed for ZINC250325905: 500 Server Error: INTERNAL SERVER ERROR for url: https://cactus.nci.nih.gov/chemical/structure/ZINC250325905/smiles\n",
      " get_from_cir could not find SMILES for 'ZINC250325905'\n",
      " get_from_chembl could not find SMILES for 'ZINC250325905'\n"
     ]
    },
    {
     "name": "stderr",
     "output_type": "stream",
     "text": [
      " 80%|██████████████████████████████████████████████████████████████▋               | 3333/4150 [56:26<56:52,  4.18s/it]"
     ]
    },
    {
     "name": "stdout",
     "output_type": "stream",
     "text": [
      " None of the APIs could find SMILES for 'ZINC250325905'\n",
      "\n"
     ]
    },
    {
     "name": "stderr",
     "output_type": "stream",
     "text": [
      " 80%|██████████████████████████████████████████████████████████████▋               | 3335/4150 [56:28<33:44,  2.48s/it]"
     ]
    },
    {
     "name": "stdout",
     "output_type": "stream",
     "text": [
      "PubChem failed for AC1NUNML: 404 Client Error: PUGREST.NotFound for url: https://pubchem.ncbi.nlm.nih.gov/rest/pug/compound/name/AC1NUNML/property/IsomericSMILES/TXT\n",
      " get_from_pubchem could not find SMILES for 'AC1NUNML'\n",
      "PubChem-CID failed for AC1NUNML: 404 Client Error: PUGREST.NotFound for url: https://pubchem.ncbi.nlm.nih.gov/rest/pug/compound/name/AC1NUNML/cids/TXT\n",
      " get_from_pubchem_cid could not find SMILES for 'AC1NUNML'\n",
      " get_from_zinc could not find SMILES for 'AC1NUNML'\n",
      " get_from_nci could not find SMILES for 'AC1NUNML'\n",
      "CIR failed for AC1NUNML: 500 Server Error: INTERNAL SERVER ERROR for url: https://cactus.nci.nih.gov/chemical/structure/AC1NUNML/smiles\n",
      " get_from_cir could not find SMILES for 'AC1NUNML'\n",
      " get_from_chembl could not find SMILES for 'AC1NUNML'\n"
     ]
    },
    {
     "name": "stderr",
     "output_type": "stream",
     "text": [
      " 80%|█████████████████████████████████████████████████████████████               | 3336/4150 [56:41<1:17:22,  5.70s/it]"
     ]
    },
    {
     "name": "stdout",
     "output_type": "stream",
     "text": [
      " None of the APIs could find SMILES for 'AC1NUNML'\n",
      "\n"
     ]
    },
    {
     "name": "stderr",
     "output_type": "stream",
     "text": [
      " 81%|██████████████████████████████████████████████████████████████▊               | 3341/4150 [56:46<23:06,  1.71s/it]"
     ]
    },
    {
     "name": "stdout",
     "output_type": "stream",
     "text": [
      "PubChem failed for AK198640: 404 Client Error: PUGREST.NotFound for url: https://pubchem.ncbi.nlm.nih.gov/rest/pug/compound/name/AK198640/property/IsomericSMILES/TXT\n",
      " get_from_pubchem could not find SMILES for 'AK198640'\n",
      "PubChem-CID failed for AK198640: 404 Client Error: PUGREST.NotFound for url: https://pubchem.ncbi.nlm.nih.gov/rest/pug/compound/name/AK198640/cids/TXT\n",
      " get_from_pubchem_cid could not find SMILES for 'AK198640'\n",
      " get_from_zinc could not find SMILES for 'AK198640'\n",
      " get_from_nci could not find SMILES for 'AK198640'\n",
      "CIR failed for AK198640: 500 Server Error: INTERNAL SERVER ERROR for url: https://cactus.nci.nih.gov/chemical/structure/AK198640/smiles\n",
      " get_from_cir could not find SMILES for 'AK198640'\n",
      " get_from_chembl could not find SMILES for 'AK198640'\n"
     ]
    },
    {
     "name": "stderr",
     "output_type": "stream",
     "text": [
      " 81%|█████████████████████████████████████████████████████████████▏              | 3342/4150 [56:58<1:08:15,  5.07s/it]"
     ]
    },
    {
     "name": "stdout",
     "output_type": "stream",
     "text": [
      " None of the APIs could find SMILES for 'AK198640'\n",
      "\n"
     ]
    },
    {
     "name": "stderr",
     "output_type": "stream",
     "text": [
      " 81%|██████████████████████████████████████████████████████████████▊               | 3344/4150 [57:00<39:32,  2.94s/it]"
     ]
    },
    {
     "name": "stdout",
     "output_type": "stream",
     "text": [
      "PubChem failed for AC1LAYFC: 404 Client Error: PUGREST.NotFound for url: https://pubchem.ncbi.nlm.nih.gov/rest/pug/compound/name/AC1LAYFC/property/IsomericSMILES/TXT\n",
      " get_from_pubchem could not find SMILES for 'AC1LAYFC'\n",
      "PubChem-CID failed for AC1LAYFC: 404 Client Error: PUGREST.NotFound for url: https://pubchem.ncbi.nlm.nih.gov/rest/pug/compound/name/AC1LAYFC/cids/TXT\n",
      " get_from_pubchem_cid could not find SMILES for 'AC1LAYFC'\n",
      " get_from_zinc could not find SMILES for 'AC1LAYFC'\n",
      " get_from_nci could not find SMILES for 'AC1LAYFC'\n",
      "CIR failed for AC1LAYFC: 500 Server Error: INTERNAL SERVER ERROR for url: https://cactus.nci.nih.gov/chemical/structure/AC1LAYFC/smiles\n",
      " get_from_cir could not find SMILES for 'AC1LAYFC'\n",
      " get_from_chembl could not find SMILES for 'AC1LAYFC'\n"
     ]
    },
    {
     "name": "stderr",
     "output_type": "stream",
     "text": [
      " 81%|█████████████████████████████████████████████████████████████▎              | 3345/4150 [57:13<1:19:23,  5.92s/it]"
     ]
    },
    {
     "name": "stdout",
     "output_type": "stream",
     "text": [
      " None of the APIs could find SMILES for 'AC1LAYFC'\n",
      "\n"
     ]
    },
    {
     "name": "stderr",
     "output_type": "stream",
     "text": [
      " 81%|███████████████████████████████████████████████████████████████▌              | 3380/4150 [57:45<11:14,  1.14it/s]"
     ]
    },
    {
     "name": "stdout",
     "output_type": "stream",
     "text": [
      "PubChem failed for AC1LU7HW: 404 Client Error: PUGREST.NotFound for url: https://pubchem.ncbi.nlm.nih.gov/rest/pug/compound/name/AC1LU7HW/property/IsomericSMILES/TXT\n",
      " get_from_pubchem could not find SMILES for 'AC1LU7HW'\n",
      "PubChem-CID failed for AC1LU7HW: 404 Client Error: PUGREST.NotFound for url: https://pubchem.ncbi.nlm.nih.gov/rest/pug/compound/name/AC1LU7HW/cids/TXT\n",
      " get_from_pubchem_cid could not find SMILES for 'AC1LU7HW'\n",
      " get_from_zinc could not find SMILES for 'AC1LU7HW'\n",
      " get_from_nci could not find SMILES for 'AC1LU7HW'\n",
      "CIR failed for AC1LU7HW: 500 Server Error: INTERNAL SERVER ERROR for url: https://cactus.nci.nih.gov/chemical/structure/AC1LU7HW/smiles\n",
      " get_from_cir could not find SMILES for 'AC1LU7HW'\n",
      " get_from_chembl could not find SMILES for 'AC1LU7HW'\n"
     ]
    },
    {
     "name": "stderr",
     "output_type": "stream",
     "text": [
      " 81%|███████████████████████████████████████████████████████████████▌              | 3381/4150 [57:58<58:07,  4.54s/it]"
     ]
    },
    {
     "name": "stdout",
     "output_type": "stream",
     "text": [
      " None of the APIs could find SMILES for 'AC1LU7HW'\n",
      "\n"
     ]
    },
    {
     "name": "stderr",
     "output_type": "stream",
     "text": [
      " 82%|███████████████████████████████████████████████████████████████▊              | 3393/4150 [58:08<11:48,  1.07it/s]"
     ]
    },
    {
     "name": "stdout",
     "output_type": "stream",
     "text": [
      "PubChem failed for ZD7288 HYDRATE: 404 Client Error: PUGREST.NotFound for url: https://pubchem.ncbi.nlm.nih.gov/rest/pug/compound/name/ZD7288%20HYDRATE/property/IsomericSMILES/TXT\n",
      " get_from_pubchem could not find SMILES for 'ZD7288 HYDRATE'\n",
      "PubChem-CID failed for ZD7288 HYDRATE: 404 Client Error: PUGREST.NotFound for url: https://pubchem.ncbi.nlm.nih.gov/rest/pug/compound/name/ZD7288%20HYDRATE/cids/TXT\n",
      " get_from_pubchem_cid could not find SMILES for 'ZD7288 HYDRATE'\n",
      " get_from_zinc could not find SMILES for 'ZD7288 HYDRATE'\n",
      " get_from_nci could not find SMILES for 'ZD7288 HYDRATE'\n",
      "CIR failed for ZD7288 HYDRATE: 500 Server Error: INTERNAL SERVER ERROR for url: https://cactus.nci.nih.gov/chemical/structure/ZD7288%20HYDRATE/smiles\n",
      " get_from_cir could not find SMILES for 'ZD7288 HYDRATE'\n",
      " get_from_chembl could not find SMILES for 'ZD7288 HYDRATE'\n"
     ]
    },
    {
     "name": "stderr",
     "output_type": "stream",
     "text": [
      " 82%|███████████████████████████████████████████████████████████████▊              | 3394/4150 [58:22<57:42,  4.58s/it]"
     ]
    },
    {
     "name": "stdout",
     "output_type": "stream",
     "text": [
      " None of the APIs could find SMILES for 'ZD7288 HYDRATE'\n",
      "\n"
     ]
    },
    {
     "name": "stderr",
     "output_type": "stream",
     "text": [
      " 83%|████████████████████████████████████████████████████████████████▋             | 3444/4150 [59:07<10:56,  1.08it/s]"
     ]
    },
    {
     "name": "stdout",
     "output_type": "stream",
     "text": [
      "PubChem failed for AC1O53DL: 404 Client Error: PUGREST.NotFound for url: https://pubchem.ncbi.nlm.nih.gov/rest/pug/compound/name/AC1O53DL/property/IsomericSMILES/TXT\n",
      " get_from_pubchem could not find SMILES for 'AC1O53DL'\n",
      "PubChem-CID failed for AC1O53DL: 404 Client Error: PUGREST.NotFound for url: https://pubchem.ncbi.nlm.nih.gov/rest/pug/compound/name/AC1O53DL/cids/TXT\n",
      " get_from_pubchem_cid could not find SMILES for 'AC1O53DL'\n",
      " get_from_zinc could not find SMILES for 'AC1O53DL'\n",
      " get_from_nci could not find SMILES for 'AC1O53DL'\n",
      "CIR failed for AC1O53DL: 500 Server Error: INTERNAL SERVER ERROR for url: https://cactus.nci.nih.gov/chemical/structure/AC1O53DL/smiles\n",
      " get_from_cir could not find SMILES for 'AC1O53DL'\n",
      " get_from_chembl could not find SMILES for 'AC1O53DL'\n"
     ]
    },
    {
     "name": "stderr",
     "output_type": "stream",
     "text": [
      " 83%|████████████████████████████████████████████████████████████████▋             | 3445/4150 [59:20<53:55,  4.59s/it]"
     ]
    },
    {
     "name": "stdout",
     "output_type": "stream",
     "text": [
      " None of the APIs could find SMILES for 'AC1O53DL'\n",
      "\n"
     ]
    },
    {
     "name": "stderr",
     "output_type": "stream",
     "text": [
      " 83%|█████████████████████████████████████████████████████████████████             | 3460/4150 [59:34<10:27,  1.10it/s]"
     ]
    },
    {
     "name": "stdout",
     "output_type": "stream",
     "text": [
      "PubChem failed for Bacitracin (Zinc): 404 Client Error: PUGREST.NotFound for url: https://pubchem.ncbi.nlm.nih.gov/rest/pug/compound/name/Bacitracin%20(Zinc)/property/IsomericSMILES/TXT\n",
      " get_from_pubchem could not find SMILES for 'Bacitracin (Zinc)'\n",
      "PubChem-CID failed for Bacitracin (Zinc): 404 Client Error: PUGREST.NotFound for url: https://pubchem.ncbi.nlm.nih.gov/rest/pug/compound/name/Bacitracin%20(Zinc)/cids/TXT\n",
      " get_from_pubchem_cid could not find SMILES for 'Bacitracin (Zinc)'\n",
      " get_from_zinc could not find SMILES for 'Bacitracin (Zinc)'\n",
      " get_from_nci could not find SMILES for 'Bacitracin (Zinc)'\n",
      "CIR failed for Bacitracin (Zinc): 500 Server Error: INTERNAL SERVER ERROR for url: https://cactus.nci.nih.gov/chemical/structure/Bacitracin%20(Zinc)/smiles\n",
      " get_from_cir could not find SMILES for 'Bacitracin (Zinc)'\n",
      " get_from_chembl could not find SMILES for 'Bacitracin (Zinc)'\n"
     ]
    },
    {
     "name": "stderr",
     "output_type": "stream",
     "text": [
      " 83%|█████████████████████████████████████████████████████████████████             | 3461/4150 [59:47<51:43,  4.50s/it]"
     ]
    },
    {
     "name": "stdout",
     "output_type": "stream",
     "text": [
      " None of the APIs could find SMILES for 'Bacitracin (Zinc)'\n",
      "\n"
     ]
    },
    {
     "name": "stderr",
     "output_type": "stream",
     "text": [
      " 85%|████████████████████████████████████████████████████████████████▎           | 3515/4150 [1:00:35<09:24,  1.13it/s]"
     ]
    },
    {
     "name": "stdout",
     "output_type": "stream",
     "text": [
      "PubChem failed for TIC10 isomer: 404 Client Error: PUGREST.NotFound for url: https://pubchem.ncbi.nlm.nih.gov/rest/pug/compound/name/TIC10%20isomer/property/IsomericSMILES/TXT\n",
      " get_from_pubchem could not find SMILES for 'TIC10 isomer'\n",
      "PubChem-CID failed for TIC10 isomer: 404 Client Error: PUGREST.NotFound for url: https://pubchem.ncbi.nlm.nih.gov/rest/pug/compound/name/TIC10%20isomer/cids/TXT\n",
      " get_from_pubchem_cid could not find SMILES for 'TIC10 isomer'\n",
      " get_from_zinc could not find SMILES for 'TIC10 isomer'\n",
      " get_from_nci could not find SMILES for 'TIC10 isomer'\n",
      "CIR failed for TIC10 isomer: 500 Server Error: INTERNAL SERVER ERROR for url: https://cactus.nci.nih.gov/chemical/structure/TIC10%20isomer/smiles\n",
      " get_from_cir could not find SMILES for 'TIC10 isomer'\n",
      " get_from_chembl could not find SMILES for 'TIC10 isomer'\n"
     ]
    },
    {
     "name": "stderr",
     "output_type": "stream",
     "text": [
      " 85%|████████████████████████████████████████████████████████████████▍           | 3516/4150 [1:00:50<53:51,  5.10s/it]"
     ]
    },
    {
     "name": "stdout",
     "output_type": "stream",
     "text": [
      " None of the APIs could find SMILES for 'TIC10 isomer'\n",
      "\n"
     ]
    },
    {
     "name": "stderr",
     "output_type": "stream",
     "text": [
      " 85%|████████████████████████████████████████████████████████████████▍           | 3519/4150 [1:00:53<24:45,  2.35s/it]"
     ]
    },
    {
     "name": "stdout",
     "output_type": "stream",
     "text": [
      "PubChem failed for AK170455: 404 Client Error: PUGREST.NotFound for url: https://pubchem.ncbi.nlm.nih.gov/rest/pug/compound/name/AK170455/property/IsomericSMILES/TXT\n",
      " get_from_pubchem could not find SMILES for 'AK170455'\n",
      "PubChem-CID failed for AK170455: 404 Client Error: PUGREST.NotFound for url: https://pubchem.ncbi.nlm.nih.gov/rest/pug/compound/name/AK170455/cids/TXT\n",
      " get_from_pubchem_cid could not find SMILES for 'AK170455'\n",
      " get_from_zinc could not find SMILES for 'AK170455'\n",
      " get_from_nci could not find SMILES for 'AK170455'\n",
      "CIR failed for AK170455: 500 Server Error: INTERNAL SERVER ERROR for url: https://cactus.nci.nih.gov/chemical/structure/AK170455/smiles\n",
      " get_from_cir could not find SMILES for 'AK170455'\n",
      " get_from_chembl could not find SMILES for 'AK170455'\n"
     ]
    },
    {
     "name": "stderr",
     "output_type": "stream",
     "text": [
      " 85%|████████████████████████████████████████████████████████████████▍           | 3520/4150 [1:01:06<57:53,  5.51s/it]"
     ]
    },
    {
     "name": "stdout",
     "output_type": "stream",
     "text": [
      " None of the APIs could find SMILES for 'AK170455'\n",
      "\n"
     ]
    },
    {
     "name": "stderr",
     "output_type": "stream",
     "text": [
      " 85%|████████████████████████████████████████████████████████████████▍           | 3521/4150 [1:01:07<43:17,  4.13s/it]"
     ]
    },
    {
     "name": "stdout",
     "output_type": "stream",
     "text": [
      "PubChem failed for AK-77283: 404 Client Error: PUGREST.NotFound for url: https://pubchem.ncbi.nlm.nih.gov/rest/pug/compound/name/AK-77283/property/IsomericSMILES/TXT\n",
      " get_from_pubchem could not find SMILES for 'AK-77283'\n",
      "PubChem-CID failed for AK-77283: 404 Client Error: PUGREST.NotFound for url: https://pubchem.ncbi.nlm.nih.gov/rest/pug/compound/name/AK-77283/cids/TXT\n",
      " get_from_pubchem_cid could not find SMILES for 'AK-77283'\n",
      " get_from_zinc could not find SMILES for 'AK-77283'\n",
      " get_from_nci could not find SMILES for 'AK-77283'\n",
      "CIR failed for AK-77283: 500 Server Error: INTERNAL SERVER ERROR for url: https://cactus.nci.nih.gov/chemical/structure/AK-77283/smiles\n",
      " get_from_cir could not find SMILES for 'AK-77283'\n",
      " get_from_chembl could not find SMILES for 'AK-77283'\n"
     ]
    },
    {
     "name": "stderr",
     "output_type": "stream",
     "text": [
      " 85%|██████████████████████████████████████████████████████████████▊           | 3522/4150 [1:01:20<1:12:15,  6.90s/it]"
     ]
    },
    {
     "name": "stdout",
     "output_type": "stream",
     "text": [
      " None of the APIs could find SMILES for 'AK-77283'\n",
      "\n"
     ]
    },
    {
     "name": "stderr",
     "output_type": "stream",
     "text": [
      " 85%|████████████████████████████████████████████████████████████████▌           | 3528/4150 [1:01:26<16:52,  1.63s/it]"
     ]
    },
    {
     "name": "stdout",
     "output_type": "stream",
     "text": [
      "PubChem failed for AC1L1KJK: 404 Client Error: PUGREST.NotFound for url: https://pubchem.ncbi.nlm.nih.gov/rest/pug/compound/name/AC1L1KJK/property/IsomericSMILES/TXT\n",
      " get_from_pubchem could not find SMILES for 'AC1L1KJK'\n",
      "PubChem-CID failed for AC1L1KJK: 404 Client Error: PUGREST.NotFound for url: https://pubchem.ncbi.nlm.nih.gov/rest/pug/compound/name/AC1L1KJK/cids/TXT\n",
      " get_from_pubchem_cid could not find SMILES for 'AC1L1KJK'\n",
      " get_from_zinc could not find SMILES for 'AC1L1KJK'\n",
      " get_from_nci could not find SMILES for 'AC1L1KJK'\n",
      "CIR failed for AC1L1KJK: 500 Server Error: INTERNAL SERVER ERROR for url: https://cactus.nci.nih.gov/chemical/structure/AC1L1KJK/smiles\n",
      " get_from_cir could not find SMILES for 'AC1L1KJK'\n",
      " get_from_chembl could not find SMILES for 'AC1L1KJK'\n"
     ]
    },
    {
     "name": "stderr",
     "output_type": "stream",
     "text": [
      " 85%|████████████████████████████████████████████████████████████████▋           | 3529/4150 [1:01:39<52:54,  5.11s/it]"
     ]
    },
    {
     "name": "stdout",
     "output_type": "stream",
     "text": [
      " None of the APIs could find SMILES for 'AC1L1KJK'\n",
      "\n"
     ]
    },
    {
     "name": "stderr",
     "output_type": "stream",
     "text": [
      " 86%|█████████████████████████████████████████████████████████████████▍          | 3572/4150 [1:02:17<08:26,  1.14it/s]"
     ]
    },
    {
     "name": "stdout",
     "output_type": "stream",
     "text": [
      "PubChem failed for ZINC208949883: 404 Client Error: PUGREST.NotFound for url: https://pubchem.ncbi.nlm.nih.gov/rest/pug/compound/name/ZINC208949883/property/IsomericSMILES/TXT\n",
      " get_from_pubchem could not find SMILES for 'ZINC208949883'\n",
      "PubChem-CID failed for ZINC208949883: 404 Client Error: PUGREST.NotFound for url: https://pubchem.ncbi.nlm.nih.gov/rest/pug/compound/name/ZINC208949883/cids/TXT\n",
      " get_from_pubchem_cid could not find SMILES for 'ZINC208949883'\n",
      " get_from_zinc could not find SMILES for 'ZINC208949883'\n",
      " get_from_nci could not find SMILES for 'ZINC208949883'\n",
      "CIR failed for ZINC208949883: 500 Server Error: INTERNAL SERVER ERROR for url: https://cactus.nci.nih.gov/chemical/structure/ZINC208949883/smiles\n",
      " get_from_cir could not find SMILES for 'ZINC208949883'\n",
      " get_from_chembl could not find SMILES for 'ZINC208949883'\n"
     ]
    },
    {
     "name": "stderr",
     "output_type": "stream",
     "text": [
      " 86%|█████████████████████████████████████████████████████████████████▍          | 3573/4150 [1:02:30<40:46,  4.24s/it]"
     ]
    },
    {
     "name": "stdout",
     "output_type": "stream",
     "text": [
      " None of the APIs could find SMILES for 'ZINC208949883'\n",
      "\n",
      "PubChem failed for ZINC11616871: 404 Client Error: PUGREST.NotFound for url: https://pubchem.ncbi.nlm.nih.gov/rest/pug/compound/name/ZINC11616871/property/IsomericSMILES/TXT\n",
      " get_from_pubchem could not find SMILES for 'ZINC11616871'\n",
      "PubChem-CID failed for ZINC11616871: 404 Client Error: PUGREST.NotFound for url: https://pubchem.ncbi.nlm.nih.gov/rest/pug/compound/name/ZINC11616871/cids/TXT\n",
      " get_from_pubchem_cid could not find SMILES for 'ZINC11616871'\n",
      " get_from_zinc could not find SMILES for 'ZINC11616871'\n",
      " get_from_nci could not find SMILES for 'ZINC11616871'\n",
      "CIR failed for ZINC11616871: 500 Server Error: INTERNAL SERVER ERROR for url: https://cactus.nci.nih.gov/chemical/structure/ZINC11616871/smiles\n",
      " get_from_cir could not find SMILES for 'ZINC11616871'\n",
      " get_from_chembl could not find SMILES for 'ZINC11616871'\n"
     ]
    },
    {
     "name": "stderr",
     "output_type": "stream",
     "text": [
      " 86%|███████████████████████████████████████████████████████████████▋          | 3574/4150 [1:02:41<1:02:43,  6.53s/it]"
     ]
    },
    {
     "name": "stdout",
     "output_type": "stream",
     "text": [
      " None of the APIs could find SMILES for 'ZINC11616871'\n",
      "\n"
     ]
    },
    {
     "name": "stderr",
     "output_type": "stream",
     "text": [
      " 86%|█████████████████████████████████████████████████████████████████▌          | 3582/4150 [1:02:49<12:10,  1.29s/it]"
     ]
    },
    {
     "name": "stdout",
     "output_type": "stream",
     "text": [
      "PubChem failed for ZINC117147304: 404 Client Error: PUGREST.NotFound for url: https://pubchem.ncbi.nlm.nih.gov/rest/pug/compound/name/ZINC117147304/property/IsomericSMILES/TXT\n",
      " get_from_pubchem could not find SMILES for 'ZINC117147304'\n",
      "PubChem-CID failed for ZINC117147304: 404 Client Error: PUGREST.NotFound for url: https://pubchem.ncbi.nlm.nih.gov/rest/pug/compound/name/ZINC117147304/cids/TXT\n",
      " get_from_pubchem_cid could not find SMILES for 'ZINC117147304'\n",
      " get_from_zinc could not find SMILES for 'ZINC117147304'\n",
      " get_from_nci could not find SMILES for 'ZINC117147304'\n",
      "CIR failed for ZINC117147304: 500 Server Error: INTERNAL SERVER ERROR for url: https://cactus.nci.nih.gov/chemical/structure/ZINC117147304/smiles\n",
      " get_from_cir could not find SMILES for 'ZINC117147304'\n",
      " get_from_chembl could not find SMILES for 'ZINC117147304'\n"
     ]
    },
    {
     "name": "stderr",
     "output_type": "stream",
     "text": [
      " 86%|█████████████████████████████████████████████████████████████████▌          | 3583/4150 [1:03:01<43:40,  4.62s/it]"
     ]
    },
    {
     "name": "stdout",
     "output_type": "stream",
     "text": [
      " None of the APIs could find SMILES for 'ZINC117147304'\n",
      "\n"
     ]
    },
    {
     "name": "stderr",
     "output_type": "stream",
     "text": [
      " 87%|█████████████████████████████████████████████████████████████████▊          | 3594/4150 [1:03:11<09:05,  1.02it/s]"
     ]
    },
    {
     "name": "stdout",
     "output_type": "stream",
     "text": [
      "PubChem failed for KS-00001CUZ: 404 Client Error: PUGREST.NotFound for url: https://pubchem.ncbi.nlm.nih.gov/rest/pug/compound/name/KS-00001CUZ/property/IsomericSMILES/TXT\n",
      " get_from_pubchem could not find SMILES for 'KS-00001CUZ'\n",
      "PubChem-CID failed for KS-00001CUZ: 404 Client Error: PUGREST.NotFound for url: https://pubchem.ncbi.nlm.nih.gov/rest/pug/compound/name/KS-00001CUZ/cids/TXT\n",
      " get_from_pubchem_cid could not find SMILES for 'KS-00001CUZ'\n",
      " get_from_zinc could not find SMILES for 'KS-00001CUZ'\n",
      " get_from_nci could not find SMILES for 'KS-00001CUZ'\n",
      "CIR failed for KS-00001CUZ: 500 Server Error: INTERNAL SERVER ERROR for url: https://cactus.nci.nih.gov/chemical/structure/KS-00001CUZ/smiles\n",
      " get_from_cir could not find SMILES for 'KS-00001CUZ'\n",
      " get_from_chembl could not find SMILES for 'KS-00001CUZ'\n"
     ]
    },
    {
     "name": "stderr",
     "output_type": "stream",
     "text": [
      " 87%|█████████████████████████████████████████████████████████████████▊          | 3595/4150 [1:03:25<43:58,  4.75s/it]"
     ]
    },
    {
     "name": "stdout",
     "output_type": "stream",
     "text": [
      " None of the APIs could find SMILES for 'KS-00001CUZ'\n",
      "\n",
      "PubChem failed for CTK8E8456: 404 Client Error: PUGREST.NotFound for url: https://pubchem.ncbi.nlm.nih.gov/rest/pug/compound/name/CTK8E8456/property/IsomericSMILES/TXT\n",
      " get_from_pubchem could not find SMILES for 'CTK8E8456'\n",
      "PubChem-CID failed for CTK8E8456: 404 Client Error: PUGREST.NotFound for url: https://pubchem.ncbi.nlm.nih.gov/rest/pug/compound/name/CTK8E8456/cids/TXT\n",
      " get_from_pubchem_cid could not find SMILES for 'CTK8E8456'\n",
      " get_from_zinc could not find SMILES for 'CTK8E8456'\n",
      " get_from_nci could not find SMILES for 'CTK8E8456'\n",
      "CIR failed for CTK8E8456: 500 Server Error: INTERNAL SERVER ERROR for url: https://cactus.nci.nih.gov/chemical/structure/CTK8E8456/smiles\n",
      " get_from_cir could not find SMILES for 'CTK8E8456'\n",
      " get_from_chembl could not find SMILES for 'CTK8E8456'\n"
     ]
    },
    {
     "name": "stderr",
     "output_type": "stream",
     "text": [
      " 87%|████████████████████████████████████████████████████████████████          | 3596/4150 [1:03:38<1:07:23,  7.30s/it]"
     ]
    },
    {
     "name": "stdout",
     "output_type": "stream",
     "text": [
      " None of the APIs could find SMILES for 'CTK8E8456'\n",
      "\n"
     ]
    },
    {
     "name": "stderr",
     "output_type": "stream",
     "text": [
      " 87%|█████████████████████████████████████████████████████████████████▉          | 3603/4150 [1:03:44<12:51,  1.41s/it]"
     ]
    },
    {
     "name": "stdout",
     "output_type": "stream",
     "text": [
      "PubChem failed for CTK8F0346: 404 Client Error: PUGREST.NotFound for url: https://pubchem.ncbi.nlm.nih.gov/rest/pug/compound/name/CTK8F0346/property/IsomericSMILES/TXT\n",
      " get_from_pubchem could not find SMILES for 'CTK8F0346'\n",
      "PubChem-CID failed for CTK8F0346: 404 Client Error: PUGREST.NotFound for url: https://pubchem.ncbi.nlm.nih.gov/rest/pug/compound/name/CTK8F0346/cids/TXT\n",
      " get_from_pubchem_cid could not find SMILES for 'CTK8F0346'\n",
      " get_from_zinc could not find SMILES for 'CTK8F0346'\n",
      " get_from_nci could not find SMILES for 'CTK8F0346'\n",
      "CIR failed for CTK8F0346: 500 Server Error: INTERNAL SERVER ERROR for url: https://cactus.nci.nih.gov/chemical/structure/CTK8F0346/smiles\n",
      " get_from_cir could not find SMILES for 'CTK8F0346'\n",
      " get_from_chembl could not find SMILES for 'CTK8F0346'\n"
     ]
    },
    {
     "name": "stderr",
     "output_type": "stream",
     "text": [
      " 87%|██████████████████████████████████████████████████████████████████          | 3604/4150 [1:03:57<44:18,  4.87s/it]"
     ]
    },
    {
     "name": "stdout",
     "output_type": "stream",
     "text": [
      " None of the APIs could find SMILES for 'CTK8F0346'\n",
      "\n"
     ]
    },
    {
     "name": "stderr",
     "output_type": "stream",
     "text": [
      " 87%|██████████████████████████████████████████████████████████████████▎         | 3618/4150 [1:04:09<08:00,  1.11it/s]"
     ]
    },
    {
     "name": "stdout",
     "output_type": "stream",
     "text": [
      "PubChem failed for ZINC208012538: 404 Client Error: PUGREST.NotFound for url: https://pubchem.ncbi.nlm.nih.gov/rest/pug/compound/name/ZINC208012538/property/IsomericSMILES/TXT\n",
      " get_from_pubchem could not find SMILES for 'ZINC208012538'\n",
      "PubChem-CID failed for ZINC208012538: 404 Client Error: PUGREST.NotFound for url: https://pubchem.ncbi.nlm.nih.gov/rest/pug/compound/name/ZINC208012538/cids/TXT\n",
      " get_from_pubchem_cid could not find SMILES for 'ZINC208012538'\n",
      " get_from_zinc could not find SMILES for 'ZINC208012538'\n",
      " get_from_nci could not find SMILES for 'ZINC208012538'\n",
      "CIR failed for ZINC208012538: 500 Server Error: INTERNAL SERVER ERROR for url: https://cactus.nci.nih.gov/chemical/structure/ZINC208012538/smiles\n",
      " get_from_cir could not find SMILES for 'ZINC208012538'\n",
      " get_from_chembl could not find SMILES for 'ZINC208012538'\n"
     ]
    },
    {
     "name": "stderr",
     "output_type": "stream",
     "text": [
      " 87%|██████████████████████████████████████████████████████████████████▎         | 3619/4150 [1:04:21<37:07,  4.20s/it]"
     ]
    },
    {
     "name": "stdout",
     "output_type": "stream",
     "text": [
      " None of the APIs could find SMILES for 'ZINC208012538'\n",
      "\n"
     ]
    },
    {
     "name": "stderr",
     "output_type": "stream",
     "text": [
      " 87%|██████████████████████████████████████████████████████████████████▎         | 3622/4150 [1:04:24<17:44,  2.02s/it]"
     ]
    },
    {
     "name": "stdout",
     "output_type": "stream",
     "text": [
      "PubChem failed for ZINC17545571: 404 Client Error: PUGREST.NotFound for url: https://pubchem.ncbi.nlm.nih.gov/rest/pug/compound/name/ZINC17545571/property/IsomericSMILES/TXT\n",
      " get_from_pubchem could not find SMILES for 'ZINC17545571'\n",
      "PubChem-CID failed for ZINC17545571: 404 Client Error: PUGREST.NotFound for url: https://pubchem.ncbi.nlm.nih.gov/rest/pug/compound/name/ZINC17545571/cids/TXT\n",
      " get_from_pubchem_cid could not find SMILES for 'ZINC17545571'\n",
      " get_from_zinc could not find SMILES for 'ZINC17545571'\n",
      " get_from_nci could not find SMILES for 'ZINC17545571'\n",
      "CIR failed for ZINC17545571: 500 Server Error: INTERNAL SERVER ERROR for url: https://cactus.nci.nih.gov/chemical/structure/ZINC17545571/smiles\n",
      " get_from_cir could not find SMILES for 'ZINC17545571'\n",
      " get_from_chembl could not find SMILES for 'ZINC17545571'\n"
     ]
    },
    {
     "name": "stderr",
     "output_type": "stream",
     "text": [
      " 87%|██████████████████████████████████████████████████████████████████▎         | 3623/4150 [1:04:36<44:27,  5.06s/it]"
     ]
    },
    {
     "name": "stdout",
     "output_type": "stream",
     "text": [
      " None of the APIs could find SMILES for 'ZINC17545571'\n",
      "\n",
      "PubChem failed for 04/04/7218: 404 Client Error: PUGREST.NotFound for url: https://pubchem.ncbi.nlm.nih.gov/rest/pug/compound/name/04/04/7218/property/IsomericSMILES/TXT\n",
      " get_from_pubchem could not find SMILES for '04/04/7218'\n",
      "PubChem-CID failed for 04/04/7218: 404 Client Error: PUGREST.NotFound for url: https://pubchem.ncbi.nlm.nih.gov/rest/pug/compound/name/04/04/7218/cids/TXT\n",
      " get_from_pubchem_cid could not find SMILES for '04/04/7218'\n",
      " get_from_zinc could not find SMILES for '04/04/7218'\n",
      " get_from_nci could not find SMILES for '04/04/7218'\n",
      "CIR failed for 04/04/7218: 500 Server Error: INTERNAL SERVER ERROR for url: https://cactus.nci.nih.gov/chemical/structure/04/04/7218/smiles\n",
      " get_from_cir could not find SMILES for '04/04/7218'\n",
      " get_from_chembl could not find SMILES for '04/04/7218'\n"
     ]
    },
    {
     "name": "stderr",
     "output_type": "stream",
     "text": [
      " 87%|████████████████████████████████████████████████████████████████▌         | 3624/4150 [1:04:50<1:08:57,  7.87s/it]"
     ]
    },
    {
     "name": "stdout",
     "output_type": "stream",
     "text": [
      " None of the APIs could find SMILES for '04/04/7218'\n",
      "\n"
     ]
    },
    {
     "name": "stderr",
     "output_type": "stream",
     "text": [
      " 87%|██████████████████████████████████████████████████████████████████▍         | 3625/4150 [1:04:51<50:29,  5.77s/it]"
     ]
    },
    {
     "name": "stdout",
     "output_type": "stream",
     "text": [
      "PubChem failed for Curcumin, Curcuma longa L.: 404 Client Error: PUGREST.NotFound for url: https://pubchem.ncbi.nlm.nih.gov/rest/pug/compound/name/Curcumin,%20Curcuma%20longa%20L./property/IsomericSMILES/TXT\n",
      " get_from_pubchem could not find SMILES for 'Curcumin, Curcuma longa L.'\n",
      "PubChem-CID failed for Curcumin, Curcuma longa L.: 404 Client Error: PUGREST.NotFound for url: https://pubchem.ncbi.nlm.nih.gov/rest/pug/compound/name/Curcumin,%20Curcuma%20longa%20L./cids/TXT\n",
      " get_from_pubchem_cid could not find SMILES for 'Curcumin, Curcuma longa L.'\n",
      " get_from_zinc could not find SMILES for 'Curcumin, Curcuma longa L.'\n",
      " get_from_nci could not find SMILES for 'Curcumin, Curcuma longa L.'\n",
      "CIR failed for Curcumin, Curcuma longa L.: 500 Server Error: INTERNAL SERVER ERROR for url: https://cactus.nci.nih.gov/chemical/structure/Curcumin,%20Curcuma%20longa%20L./smiles\n",
      " get_from_cir could not find SMILES for 'Curcumin, Curcuma longa L.'\n",
      " get_from_chembl could not find SMILES for 'Curcumin, Curcuma longa L.'\n"
     ]
    },
    {
     "name": "stderr",
     "output_type": "stream",
     "text": [
      " 87%|████████████████████████████████████████████████████████████████▋         | 3626/4150 [1:05:05<1:11:42,  8.21s/it]"
     ]
    },
    {
     "name": "stdout",
     "output_type": "stream",
     "text": [
      " None of the APIs could find SMILES for 'Curcumin, Curcuma longa L.'\n",
      "\n"
     ]
    },
    {
     "name": "stderr",
     "output_type": "stream",
     "text": [
      " 88%|██████████████████████████████████████████████████████████████████▊         | 3646/4150 [1:05:27<07:48,  1.08it/s]"
     ]
    },
    {
     "name": "stdout",
     "output_type": "stream",
     "text": [
      "PubChem failed for ZINC34894448: 404 Client Error: PUGREST.NotFound for url: https://pubchem.ncbi.nlm.nih.gov/rest/pug/compound/name/ZINC34894448/property/IsomericSMILES/TXT\n",
      " get_from_pubchem could not find SMILES for 'ZINC34894448'\n",
      "PubChem-CID failed for ZINC34894448: 404 Client Error: PUGREST.NotFound for url: https://pubchem.ncbi.nlm.nih.gov/rest/pug/compound/name/ZINC34894448/cids/TXT\n",
      " get_from_pubchem_cid could not find SMILES for 'ZINC34894448'\n",
      " get_from_zinc could not find SMILES for 'ZINC34894448'\n",
      " get_from_nci could not find SMILES for 'ZINC34894448'\n",
      "CIR failed for ZINC34894448: 500 Server Error: INTERNAL SERVER ERROR for url: https://cactus.nci.nih.gov/chemical/structure/ZINC34894448/smiles\n",
      " get_from_cir could not find SMILES for 'ZINC34894448'\n",
      " get_from_chembl could not find SMILES for 'ZINC34894448'\n"
     ]
    },
    {
     "name": "stderr",
     "output_type": "stream",
     "text": [
      " 88%|██████████████████████████████████████████████████████████████████▊         | 3647/4150 [1:05:38<35:22,  4.22s/it]"
     ]
    },
    {
     "name": "stdout",
     "output_type": "stream",
     "text": [
      " None of the APIs could find SMILES for 'ZINC34894448'\n",
      "\n"
     ]
    },
    {
     "name": "stderr",
     "output_type": "stream",
     "text": [
      " 88%|██████████████████████████████████████████████████████████████████▊         | 3649/4150 [1:05:44<28:08,  3.37s/it]"
     ]
    },
    {
     "name": "stdout",
     "output_type": "stream",
     "text": [
      "PubChem failed for AC1L9B3J: 404 Client Error: PUGREST.NotFound for url: https://pubchem.ncbi.nlm.nih.gov/rest/pug/compound/name/AC1L9B3J/property/IsomericSMILES/TXT\n",
      " get_from_pubchem could not find SMILES for 'AC1L9B3J'\n",
      "PubChem-CID failed for AC1L9B3J: 404 Client Error: PUGREST.NotFound for url: https://pubchem.ncbi.nlm.nih.gov/rest/pug/compound/name/AC1L9B3J/cids/TXT\n",
      " get_from_pubchem_cid could not find SMILES for 'AC1L9B3J'\n",
      " get_from_zinc could not find SMILES for 'AC1L9B3J'\n",
      " get_from_nci could not find SMILES for 'AC1L9B3J'\n",
      "CIR failed for AC1L9B3J: 500 Server Error: INTERNAL SERVER ERROR for url: https://cactus.nci.nih.gov/chemical/structure/AC1L9B3J/smiles\n",
      " get_from_cir could not find SMILES for 'AC1L9B3J'\n",
      " get_from_chembl could not find SMILES for 'AC1L9B3J'\n"
     ]
    },
    {
     "name": "stderr",
     "output_type": "stream",
     "text": [
      " 88%|██████████████████████████████████████████████████████████████████▊         | 3650/4150 [1:05:59<57:32,  6.90s/it]"
     ]
    },
    {
     "name": "stdout",
     "output_type": "stream",
     "text": [
      " None of the APIs could find SMILES for 'AC1L9B3J'\n",
      "\n"
     ]
    },
    {
     "name": "stderr",
     "output_type": "stream",
     "text": [
      " 88%|██████████████████████████████████████████████████████████████████▊         | 3651/4150 [1:06:00<42:25,  5.10s/it]"
     ]
    },
    {
     "name": "stdout",
     "output_type": "stream",
     "text": [
      "PubChem failed for ZINC100015731: 404 Client Error: PUGREST.NotFound for url: https://pubchem.ncbi.nlm.nih.gov/rest/pug/compound/name/ZINC100015731/property/IsomericSMILES/TXT\n",
      " get_from_pubchem could not find SMILES for 'ZINC100015731'\n",
      "PubChem-CID failed for ZINC100015731: 404 Client Error: PUGREST.NotFound for url: https://pubchem.ncbi.nlm.nih.gov/rest/pug/compound/name/ZINC100015731/cids/TXT\n",
      " get_from_pubchem_cid could not find SMILES for 'ZINC100015731'\n",
      " get_from_zinc could not find SMILES for 'ZINC100015731'\n",
      " get_from_nci could not find SMILES for 'ZINC100015731'\n",
      "CIR failed for ZINC100015731: 500 Server Error: INTERNAL SERVER ERROR for url: https://cactus.nci.nih.gov/chemical/structure/ZINC100015731/smiles\n",
      " get_from_cir could not find SMILES for 'ZINC100015731'\n",
      " get_from_chembl could not find SMILES for 'ZINC100015731'\n"
     ]
    },
    {
     "name": "stderr",
     "output_type": "stream",
     "text": [
      " 88%|██████████████████████████████████████████████████████████████████▉         | 3652/4150 [1:06:12<59:02,  7.11s/it]"
     ]
    },
    {
     "name": "stdout",
     "output_type": "stream",
     "text": [
      " None of the APIs could find SMILES for 'ZINC100015731'\n",
      "\n"
     ]
    },
    {
     "name": "stderr",
     "output_type": "stream",
     "text": [
      " 88%|███████████████████████████████████████████████████████████████████▏        | 3671/4150 [1:06:28<07:24,  1.08it/s]"
     ]
    },
    {
     "name": "stdout",
     "output_type": "stream",
     "text": [
      "PubChem failed for AC1L2QK3: 404 Client Error: PUGREST.NotFound for url: https://pubchem.ncbi.nlm.nih.gov/rest/pug/compound/name/AC1L2QK3/property/IsomericSMILES/TXT\n",
      " get_from_pubchem could not find SMILES for 'AC1L2QK3'\n",
      "PubChem-CID failed for AC1L2QK3: 404 Client Error: PUGREST.NotFound for url: https://pubchem.ncbi.nlm.nih.gov/rest/pug/compound/name/AC1L2QK3/cids/TXT\n",
      " get_from_pubchem_cid could not find SMILES for 'AC1L2QK3'\n",
      " get_from_zinc could not find SMILES for 'AC1L2QK3'\n",
      " get_from_nci could not find SMILES for 'AC1L2QK3'\n",
      "CIR failed for AC1L2QK3: 500 Server Error: INTERNAL SERVER ERROR for url: https://cactus.nci.nih.gov/chemical/structure/AC1L2QK3/smiles\n",
      " get_from_cir could not find SMILES for 'AC1L2QK3'\n",
      " get_from_chembl could not find SMILES for 'AC1L2QK3'\n"
     ]
    },
    {
     "name": "stderr",
     "output_type": "stream",
     "text": [
      " 88%|███████████████████████████████████████████████████████████████████▏        | 3672/4150 [1:06:42<36:42,  4.61s/it]"
     ]
    },
    {
     "name": "stdout",
     "output_type": "stream",
     "text": [
      " None of the APIs could find SMILES for 'AC1L2QK3'\n",
      "\n"
     ]
    },
    {
     "name": "stderr",
     "output_type": "stream",
     "text": [
      " 89%|███████████████████████████████████████████████████████████████████▎        | 3673/4150 [1:06:43<27:42,  3.48s/it]"
     ]
    },
    {
     "name": "stdout",
     "output_type": "stream",
     "text": [
      "PubChem failed for KS-00001D5I: 404 Client Error: PUGREST.NotFound for url: https://pubchem.ncbi.nlm.nih.gov/rest/pug/compound/name/KS-00001D5I/property/IsomericSMILES/TXT\n",
      " get_from_pubchem could not find SMILES for 'KS-00001D5I'\n",
      "PubChem-CID failed for KS-00001D5I: 404 Client Error: PUGREST.NotFound for url: https://pubchem.ncbi.nlm.nih.gov/rest/pug/compound/name/KS-00001D5I/cids/TXT\n",
      " get_from_pubchem_cid could not find SMILES for 'KS-00001D5I'\n",
      " get_from_zinc could not find SMILES for 'KS-00001D5I'\n",
      " get_from_nci could not find SMILES for 'KS-00001D5I'\n",
      "CIR failed for KS-00001D5I: 500 Server Error: INTERNAL SERVER ERROR for url: https://cactus.nci.nih.gov/chemical/structure/KS-00001D5I/smiles\n",
      " get_from_cir could not find SMILES for 'KS-00001D5I'\n",
      " get_from_chembl could not find SMILES for 'KS-00001D5I'\n"
     ]
    },
    {
     "name": "stderr",
     "output_type": "stream",
     "text": [
      " 89%|███████████████████████████████████████████████████████████████████▎        | 3674/4150 [1:06:55<49:59,  6.30s/it]"
     ]
    },
    {
     "name": "stdout",
     "output_type": "stream",
     "text": [
      " None of the APIs could find SMILES for 'KS-00001D5I'\n",
      "\n"
     ]
    },
    {
     "name": "stderr",
     "output_type": "stream",
     "text": [
      " 89%|███████████████████████████████████████████████████████████████████▎        | 3676/4150 [1:06:57<28:06,  3.56s/it]"
     ]
    },
    {
     "name": "stdout",
     "output_type": "stream",
     "text": [
      "PubChem failed for AC1Q29DP: 404 Client Error: PUGREST.NotFound for url: https://pubchem.ncbi.nlm.nih.gov/rest/pug/compound/name/AC1Q29DP/property/IsomericSMILES/TXT\n",
      " get_from_pubchem could not find SMILES for 'AC1Q29DP'\n",
      "PubChem-CID failed for AC1Q29DP: 404 Client Error: PUGREST.NotFound for url: https://pubchem.ncbi.nlm.nih.gov/rest/pug/compound/name/AC1Q29DP/cids/TXT\n",
      " get_from_pubchem_cid could not find SMILES for 'AC1Q29DP'\n",
      " get_from_zinc could not find SMILES for 'AC1Q29DP'\n",
      " get_from_nci could not find SMILES for 'AC1Q29DP'\n",
      "CIR failed for AC1Q29DP: 500 Server Error: INTERNAL SERVER ERROR for url: https://cactus.nci.nih.gov/chemical/structure/AC1Q29DP/smiles\n",
      " get_from_cir could not find SMILES for 'AC1Q29DP'\n",
      " get_from_chembl could not find SMILES for 'AC1Q29DP'\n"
     ]
    },
    {
     "name": "stderr",
     "output_type": "stream",
     "text": [
      " 89%|███████████████████████████████████████████████████████████████████▎        | 3677/4150 [1:07:11<52:18,  6.64s/it]"
     ]
    },
    {
     "name": "stdout",
     "output_type": "stream",
     "text": [
      " None of the APIs could find SMILES for 'AC1Q29DP'\n",
      "\n"
     ]
    },
    {
     "name": "stderr",
     "output_type": "stream",
     "text": [
      " 89%|███████████████████████████████████████████████████████████████████▍        | 3683/4150 [1:07:16<12:07,  1.56s/it]"
     ]
    },
    {
     "name": "stdout",
     "output_type": "stream",
     "text": [
      "PubChem failed for KS-00000Y5E: 404 Client Error: PUGREST.NotFound for url: https://pubchem.ncbi.nlm.nih.gov/rest/pug/compound/name/KS-00000Y5E/property/IsomericSMILES/TXT\n",
      " get_from_pubchem could not find SMILES for 'KS-00000Y5E'\n",
      "PubChem-CID failed for KS-00000Y5E: 404 Client Error: PUGREST.NotFound for url: https://pubchem.ncbi.nlm.nih.gov/rest/pug/compound/name/KS-00000Y5E/cids/TXT\n",
      " get_from_pubchem_cid could not find SMILES for 'KS-00000Y5E'\n",
      " get_from_zinc could not find SMILES for 'KS-00000Y5E'\n",
      " get_from_nci could not find SMILES for 'KS-00000Y5E'\n",
      "CIR failed for KS-00000Y5E: 500 Server Error: INTERNAL SERVER ERROR for url: https://cactus.nci.nih.gov/chemical/structure/KS-00000Y5E/smiles\n",
      " get_from_cir could not find SMILES for 'KS-00000Y5E'\n",
      " get_from_chembl could not find SMILES for 'KS-00000Y5E'\n"
     ]
    },
    {
     "name": "stderr",
     "output_type": "stream",
     "text": [
      " 89%|███████████████████████████████████████████████████████████████████▍        | 3684/4150 [1:07:29<38:30,  4.96s/it]"
     ]
    },
    {
     "name": "stdout",
     "output_type": "stream",
     "text": [
      " None of the APIs could find SMILES for 'KS-00000Y5E'\n",
      "\n"
     ]
    },
    {
     "name": "stderr",
     "output_type": "stream",
     "text": [
      " 89%|███████████████████████████████████████████████████████████████████▌        | 3690/4150 [1:07:34<10:21,  1.35s/it]"
     ]
    },
    {
     "name": "stdout",
     "output_type": "stream",
     "text": [
      "PubChem failed for KGBPLKOPSFDBOX-UHFFFAOYSA-N: 404 Client Error: PUGREST.NotFound for url: https://pubchem.ncbi.nlm.nih.gov/rest/pug/compound/name/KGBPLKOPSFDBOX-UHFFFAOYSA-N/property/IsomericSMILES/TXT\n",
      " get_from_pubchem could not find SMILES for 'KGBPLKOPSFDBOX-UHFFFAOYSA-N'\n",
      "PubChem-CID failed for KGBPLKOPSFDBOX-UHFFFAOYSA-N: 404 Client Error: PUGREST.NotFound for url: https://pubchem.ncbi.nlm.nih.gov/rest/pug/compound/name/KGBPLKOPSFDBOX-UHFFFAOYSA-N/cids/TXT\n",
      " get_from_pubchem_cid could not find SMILES for 'KGBPLKOPSFDBOX-UHFFFAOYSA-N'\n",
      " get_from_zinc could not find SMILES for 'KGBPLKOPSFDBOX-UHFFFAOYSA-N'\n",
      " get_from_nci could not find SMILES for 'KGBPLKOPSFDBOX-UHFFFAOYSA-N'\n",
      "CIR failed for KGBPLKOPSFDBOX-UHFFFAOYSA-N: 500 Server Error: INTERNAL SERVER ERROR for url: https://cactus.nci.nih.gov/chemical/structure/KGBPLKOPSFDBOX-UHFFFAOYSA-N/smiles\n",
      " get_from_cir could not find SMILES for 'KGBPLKOPSFDBOX-UHFFFAOYSA-N'\n",
      " get_from_chembl could not find SMILES for 'KGBPLKOPSFDBOX-UHFFFAOYSA-N'\n"
     ]
    },
    {
     "name": "stderr",
     "output_type": "stream",
     "text": [
      " 89%|███████████████████████████████████████████████████████████████████▌        | 3691/4150 [1:07:46<34:31,  4.51s/it]"
     ]
    },
    {
     "name": "stdout",
     "output_type": "stream",
     "text": [
      " None of the APIs could find SMILES for 'KGBPLKOPSFDBOX-UHFFFAOYSA-N'\n",
      "\n"
     ]
    },
    {
     "name": "stderr",
     "output_type": "stream",
     "text": [
      " 89%|███████████████████████████████████████████████████████████████████▊        | 3702/4150 [1:07:57<07:17,  1.02it/s]"
     ]
    },
    {
     "name": "stdout",
     "output_type": "stream",
     "text": [
      "PubChem failed for AC1L1IJY: 404 Client Error: PUGREST.NotFound for url: https://pubchem.ncbi.nlm.nih.gov/rest/pug/compound/name/AC1L1IJY/property/IsomericSMILES/TXT\n",
      " get_from_pubchem could not find SMILES for 'AC1L1IJY'\n",
      "PubChem-CID failed for AC1L1IJY: 404 Client Error: PUGREST.NotFound for url: https://pubchem.ncbi.nlm.nih.gov/rest/pug/compound/name/AC1L1IJY/cids/TXT\n",
      " get_from_pubchem_cid could not find SMILES for 'AC1L1IJY'\n",
      " get_from_zinc could not find SMILES for 'AC1L1IJY'\n",
      " get_from_nci could not find SMILES for 'AC1L1IJY'\n",
      "CIR failed for AC1L1IJY: 500 Server Error: INTERNAL SERVER ERROR for url: https://cactus.nci.nih.gov/chemical/structure/AC1L1IJY/smiles\n",
      " get_from_cir could not find SMILES for 'AC1L1IJY'\n",
      " get_from_chembl could not find SMILES for 'AC1L1IJY'\n"
     ]
    },
    {
     "name": "stderr",
     "output_type": "stream",
     "text": [
      " 89%|███████████████████████████████████████████████████████████████████▊        | 3703/4150 [1:08:10<33:56,  4.56s/it]"
     ]
    },
    {
     "name": "stdout",
     "output_type": "stream",
     "text": [
      " None of the APIs could find SMILES for 'AC1L1IJY'\n",
      "\n",
      "PubChem failed for AK160201: 404 Client Error: PUGREST.NotFound for url: https://pubchem.ncbi.nlm.nih.gov/rest/pug/compound/name/AK160201/property/IsomericSMILES/TXT\n",
      " get_from_pubchem could not find SMILES for 'AK160201'\n",
      "PubChem-CID failed for AK160201: 404 Client Error: PUGREST.NotFound for url: https://pubchem.ncbi.nlm.nih.gov/rest/pug/compound/name/AK160201/cids/TXT\n",
      " get_from_pubchem_cid could not find SMILES for 'AK160201'\n",
      " get_from_zinc could not find SMILES for 'AK160201'\n",
      " get_from_nci could not find SMILES for 'AK160201'\n",
      "CIR failed for AK160201: 500 Server Error: INTERNAL SERVER ERROR for url: https://cactus.nci.nih.gov/chemical/structure/AK160201/smiles\n",
      " get_from_cir could not find SMILES for 'AK160201'\n",
      " get_from_chembl could not find SMILES for 'AK160201'\n"
     ]
    },
    {
     "name": "stderr",
     "output_type": "stream",
     "text": [
      " 89%|███████████████████████████████████████████████████████████████████▊        | 3704/4150 [1:08:23<53:38,  7.22s/it]"
     ]
    },
    {
     "name": "stdout",
     "output_type": "stream",
     "text": [
      " None of the APIs could find SMILES for 'AK160201'\n",
      "\n"
     ]
    },
    {
     "name": "stderr",
     "output_type": "stream",
     "text": [
      " 89%|███████████████████████████████████████████████████████████████████▊        | 3705/4150 [1:08:24<39:26,  5.32s/it]"
     ]
    },
    {
     "name": "stdout",
     "output_type": "stream",
     "text": [
      "PubChem failed for AK174336: 404 Client Error: PUGREST.NotFound for url: https://pubchem.ncbi.nlm.nih.gov/rest/pug/compound/name/AK174336/property/IsomericSMILES/TXT\n",
      " get_from_pubchem could not find SMILES for 'AK174336'\n",
      "PubChem-CID failed for AK174336: 404 Client Error: PUGREST.NotFound for url: https://pubchem.ncbi.nlm.nih.gov/rest/pug/compound/name/AK174336/cids/TXT\n",
      " get_from_pubchem_cid could not find SMILES for 'AK174336'\n",
      " get_from_zinc could not find SMILES for 'AK174336'\n",
      " get_from_nci could not find SMILES for 'AK174336'\n",
      "CIR failed for AK174336: 500 Server Error: INTERNAL SERVER ERROR for url: https://cactus.nci.nih.gov/chemical/structure/AK174336/smiles\n",
      " get_from_cir could not find SMILES for 'AK174336'\n",
      " get_from_chembl could not find SMILES for 'AK174336'\n"
     ]
    },
    {
     "name": "stderr",
     "output_type": "stream",
     "text": [
      " 89%|███████████████████████████████████████████████████████████████████▊        | 3706/4150 [1:08:37<55:55,  7.56s/it]"
     ]
    },
    {
     "name": "stdout",
     "output_type": "stream",
     "text": [
      " None of the APIs could find SMILES for 'AK174336'\n",
      "\n",
      "PubChem failed for AC1L1DW2: 404 Client Error: PUGREST.NotFound for url: https://pubchem.ncbi.nlm.nih.gov/rest/pug/compound/name/AC1L1DW2/property/IsomericSMILES/TXT\n",
      " get_from_pubchem could not find SMILES for 'AC1L1DW2'\n",
      "PubChem-CID failed for AC1L1DW2: 404 Client Error: PUGREST.NotFound for url: https://pubchem.ncbi.nlm.nih.gov/rest/pug/compound/name/AC1L1DW2/cids/TXT\n",
      " get_from_pubchem_cid could not find SMILES for 'AC1L1DW2'\n",
      " get_from_zinc could not find SMILES for 'AC1L1DW2'\n",
      " get_from_nci could not find SMILES for 'AC1L1DW2'\n",
      "CIR failed for AC1L1DW2: 500 Server Error: INTERNAL SERVER ERROR for url: https://cactus.nci.nih.gov/chemical/structure/AC1L1DW2/smiles\n",
      " get_from_cir could not find SMILES for 'AC1L1DW2'\n",
      " get_from_chembl could not find SMILES for 'AC1L1DW2'\n"
     ]
    },
    {
     "name": "stderr",
     "output_type": "stream",
     "text": [
      " 89%|██████████████████████████████████████████████████████████████████        | 3707/4150 [1:08:50<1:07:39,  9.16s/it]"
     ]
    },
    {
     "name": "stdout",
     "output_type": "stream",
     "text": [
      " None of the APIs could find SMILES for 'AC1L1DW2'\n",
      "\n"
     ]
    },
    {
     "name": "stderr",
     "output_type": "stream",
     "text": [
      " 89%|███████████████████████████████████████████████████████████████████▉        | 3709/4150 [1:08:51<36:16,  4.94s/it]"
     ]
    },
    {
     "name": "stdout",
     "output_type": "stream",
     "text": [
      "PubChem failed for AC1NRBJE: 404 Client Error: PUGREST.NotFound for url: https://pubchem.ncbi.nlm.nih.gov/rest/pug/compound/name/AC1NRBJE/property/IsomericSMILES/TXT\n",
      " get_from_pubchem could not find SMILES for 'AC1NRBJE'\n",
      "PubChem-CID failed for AC1NRBJE: 404 Client Error: PUGREST.NotFound for url: https://pubchem.ncbi.nlm.nih.gov/rest/pug/compound/name/AC1NRBJE/cids/TXT\n",
      " get_from_pubchem_cid could not find SMILES for 'AC1NRBJE'\n",
      " get_from_zinc could not find SMILES for 'AC1NRBJE'\n",
      " get_from_nci could not find SMILES for 'AC1NRBJE'\n",
      "CIR failed for AC1NRBJE: 500 Server Error: INTERNAL SERVER ERROR for url: https://cactus.nci.nih.gov/chemical/structure/AC1NRBJE/smiles\n",
      " get_from_cir could not find SMILES for 'AC1NRBJE'\n",
      " get_from_chembl could not find SMILES for 'AC1NRBJE'\n"
     ]
    },
    {
     "name": "stderr",
     "output_type": "stream",
     "text": [
      " 89%|███████████████████████████████████████████████████████████████████▉        | 3710/4150 [1:09:04<54:06,  7.38s/it]"
     ]
    },
    {
     "name": "stdout",
     "output_type": "stream",
     "text": [
      " None of the APIs could find SMILES for 'AC1NRBJE'\n",
      "\n"
     ]
    },
    {
     "name": "stderr",
     "output_type": "stream",
     "text": [
      " 90%|████████████████████████████████████████████████████████████████████▏       | 3725/4150 [1:09:19<06:33,  1.08it/s]"
     ]
    },
    {
     "name": "stdout",
     "output_type": "stream",
     "text": [
      "PubChem failed for ZINC896472: 404 Client Error: PUGREST.NotFound for url: https://pubchem.ncbi.nlm.nih.gov/rest/pug/compound/name/ZINC896472/property/IsomericSMILES/TXT\n",
      " get_from_pubchem could not find SMILES for 'ZINC896472'\n",
      "PubChem-CID failed for ZINC896472: 404 Client Error: PUGREST.NotFound for url: https://pubchem.ncbi.nlm.nih.gov/rest/pug/compound/name/ZINC896472/cids/TXT\n",
      " get_from_pubchem_cid could not find SMILES for 'ZINC896472'\n",
      " get_from_zinc could not find SMILES for 'ZINC896472'\n",
      " get_from_nci could not find SMILES for 'ZINC896472'\n",
      "CIR failed for ZINC896472: 500 Server Error: INTERNAL SERVER ERROR for url: https://cactus.nci.nih.gov/chemical/structure/ZINC896472/smiles\n",
      " get_from_cir could not find SMILES for 'ZINC896472'\n",
      " get_from_chembl could not find SMILES for 'ZINC896472'\n"
     ]
    },
    {
     "name": "stderr",
     "output_type": "stream",
     "text": [
      " 90%|████████████████████████████████████████████████████████████████████▏       | 3726/4150 [1:09:31<30:15,  4.28s/it]"
     ]
    },
    {
     "name": "stdout",
     "output_type": "stream",
     "text": [
      " None of the APIs could find SMILES for 'ZINC896472'\n",
      "\n"
     ]
    },
    {
     "name": "stderr",
     "output_type": "stream",
     "text": [
      " 90%|████████████████████████████████████████████████████████████████████▍       | 3734/4150 [1:09:38<07:26,  1.07s/it]"
     ]
    },
    {
     "name": "stdout",
     "output_type": "stream",
     "text": [
      "PubChem failed for Provitamin A1: 404 Client Error: PUGREST.NotFound for url: https://pubchem.ncbi.nlm.nih.gov/rest/pug/compound/name/Provitamin%20A1/property/IsomericSMILES/TXT\n",
      " get_from_pubchem could not find SMILES for 'Provitamin A1'\n",
      "PubChem-CID failed for Provitamin A1: 404 Client Error: PUGREST.NotFound for url: https://pubchem.ncbi.nlm.nih.gov/rest/pug/compound/name/Provitamin%20A1/cids/TXT\n",
      " get_from_pubchem_cid could not find SMILES for 'Provitamin A1'\n",
      " get_from_zinc could not find SMILES for 'Provitamin A1'\n",
      " get_from_nci could not find SMILES for 'Provitamin A1'\n",
      "CIR failed for Provitamin A1: 500 Server Error: INTERNAL SERVER ERROR for url: https://cactus.nci.nih.gov/chemical/structure/Provitamin%20A1/smiles\n",
      " get_from_cir could not find SMILES for 'Provitamin A1'\n",
      " get_from_chembl could not find SMILES for 'Provitamin A1'\n"
     ]
    },
    {
     "name": "stderr",
     "output_type": "stream",
     "text": [
      " 90%|████████████████████████████████████████████████████████████████████▍       | 3735/4150 [1:09:51<32:12,  4.66s/it]"
     ]
    },
    {
     "name": "stdout",
     "output_type": "stream",
     "text": [
      " None of the APIs could find SMILES for 'Provitamin A1'\n",
      "\n"
     ]
    },
    {
     "name": "stderr",
     "output_type": "stream",
     "text": [
      " 90%|████████████████████████████████████████████████████████████████████▍       | 3738/4150 [1:09:53<15:03,  2.19s/it]"
     ]
    },
    {
     "name": "stdout",
     "output_type": "stream",
     "text": [
      "PubChem failed for AC1OFCEV: 404 Client Error: PUGREST.NotFound for url: https://pubchem.ncbi.nlm.nih.gov/rest/pug/compound/name/AC1OFCEV/property/IsomericSMILES/TXT\n",
      " get_from_pubchem could not find SMILES for 'AC1OFCEV'\n",
      "PubChem-CID failed for AC1OFCEV: 404 Client Error: PUGREST.NotFound for url: https://pubchem.ncbi.nlm.nih.gov/rest/pug/compound/name/AC1OFCEV/cids/TXT\n",
      " get_from_pubchem_cid could not find SMILES for 'AC1OFCEV'\n",
      " get_from_zinc could not find SMILES for 'AC1OFCEV'\n",
      " get_from_nci could not find SMILES for 'AC1OFCEV'\n",
      "CIR failed for AC1OFCEV: 500 Server Error: INTERNAL SERVER ERROR for url: https://cactus.nci.nih.gov/chemical/structure/AC1OFCEV/smiles\n",
      " get_from_cir could not find SMILES for 'AC1OFCEV'\n",
      " get_from_chembl could not find SMILES for 'AC1OFCEV'\n"
     ]
    },
    {
     "name": "stderr",
     "output_type": "stream",
     "text": [
      " 90%|████████████████████████████████████████████████████████████████████▍       | 3739/4150 [1:10:06<36:52,  5.38s/it]"
     ]
    },
    {
     "name": "stdout",
     "output_type": "stream",
     "text": [
      " None of the APIs could find SMILES for 'AC1OFCEV'\n",
      "\n"
     ]
    },
    {
     "name": "stderr",
     "output_type": "stream",
     "text": [
      " 90%|████████████████████████████████████████████████████████████████████▌       | 3741/4150 [1:10:08<20:58,  3.08s/it]"
     ]
    },
    {
     "name": "stdout",
     "output_type": "stream",
     "text": [
      "PubChem failed for ZINC3881972: 404 Client Error: PUGREST.NotFound for url: https://pubchem.ncbi.nlm.nih.gov/rest/pug/compound/name/ZINC3881972/property/IsomericSMILES/TXT\n",
      " get_from_pubchem could not find SMILES for 'ZINC3881972'\n",
      "PubChem-CID failed for ZINC3881972: 404 Client Error: PUGREST.NotFound for url: https://pubchem.ncbi.nlm.nih.gov/rest/pug/compound/name/ZINC3881972/cids/TXT\n",
      " get_from_pubchem_cid could not find SMILES for 'ZINC3881972'\n",
      " get_from_zinc could not find SMILES for 'ZINC3881972'\n",
      " get_from_nci could not find SMILES for 'ZINC3881972'\n",
      "CIR failed for ZINC3881972: 500 Server Error: INTERNAL SERVER ERROR for url: https://cactus.nci.nih.gov/chemical/structure/ZINC3881972/smiles\n",
      " get_from_cir could not find SMILES for 'ZINC3881972'\n",
      " get_from_chembl could not find SMILES for 'ZINC3881972'\n"
     ]
    },
    {
     "name": "stderr",
     "output_type": "stream",
     "text": [
      " 90%|████████████████████████████████████████████████████████████████████▌       | 3742/4150 [1:10:20<38:55,  5.72s/it]"
     ]
    },
    {
     "name": "stdout",
     "output_type": "stream",
     "text": [
      " None of the APIs could find SMILES for 'ZINC3881972'\n",
      "\n"
     ]
    },
    {
     "name": "stderr",
     "output_type": "stream",
     "text": [
      " 90%|████████████████████████████████████████████████████████████████████▌       | 3744/4150 [1:10:22<21:59,  3.25s/it]"
     ]
    },
    {
     "name": "stdout",
     "output_type": "stream",
     "text": [
      "PubChem failed for ZINC208951860: 404 Client Error: PUGREST.NotFound for url: https://pubchem.ncbi.nlm.nih.gov/rest/pug/compound/name/ZINC208951860/property/IsomericSMILES/TXT\n",
      " get_from_pubchem could not find SMILES for 'ZINC208951860'\n",
      "PubChem-CID failed for ZINC208951860: 404 Client Error: PUGREST.NotFound for url: https://pubchem.ncbi.nlm.nih.gov/rest/pug/compound/name/ZINC208951860/cids/TXT\n",
      " get_from_pubchem_cid could not find SMILES for 'ZINC208951860'\n",
      " get_from_zinc could not find SMILES for 'ZINC208951860'\n",
      " get_from_nci could not find SMILES for 'ZINC208951860'\n",
      "CIR failed for ZINC208951860: 500 Server Error: INTERNAL SERVER ERROR for url: https://cactus.nci.nih.gov/chemical/structure/ZINC208951860/smiles\n",
      " get_from_cir could not find SMILES for 'ZINC208951860'\n",
      " get_from_chembl could not find SMILES for 'ZINC208951860'\n"
     ]
    },
    {
     "name": "stderr",
     "output_type": "stream",
     "text": [
      " 90%|████████████████████████████████████████████████████████████████████▌       | 3745/4150 [1:10:34<39:55,  5.91s/it]"
     ]
    },
    {
     "name": "stdout",
     "output_type": "stream",
     "text": [
      " None of the APIs could find SMILES for 'ZINC208951860'\n",
      "\n",
      "PubChem failed for AC1MWLHC: 404 Client Error: PUGREST.NotFound for url: https://pubchem.ncbi.nlm.nih.gov/rest/pug/compound/name/AC1MWLHC/property/IsomericSMILES/TXT\n",
      " get_from_pubchem could not find SMILES for 'AC1MWLHC'\n",
      "PubChem-CID failed for AC1MWLHC: 404 Client Error: PUGREST.NotFound for url: https://pubchem.ncbi.nlm.nih.gov/rest/pug/compound/name/AC1MWLHC/cids/TXT\n",
      " get_from_pubchem_cid could not find SMILES for 'AC1MWLHC'\n",
      " get_from_zinc could not find SMILES for 'AC1MWLHC'\n",
      " get_from_nci could not find SMILES for 'AC1MWLHC'\n",
      "CIR failed for AC1MWLHC: 500 Server Error: INTERNAL SERVER ERROR for url: https://cactus.nci.nih.gov/chemical/structure/AC1MWLHC/smiles\n",
      " get_from_cir could not find SMILES for 'AC1MWLHC'\n",
      " get_from_chembl could not find SMILES for 'AC1MWLHC'\n"
     ]
    },
    {
     "name": "stderr",
     "output_type": "stream",
     "text": [
      " 90%|████████████████████████████████████████████████████████████████████▌       | 3746/4150 [1:10:47<54:29,  8.09s/it]"
     ]
    },
    {
     "name": "stdout",
     "output_type": "stream",
     "text": [
      " None of the APIs could find SMILES for 'AC1MWLHC'\n",
      "\n"
     ]
    },
    {
     "name": "stderr",
     "output_type": "stream",
     "text": [
      " 91%|████████████████████████████████████████████████████████████████████▊       | 3757/4150 [1:10:57<06:47,  1.04s/it]"
     ]
    },
    {
     "name": "stdout",
     "output_type": "stream",
     "text": [
      "PubChem failed for AC1OFCJY: 404 Client Error: PUGREST.NotFound for url: https://pubchem.ncbi.nlm.nih.gov/rest/pug/compound/name/AC1OFCJY/property/IsomericSMILES/TXT\n",
      " get_from_pubchem could not find SMILES for 'AC1OFCJY'\n",
      "PubChem-CID failed for AC1OFCJY: 404 Client Error: PUGREST.NotFound for url: https://pubchem.ncbi.nlm.nih.gov/rest/pug/compound/name/AC1OFCJY/cids/TXT\n",
      " get_from_pubchem_cid could not find SMILES for 'AC1OFCJY'\n",
      " get_from_zinc could not find SMILES for 'AC1OFCJY'\n",
      " get_from_nci could not find SMILES for 'AC1OFCJY'\n",
      "CIR failed for AC1OFCJY: 500 Server Error: INTERNAL SERVER ERROR for url: https://cactus.nci.nih.gov/chemical/structure/AC1OFCJY/smiles\n",
      " get_from_cir could not find SMILES for 'AC1OFCJY'\n",
      " get_from_chembl could not find SMILES for 'AC1OFCJY'\n"
     ]
    },
    {
     "name": "stderr",
     "output_type": "stream",
     "text": [
      " 91%|████████████████████████████████████████████████████████████████████▊       | 3758/4150 [1:11:10<30:19,  4.64s/it]"
     ]
    },
    {
     "name": "stdout",
     "output_type": "stream",
     "text": [
      " None of the APIs could find SMILES for 'AC1OFCJY'\n",
      "\n"
     ]
    },
    {
     "name": "stderr",
     "output_type": "stream",
     "text": [
      " 91%|████████████████████████████████████████████████████████████████████▊       | 3760/4150 [1:11:11<17:37,  2.71s/it]"
     ]
    },
    {
     "name": "stdout",
     "output_type": "stream",
     "text": [
      "PubChem failed for ZINC44963243: 404 Client Error: PUGREST.NotFound for url: https://pubchem.ncbi.nlm.nih.gov/rest/pug/compound/name/ZINC44963243/property/IsomericSMILES/TXT\n",
      " get_from_pubchem could not find SMILES for 'ZINC44963243'\n",
      "PubChem-CID failed for ZINC44963243: 404 Client Error: PUGREST.NotFound for url: https://pubchem.ncbi.nlm.nih.gov/rest/pug/compound/name/ZINC44963243/cids/TXT\n",
      " get_from_pubchem_cid could not find SMILES for 'ZINC44963243'\n",
      " get_from_zinc could not find SMILES for 'ZINC44963243'\n",
      " get_from_nci could not find SMILES for 'ZINC44963243'\n",
      "CIR failed for ZINC44963243: 500 Server Error: INTERNAL SERVER ERROR for url: https://cactus.nci.nih.gov/chemical/structure/ZINC44963243/smiles\n",
      " get_from_cir could not find SMILES for 'ZINC44963243'\n",
      " get_from_chembl could not find SMILES for 'ZINC44963243'\n"
     ]
    },
    {
     "name": "stderr",
     "output_type": "stream",
     "text": [
      " 91%|████████████████████████████████████████████████████████████████████▉       | 3761/4150 [1:11:23<35:21,  5.45s/it]"
     ]
    },
    {
     "name": "stdout",
     "output_type": "stream",
     "text": [
      " None of the APIs could find SMILES for 'ZINC44963243'\n",
      "\n"
     ]
    },
    {
     "name": "stderr",
     "output_type": "stream",
     "text": [
      " 91%|████████████████████████████████████████████████████████████████████▉       | 3767/4150 [1:11:29<09:09,  1.43s/it]"
     ]
    },
    {
     "name": "stdout",
     "output_type": "stream",
     "text": [
      "PubChem failed for AC1O41R4: 404 Client Error: PUGREST.NotFound for url: https://pubchem.ncbi.nlm.nih.gov/rest/pug/compound/name/AC1O41R4/property/IsomericSMILES/TXT\n",
      " get_from_pubchem could not find SMILES for 'AC1O41R4'\n",
      "PubChem-CID failed for AC1O41R4: 404 Client Error: PUGREST.NotFound for url: https://pubchem.ncbi.nlm.nih.gov/rest/pug/compound/name/AC1O41R4/cids/TXT\n",
      " get_from_pubchem_cid could not find SMILES for 'AC1O41R4'\n",
      " get_from_zinc could not find SMILES for 'AC1O41R4'\n",
      " get_from_nci could not find SMILES for 'AC1O41R4'\n",
      "CIR failed for AC1O41R4: 500 Server Error: INTERNAL SERVER ERROR for url: https://cactus.nci.nih.gov/chemical/structure/AC1O41R4/smiles\n",
      " get_from_cir could not find SMILES for 'AC1O41R4'\n",
      " get_from_chembl could not find SMILES for 'AC1O41R4'\n"
     ]
    },
    {
     "name": "stderr",
     "output_type": "stream",
     "text": [
      " 91%|█████████████████████████████████████████████████████████████████████       | 3768/4150 [1:11:43<34:33,  5.43s/it]"
     ]
    },
    {
     "name": "stdout",
     "output_type": "stream",
     "text": [
      " None of the APIs could find SMILES for 'AC1O41R4'\n",
      "\n"
     ]
    },
    {
     "name": "stderr",
     "output_type": "stream",
     "text": [
      " 92%|█████████████████████████████████████████████████████████████████████▌      | 3800/4150 [1:12:12<05:09,  1.13it/s]"
     ]
    },
    {
     "name": "stdout",
     "output_type": "stream",
     "text": [
      "PubChem failed for AC1LIMNP: 404 Client Error: PUGREST.NotFound for url: https://pubchem.ncbi.nlm.nih.gov/rest/pug/compound/name/AC1LIMNP/property/IsomericSMILES/TXT\n",
      " get_from_pubchem could not find SMILES for 'AC1LIMNP'\n",
      "PubChem-CID failed for AC1LIMNP: 404 Client Error: PUGREST.NotFound for url: https://pubchem.ncbi.nlm.nih.gov/rest/pug/compound/name/AC1LIMNP/cids/TXT\n",
      " get_from_pubchem_cid could not find SMILES for 'AC1LIMNP'\n",
      " get_from_zinc could not find SMILES for 'AC1LIMNP'\n",
      " get_from_nci could not find SMILES for 'AC1LIMNP'\n",
      "CIR failed for AC1LIMNP: 500 Server Error: INTERNAL SERVER ERROR for url: https://cactus.nci.nih.gov/chemical/structure/AC1LIMNP/smiles\n",
      " get_from_cir could not find SMILES for 'AC1LIMNP'\n",
      " get_from_chembl could not find SMILES for 'AC1LIMNP'\n"
     ]
    },
    {
     "name": "stderr",
     "output_type": "stream",
     "text": [
      " 92%|█████████████████████████████████████████████████████████████████████▌      | 3801/4150 [1:12:25<25:57,  4.46s/it]"
     ]
    },
    {
     "name": "stdout",
     "output_type": "stream",
     "text": [
      " None of the APIs could find SMILES for 'AC1LIMNP'\n",
      "\n"
     ]
    },
    {
     "name": "stderr",
     "output_type": "stream",
     "text": [
      " 92%|█████████████████████████████████████████████████████████████████████▊      | 3810/4150 [1:12:33<05:52,  1.04s/it]"
     ]
    },
    {
     "name": "stdout",
     "output_type": "stream",
     "text": [
      "PubChem failed for ZINC101426918: 404 Client Error: PUGREST.NotFound for url: https://pubchem.ncbi.nlm.nih.gov/rest/pug/compound/name/ZINC101426918/property/IsomericSMILES/TXT\n",
      " get_from_pubchem could not find SMILES for 'ZINC101426918'\n",
      "PubChem-CID failed for ZINC101426918: 404 Client Error: PUGREST.NotFound for url: https://pubchem.ncbi.nlm.nih.gov/rest/pug/compound/name/ZINC101426918/cids/TXT\n",
      " get_from_pubchem_cid could not find SMILES for 'ZINC101426918'\n",
      " get_from_zinc could not find SMILES for 'ZINC101426918'\n",
      " get_from_nci could not find SMILES for 'ZINC101426918'\n",
      "CIR failed for ZINC101426918: 500 Server Error: INTERNAL SERVER ERROR for url: https://cactus.nci.nih.gov/chemical/structure/ZINC101426918/smiles\n",
      " get_from_cir could not find SMILES for 'ZINC101426918'\n",
      " get_from_chembl could not find SMILES for 'ZINC101426918'\n"
     ]
    },
    {
     "name": "stderr",
     "output_type": "stream",
     "text": [
      " 92%|█████████████████████████████████████████████████████████████████████▊      | 3811/4150 [1:12:45<24:37,  4.36s/it]"
     ]
    },
    {
     "name": "stdout",
     "output_type": "stream",
     "text": [
      " None of the APIs could find SMILES for 'ZINC101426918'\n",
      "\n"
     ]
    },
    {
     "name": "stderr",
     "output_type": "stream",
     "text": [
      " 92%|█████████████████████████████████████████████████████████████████████▊      | 3815/4150 [1:12:49<09:42,  1.74s/it]"
     ]
    },
    {
     "name": "stdout",
     "output_type": "stream",
     "text": [
      "PubChem failed for DSSTox_CID_28582: 404 Client Error: PUGREST.NotFound for url: https://pubchem.ncbi.nlm.nih.gov/rest/pug/compound/name/DSSTox_CID_28582/property/IsomericSMILES/TXT\n",
      " get_from_pubchem could not find SMILES for 'DSSTox_CID_28582'\n",
      "PubChem-CID failed for DSSTox_CID_28582: 404 Client Error: PUGREST.NotFound for url: https://pubchem.ncbi.nlm.nih.gov/rest/pug/compound/name/DSSTox_CID_28582/cids/TXT\n",
      " get_from_pubchem_cid could not find SMILES for 'DSSTox_CID_28582'\n",
      " get_from_zinc could not find SMILES for 'DSSTox_CID_28582'\n",
      " get_from_nci could not find SMILES for 'DSSTox_CID_28582'\n",
      "CIR failed for DSSTox_CID_28582: 500 Server Error: INTERNAL SERVER ERROR for url: https://cactus.nci.nih.gov/chemical/structure/DSSTox_CID_28582/smiles\n",
      " get_from_cir could not find SMILES for 'DSSTox_CID_28582'\n",
      " get_from_chembl could not find SMILES for 'DSSTox_CID_28582'\n"
     ]
    },
    {
     "name": "stderr",
     "output_type": "stream",
     "text": [
      " 92%|█████████████████████████████████████████████████████████████████████▉      | 3816/4150 [1:13:02<28:51,  5.18s/it]"
     ]
    },
    {
     "name": "stdout",
     "output_type": "stream",
     "text": [
      " None of the APIs could find SMILES for 'DSSTox_CID_28582'\n",
      "\n"
     ]
    },
    {
     "name": "stderr",
     "output_type": "stream",
     "text": [
      " 92%|██████████████████████████████████████████████████████████████████████      | 3826/4150 [1:13:11<05:27,  1.01s/it]"
     ]
    },
    {
     "name": "stdout",
     "output_type": "stream",
     "text": [
      "PubChem failed for AC1OF340: 404 Client Error: PUGREST.NotFound for url: https://pubchem.ncbi.nlm.nih.gov/rest/pug/compound/name/AC1OF340/property/IsomericSMILES/TXT\n",
      " get_from_pubchem could not find SMILES for 'AC1OF340'\n",
      "PubChem-CID failed for AC1OF340: 404 Client Error: PUGREST.NotFound for url: https://pubchem.ncbi.nlm.nih.gov/rest/pug/compound/name/AC1OF340/cids/TXT\n",
      " get_from_pubchem_cid could not find SMILES for 'AC1OF340'\n",
      " get_from_zinc could not find SMILES for 'AC1OF340'\n",
      " get_from_nci could not find SMILES for 'AC1OF340'\n",
      "CIR failed for AC1OF340: 500 Server Error: INTERNAL SERVER ERROR for url: https://cactus.nci.nih.gov/chemical/structure/AC1OF340/smiles\n",
      " get_from_cir could not find SMILES for 'AC1OF340'\n",
      " get_from_chembl could not find SMILES for 'AC1OF340'\n"
     ]
    },
    {
     "name": "stderr",
     "output_type": "stream",
     "text": [
      " 92%|██████████████████████████████████████████████████████████████████████      | 3827/4150 [1:13:24<24:51,  4.62s/it]"
     ]
    },
    {
     "name": "stdout",
     "output_type": "stream",
     "text": [
      " None of the APIs could find SMILES for 'AC1OF340'\n",
      "\n"
     ]
    },
    {
     "name": "stderr",
     "output_type": "stream",
     "text": [
      " 93%|██████████████████████████████████████████████████████████████████████▎     | 3840/4150 [1:13:36<04:52,  1.06it/s]"
     ]
    },
    {
     "name": "stdout",
     "output_type": "stream",
     "text": [
      "PubChem failed for AC1L21NN: 404 Client Error: PUGREST.NotFound for url: https://pubchem.ncbi.nlm.nih.gov/rest/pug/compound/name/AC1L21NN/property/IsomericSMILES/TXT\n",
      " get_from_pubchem could not find SMILES for 'AC1L21NN'\n",
      "PubChem-CID failed for AC1L21NN: 404 Client Error: PUGREST.NotFound for url: https://pubchem.ncbi.nlm.nih.gov/rest/pug/compound/name/AC1L21NN/cids/TXT\n",
      " get_from_pubchem_cid could not find SMILES for 'AC1L21NN'\n",
      " get_from_zinc could not find SMILES for 'AC1L21NN'\n",
      " get_from_nci could not find SMILES for 'AC1L21NN'\n",
      "CIR failed for AC1L21NN: 500 Server Error: INTERNAL SERVER ERROR for url: https://cactus.nci.nih.gov/chemical/structure/AC1L21NN/smiles\n",
      " get_from_cir could not find SMILES for 'AC1L21NN'\n",
      " get_from_chembl could not find SMILES for 'AC1L21NN'\n"
     ]
    },
    {
     "name": "stderr",
     "output_type": "stream",
     "text": [
      " 93%|██████████████████████████████████████████████████████████████████████▎     | 3841/4150 [1:13:49<23:43,  4.61s/it]"
     ]
    },
    {
     "name": "stdout",
     "output_type": "stream",
     "text": [
      " None of the APIs could find SMILES for 'AC1L21NN'\n",
      "\n"
     ]
    },
    {
     "name": "stderr",
     "output_type": "stream",
     "text": [
      " 93%|██████████████████████████████████████████████████████████████████████▍     | 3846/4150 [1:13:53<07:36,  1.50s/it]"
     ]
    },
    {
     "name": "stdout",
     "output_type": "stream",
     "text": [
      "PubChem failed for Phloretin 2'-galactoside: 404 Client Error: PUGREST.NotFound for url: https://pubchem.ncbi.nlm.nih.gov/rest/pug/compound/name/Phloretin%202'-galactoside/property/IsomericSMILES/TXT\n",
      " get_from_pubchem could not find SMILES for 'Phloretin 2'-galactoside'\n",
      "PubChem-CID failed for Phloretin 2'-galactoside: 404 Client Error: PUGREST.NotFound for url: https://pubchem.ncbi.nlm.nih.gov/rest/pug/compound/name/Phloretin%202'-galactoside/cids/TXT\n",
      " get_from_pubchem_cid could not find SMILES for 'Phloretin 2'-galactoside'\n",
      " get_from_zinc could not find SMILES for 'Phloretin 2'-galactoside'\n",
      " get_from_nci could not find SMILES for 'Phloretin 2'-galactoside'\n",
      "CIR failed for Phloretin 2'-galactoside: 500 Server Error: INTERNAL SERVER ERROR for url: https://cactus.nci.nih.gov/chemical/structure/Phloretin%202'-galactoside/smiles\n",
      " get_from_cir could not find SMILES for 'Phloretin 2'-galactoside'\n",
      " get_from_chembl could not find SMILES for 'Phloretin 2'-galactoside'\n"
     ]
    },
    {
     "name": "stderr",
     "output_type": "stream",
     "text": [
      " 93%|██████████████████████████████████████████████████████████████████████▍     | 3847/4150 [1:14:06<25:08,  4.98s/it]"
     ]
    },
    {
     "name": "stdout",
     "output_type": "stream",
     "text": [
      " None of the APIs could find SMILES for 'Phloretin 2'-galactoside'\n",
      "\n"
     ]
    },
    {
     "name": "stderr",
     "output_type": "stream",
     "text": [
      " 93%|██████████████████████████████████████████████████████████████████████▋     | 3863/4150 [1:14:21<04:17,  1.12it/s]"
     ]
    },
    {
     "name": "stdout",
     "output_type": "stream",
     "text": [
      "PubChem failed for ZINC28538988: 404 Client Error: PUGREST.NotFound for url: https://pubchem.ncbi.nlm.nih.gov/rest/pug/compound/name/ZINC28538988/property/IsomericSMILES/TXT\n",
      " get_from_pubchem could not find SMILES for 'ZINC28538988'\n",
      "PubChem-CID failed for ZINC28538988: 404 Client Error: PUGREST.NotFound for url: https://pubchem.ncbi.nlm.nih.gov/rest/pug/compound/name/ZINC28538988/cids/TXT\n",
      " get_from_pubchem_cid could not find SMILES for 'ZINC28538988'\n",
      " get_from_zinc could not find SMILES for 'ZINC28538988'\n",
      " get_from_nci could not find SMILES for 'ZINC28538988'\n",
      "CIR failed for ZINC28538988: 500 Server Error: INTERNAL SERVER ERROR for url: https://cactus.nci.nih.gov/chemical/structure/ZINC28538988/smiles\n",
      " get_from_cir could not find SMILES for 'ZINC28538988'\n",
      " get_from_chembl could not find SMILES for 'ZINC28538988'\n"
     ]
    },
    {
     "name": "stderr",
     "output_type": "stream",
     "text": [
      " 93%|██████████████████████████████████████████████████████████████████████▊     | 3864/4150 [1:14:33<19:55,  4.18s/it]"
     ]
    },
    {
     "name": "stdout",
     "output_type": "stream",
     "text": [
      " None of the APIs could find SMILES for 'ZINC28538988'\n",
      "\n"
     ]
    },
    {
     "name": "stderr",
     "output_type": "stream",
     "text": [
      " 93%|██████████████████████████████████████████████████████████████████████▊     | 3868/4150 [1:14:36<07:47,  1.66s/it]"
     ]
    },
    {
     "name": "stdout",
     "output_type": "stream",
     "text": [
      "PubChem failed for ZINC38139483: 404 Client Error: PUGREST.NotFound for url: https://pubchem.ncbi.nlm.nih.gov/rest/pug/compound/name/ZINC38139483/property/IsomericSMILES/TXT\n",
      " get_from_pubchem could not find SMILES for 'ZINC38139483'\n",
      "PubChem-CID failed for ZINC38139483: 404 Client Error: PUGREST.NotFound for url: https://pubchem.ncbi.nlm.nih.gov/rest/pug/compound/name/ZINC38139483/cids/TXT\n",
      " get_from_pubchem_cid could not find SMILES for 'ZINC38139483'\n",
      " get_from_zinc could not find SMILES for 'ZINC38139483'\n",
      " get_from_nci could not find SMILES for 'ZINC38139483'\n",
      "CIR failed for ZINC38139483: 500 Server Error: INTERNAL SERVER ERROR for url: https://cactus.nci.nih.gov/chemical/structure/ZINC38139483/smiles\n",
      " get_from_cir could not find SMILES for 'ZINC38139483'\n",
      " get_from_chembl could not find SMILES for 'ZINC38139483'\n"
     ]
    },
    {
     "name": "stderr",
     "output_type": "stream",
     "text": [
      " 93%|██████████████████████████████████████████████████████████████████████▊     | 3869/4150 [1:14:48<22:01,  4.70s/it]"
     ]
    },
    {
     "name": "stdout",
     "output_type": "stream",
     "text": [
      " None of the APIs could find SMILES for 'ZINC38139483'\n",
      "\n"
     ]
    },
    {
     "name": "stderr",
     "output_type": "stream",
     "text": [
      " 93%|██████████████████████████████████████████████████████████████████████▉     | 3874/4150 [1:14:52<07:04,  1.54s/it]"
     ]
    },
    {
     "name": "stdout",
     "output_type": "stream",
     "text": [
      "PubChem failed for Poly(2-fluoroadenylic acid): 404 Client Error: PUGREST.NotFound for url: https://pubchem.ncbi.nlm.nih.gov/rest/pug/compound/name/Poly(2-fluoroadenylic%20acid)/property/IsomericSMILES/TXT\n",
      " get_from_pubchem could not find SMILES for 'Poly(2-fluoroadenylic acid)'\n",
      "PubChem-CID failed for Poly(2-fluoroadenylic acid): 404 Client Error: PUGREST.NotFound for url: https://pubchem.ncbi.nlm.nih.gov/rest/pug/compound/name/Poly(2-fluoroadenylic%20acid)/cids/TXT\n",
      " get_from_pubchem_cid could not find SMILES for 'Poly(2-fluoroadenylic acid)'\n",
      " get_from_zinc could not find SMILES for 'Poly(2-fluoroadenylic acid)'\n"
     ]
    },
    {
     "name": "stderr",
     "output_type": "stream",
     "text": [
      " 93%|███████████████████████████████████████████████████████████████████████     | 3878/4150 [1:15:03<08:11,  1.81s/it]"
     ]
    },
    {
     "name": "stdout",
     "output_type": "stream",
     "text": [
      "PubChem failed for AC1LAKOZ: 404 Client Error: PUGREST.NotFound for url: https://pubchem.ncbi.nlm.nih.gov/rest/pug/compound/name/AC1LAKOZ/property/IsomericSMILES/TXT\n",
      " get_from_pubchem could not find SMILES for 'AC1LAKOZ'\n",
      "PubChem-CID failed for AC1LAKOZ: 404 Client Error: PUGREST.NotFound for url: https://pubchem.ncbi.nlm.nih.gov/rest/pug/compound/name/AC1LAKOZ/cids/TXT\n",
      " get_from_pubchem_cid could not find SMILES for 'AC1LAKOZ'\n",
      " get_from_zinc could not find SMILES for 'AC1LAKOZ'\n",
      " get_from_nci could not find SMILES for 'AC1LAKOZ'\n",
      "CIR failed for AC1LAKOZ: 500 Server Error: INTERNAL SERVER ERROR for url: https://cactus.nci.nih.gov/chemical/structure/AC1LAKOZ/smiles\n",
      " get_from_cir could not find SMILES for 'AC1LAKOZ'\n",
      " get_from_chembl could not find SMILES for 'AC1LAKOZ'\n"
     ]
    },
    {
     "name": "stderr",
     "output_type": "stream",
     "text": [
      " 93%|███████████████████████████████████████████████████████████████████████     | 3879/4150 [1:15:16<23:30,  5.20s/it]"
     ]
    },
    {
     "name": "stdout",
     "output_type": "stream",
     "text": [
      " None of the APIs could find SMILES for 'AC1LAKOZ'\n",
      "\n"
     ]
    },
    {
     "name": "stderr",
     "output_type": "stream",
     "text": [
      " 94%|███████████████████████████████████████████████████████████████████████▌    | 3905/4150 [1:15:39<03:33,  1.15it/s]"
     ]
    },
    {
     "name": "stdout",
     "output_type": "stream",
     "text": [
      "PubChem failed for 1beta-Methylimipenem: 404 Client Error: PUGREST.NotFound for url: https://pubchem.ncbi.nlm.nih.gov/rest/pug/compound/name/1beta-Methylimipenem/property/IsomericSMILES/TXT\n",
      " get_from_pubchem could not find SMILES for '1beta-Methylimipenem'\n",
      "PubChem-CID failed for 1beta-Methylimipenem: 404 Client Error: PUGREST.NotFound for url: https://pubchem.ncbi.nlm.nih.gov/rest/pug/compound/name/1beta-Methylimipenem/cids/TXT\n",
      " get_from_pubchem_cid could not find SMILES for '1beta-Methylimipenem'\n",
      " get_from_zinc could not find SMILES for '1beta-Methylimipenem'\n",
      " get_from_nci could not find SMILES for '1beta-Methylimipenem'\n",
      "CIR failed for 1beta-Methylimipenem: 500 Server Error: INTERNAL SERVER ERROR for url: https://cactus.nci.nih.gov/chemical/structure/1beta-Methylimipenem/smiles\n",
      " get_from_cir could not find SMILES for '1beta-Methylimipenem'\n",
      " get_from_chembl could not find SMILES for '1beta-Methylimipenem'\n"
     ]
    },
    {
     "name": "stderr",
     "output_type": "stream",
     "text": [
      " 94%|███████████████████████████████████████████████████████████████████████▌    | 3906/4150 [1:15:52<18:05,  4.45s/it]"
     ]
    },
    {
     "name": "stdout",
     "output_type": "stream",
     "text": [
      " None of the APIs could find SMILES for '1beta-Methylimipenem'\n",
      "\n"
     ]
    },
    {
     "name": "stderr",
     "output_type": "stream",
     "text": [
      " 95%|███████████████████████████████████████████████████████████████████████▊    | 3922/4150 [1:16:07<03:38,  1.05it/s]"
     ]
    },
    {
     "name": "stdout",
     "output_type": "stream",
     "text": [
      "PubChem failed for AC1O7GND: 404 Client Error: PUGREST.NotFound for url: https://pubchem.ncbi.nlm.nih.gov/rest/pug/compound/name/AC1O7GND/property/IsomericSMILES/TXT\n",
      " get_from_pubchem could not find SMILES for 'AC1O7GND'\n",
      "PubChem-CID failed for AC1O7GND: 404 Client Error: PUGREST.NotFound for url: https://pubchem.ncbi.nlm.nih.gov/rest/pug/compound/name/AC1O7GND/cids/TXT\n",
      " get_from_pubchem_cid could not find SMILES for 'AC1O7GND'\n",
      " get_from_zinc could not find SMILES for 'AC1O7GND'\n",
      " get_from_nci could not find SMILES for 'AC1O7GND'\n",
      "CIR failed for AC1O7GND: 500 Server Error: INTERNAL SERVER ERROR for url: https://cactus.nci.nih.gov/chemical/structure/AC1O7GND/smiles\n",
      " get_from_cir could not find SMILES for 'AC1O7GND'\n",
      " get_from_chembl could not find SMILES for 'AC1O7GND'\n"
     ]
    },
    {
     "name": "stderr",
     "output_type": "stream",
     "text": [
      " 95%|███████████████████████████████████████████████████████████████████████▊    | 3923/4150 [1:16:20<17:53,  4.73s/it]"
     ]
    },
    {
     "name": "stdout",
     "output_type": "stream",
     "text": [
      " None of the APIs could find SMILES for 'AC1O7GND'\n",
      "\n"
     ]
    },
    {
     "name": "stderr",
     "output_type": "stream",
     "text": [
      " 95%|████████████████████████████████████████████████████████████████████████    | 3938/4150 [1:16:34<03:09,  1.12it/s]"
     ]
    },
    {
     "name": "stdout",
     "output_type": "stream",
     "text": [
      "PubChem failed for AC1LCZJT: 404 Client Error: PUGREST.NotFound for url: https://pubchem.ncbi.nlm.nih.gov/rest/pug/compound/name/AC1LCZJT/property/IsomericSMILES/TXT\n",
      " get_from_pubchem could not find SMILES for 'AC1LCZJT'\n",
      "PubChem-CID failed for AC1LCZJT: 404 Client Error: PUGREST.NotFound for url: https://pubchem.ncbi.nlm.nih.gov/rest/pug/compound/name/AC1LCZJT/cids/TXT\n",
      " get_from_pubchem_cid could not find SMILES for 'AC1LCZJT'\n",
      " get_from_zinc could not find SMILES for 'AC1LCZJT'\n",
      " get_from_nci could not find SMILES for 'AC1LCZJT'\n",
      "CIR failed for AC1LCZJT: 500 Server Error: INTERNAL SERVER ERROR for url: https://cactus.nci.nih.gov/chemical/structure/AC1LCZJT/smiles\n",
      " get_from_cir could not find SMILES for 'AC1LCZJT'\n",
      " get_from_chembl could not find SMILES for 'AC1LCZJT'\n"
     ]
    },
    {
     "name": "stderr",
     "output_type": "stream",
     "text": [
      " 95%|████████████████████████████████████████████████████████████████████████▏   | 3939/4150 [1:16:47<15:54,  4.52s/it]"
     ]
    },
    {
     "name": "stdout",
     "output_type": "stream",
     "text": [
      " None of the APIs could find SMILES for 'AC1LCZJT'\n",
      "\n",
      "PubChem failed for C10H10O4: 404 Client Error: PUGREST.NotFound for url: https://pubchem.ncbi.nlm.nih.gov/rest/pug/compound/name/C10H10O4/property/IsomericSMILES/TXT\n",
      " get_from_pubchem could not find SMILES for 'C10H10O4'\n",
      "PubChem-CID failed for C10H10O4: 404 Client Error: PUGREST.NotFound for url: https://pubchem.ncbi.nlm.nih.gov/rest/pug/compound/name/C10H10O4/cids/TXT\n",
      " get_from_pubchem_cid could not find SMILES for 'C10H10O4'\n",
      " get_from_zinc could not find SMILES for 'C10H10O4'\n",
      " get_from_nci could not find SMILES for 'C10H10O4'\n",
      "CIR failed for C10H10O4: 500 Server Error: INTERNAL SERVER ERROR for url: https://cactus.nci.nih.gov/chemical/structure/C10H10O4/smiles\n",
      " get_from_cir could not find SMILES for 'C10H10O4'\n",
      " get_from_chembl could not find SMILES for 'C10H10O4'\n"
     ]
    },
    {
     "name": "stderr",
     "output_type": "stream",
     "text": [
      " 95%|████████████████████████████████████████████████████████████████████████▏   | 3940/4150 [1:17:00<24:58,  7.13s/it]"
     ]
    },
    {
     "name": "stdout",
     "output_type": "stream",
     "text": [
      " None of the APIs could find SMILES for 'C10H10O4'\n",
      "\n",
      "PubChem failed for ZINC103939005: 404 Client Error: PUGREST.NotFound for url: https://pubchem.ncbi.nlm.nih.gov/rest/pug/compound/name/ZINC103939005/property/IsomericSMILES/TXT\n",
      " get_from_pubchem could not find SMILES for 'ZINC103939005'\n",
      "PubChem-CID failed for ZINC103939005: 404 Client Error: PUGREST.NotFound for url: https://pubchem.ncbi.nlm.nih.gov/rest/pug/compound/name/ZINC103939005/cids/TXT\n",
      " get_from_pubchem_cid could not find SMILES for 'ZINC103939005'\n",
      " get_from_zinc could not find SMILES for 'ZINC103939005'\n",
      " get_from_nci could not find SMILES for 'ZINC103939005'\n",
      "CIR failed for ZINC103939005: 500 Server Error: INTERNAL SERVER ERROR for url: https://cactus.nci.nih.gov/chemical/structure/ZINC103939005/smiles\n",
      " get_from_cir could not find SMILES for 'ZINC103939005'\n",
      " get_from_chembl could not find SMILES for 'ZINC103939005'\n"
     ]
    },
    {
     "name": "stderr",
     "output_type": "stream",
     "text": [
      " 95%|████████████████████████████████████████████████████████████████████████▏   | 3941/4150 [1:17:12<29:47,  8.55s/it]"
     ]
    },
    {
     "name": "stdout",
     "output_type": "stream",
     "text": [
      " None of the APIs could find SMILES for 'ZINC103939005'\n",
      "\n"
     ]
    },
    {
     "name": "stderr",
     "output_type": "stream",
     "text": [
      " 95%|████████████████████████████████████████████████████████████████████████▎   | 3946/4150 [1:17:16<07:27,  2.19s/it]"
     ]
    },
    {
     "name": "stdout",
     "output_type": "stream",
     "text": [
      "PubChem failed for AC1L9B2S: 404 Client Error: PUGREST.NotFound for url: https://pubchem.ncbi.nlm.nih.gov/rest/pug/compound/name/AC1L9B2S/property/IsomericSMILES/TXT\n",
      " get_from_pubchem could not find SMILES for 'AC1L9B2S'\n",
      "PubChem-CID failed for AC1L9B2S: 404 Client Error: PUGREST.NotFound for url: https://pubchem.ncbi.nlm.nih.gov/rest/pug/compound/name/AC1L9B2S/cids/TXT\n",
      " get_from_pubchem_cid could not find SMILES for 'AC1L9B2S'\n",
      " get_from_zinc could not find SMILES for 'AC1L9B2S'\n",
      " get_from_nci could not find SMILES for 'AC1L9B2S'\n",
      "CIR failed for AC1L9B2S: 500 Server Error: INTERNAL SERVER ERROR for url: https://cactus.nci.nih.gov/chemical/structure/AC1L9B2S/smiles\n",
      " get_from_cir could not find SMILES for 'AC1L9B2S'\n",
      " get_from_chembl could not find SMILES for 'AC1L9B2S'\n"
     ]
    },
    {
     "name": "stderr",
     "output_type": "stream",
     "text": [
      " 95%|████████████████████████████████████████████████████████████████████████▎   | 3947/4150 [1:17:31<20:13,  5.98s/it]"
     ]
    },
    {
     "name": "stdout",
     "output_type": "stream",
     "text": [
      " None of the APIs could find SMILES for 'AC1L9B2S'\n",
      "\n"
     ]
    },
    {
     "name": "stderr",
     "output_type": "stream",
     "text": [
      " 95%|████████████████████████████████████████████████████████████████████████▍   | 3957/4150 [1:17:40<03:22,  1.05s/it]"
     ]
    },
    {
     "name": "stdout",
     "output_type": "stream",
     "text": [
      "PubChem failed for ZINC43163828: 404 Client Error: PUGREST.NotFound for url: https://pubchem.ncbi.nlm.nih.gov/rest/pug/compound/name/ZINC43163828/property/IsomericSMILES/TXT\n",
      " get_from_pubchem could not find SMILES for 'ZINC43163828'\n",
      "PubChem-CID failed for ZINC43163828: 404 Client Error: PUGREST.NotFound for url: https://pubchem.ncbi.nlm.nih.gov/rest/pug/compound/name/ZINC43163828/cids/TXT\n",
      " get_from_pubchem_cid could not find SMILES for 'ZINC43163828'\n",
      " get_from_zinc could not find SMILES for 'ZINC43163828'\n",
      " get_from_nci could not find SMILES for 'ZINC43163828'\n",
      "CIR failed for ZINC43163828: 500 Server Error: INTERNAL SERVER ERROR for url: https://cactus.nci.nih.gov/chemical/structure/ZINC43163828/smiles\n",
      " get_from_cir could not find SMILES for 'ZINC43163828'\n",
      " get_from_chembl could not find SMILES for 'ZINC43163828'\n"
     ]
    },
    {
     "name": "stderr",
     "output_type": "stream",
     "text": [
      " 95%|████████████████████████████████████████████████████████████████████████▍   | 3958/4150 [1:17:52<13:48,  4.32s/it]"
     ]
    },
    {
     "name": "stdout",
     "output_type": "stream",
     "text": [
      " None of the APIs could find SMILES for 'ZINC43163828'\n",
      "\n"
     ]
    },
    {
     "name": "stderr",
     "output_type": "stream",
     "text": [
      " 96%|████████████████████████████████████████████████████████████████████████▉   | 3980/4150 [1:18:12<02:38,  1.07it/s]"
     ]
    },
    {
     "name": "stdout",
     "output_type": "stream",
     "text": [
      "PubChem failed for ZINC97975747: 404 Client Error: PUGREST.NotFound for url: https://pubchem.ncbi.nlm.nih.gov/rest/pug/compound/name/ZINC97975747/property/IsomericSMILES/TXT\n",
      " get_from_pubchem could not find SMILES for 'ZINC97975747'\n",
      "PubChem-CID failed for ZINC97975747: 404 Client Error: PUGREST.NotFound for url: https://pubchem.ncbi.nlm.nih.gov/rest/pug/compound/name/ZINC97975747/cids/TXT\n",
      " get_from_pubchem_cid could not find SMILES for 'ZINC97975747'\n",
      " get_from_zinc could not find SMILES for 'ZINC97975747'\n",
      " get_from_nci could not find SMILES for 'ZINC97975747'\n",
      "CIR failed for ZINC97975747: 500 Server Error: INTERNAL SERVER ERROR for url: https://cactus.nci.nih.gov/chemical/structure/ZINC97975747/smiles\n",
      " get_from_cir could not find SMILES for 'ZINC97975747'\n",
      " get_from_chembl could not find SMILES for 'ZINC97975747'\n"
     ]
    },
    {
     "name": "stderr",
     "output_type": "stream",
     "text": [
      " 96%|████████████████████████████████████████████████████████████████████████▉   | 3981/4150 [1:18:24<11:50,  4.20s/it]"
     ]
    },
    {
     "name": "stdout",
     "output_type": "stream",
     "text": [
      " None of the APIs could find SMILES for 'ZINC97975747'\n",
      "\n"
     ]
    },
    {
     "name": "stderr",
     "output_type": "stream",
     "text": [
      " 96%|████████████████████████████████████████████████████████████████████████▉   | 3984/4150 [1:18:26<05:33,  2.01s/it]"
     ]
    },
    {
     "name": "stdout",
     "output_type": "stream",
     "text": [
      "PubChem failed for AC1OF33F: 404 Client Error: PUGREST.NotFound for url: https://pubchem.ncbi.nlm.nih.gov/rest/pug/compound/name/AC1OF33F/property/IsomericSMILES/TXT\n",
      " get_from_pubchem could not find SMILES for 'AC1OF33F'\n",
      "PubChem-CID failed for AC1OF33F: 404 Client Error: PUGREST.NotFound for url: https://pubchem.ncbi.nlm.nih.gov/rest/pug/compound/name/AC1OF33F/cids/TXT\n",
      " get_from_pubchem_cid could not find SMILES for 'AC1OF33F'\n",
      " get_from_zinc could not find SMILES for 'AC1OF33F'\n",
      " get_from_nci could not find SMILES for 'AC1OF33F'\n",
      "CIR failed for AC1OF33F: 500 Server Error: INTERNAL SERVER ERROR for url: https://cactus.nci.nih.gov/chemical/structure/AC1OF33F/smiles\n",
      " get_from_cir could not find SMILES for 'AC1OF33F'\n",
      " get_from_chembl could not find SMILES for 'AC1OF33F'\n"
     ]
    },
    {
     "name": "stderr",
     "output_type": "stream",
     "text": [
      " 96%|████████████████████████████████████████████████████████████████████████▉   | 3985/4150 [1:18:39<14:41,  5.34s/it]"
     ]
    },
    {
     "name": "stdout",
     "output_type": "stream",
     "text": [
      " None of the APIs could find SMILES for 'AC1OF33F'\n",
      "\n"
     ]
    },
    {
     "name": "stderr",
     "output_type": "stream",
     "text": [
      " 96%|█████████████████████████████████████████████████████████████████████████   | 3989/4150 [1:18:43<05:14,  1.95s/it]"
     ]
    },
    {
     "name": "stdout",
     "output_type": "stream",
     "text": [
      "PubChem failed for AC1OFCD4: 404 Client Error: PUGREST.NotFound for url: https://pubchem.ncbi.nlm.nih.gov/rest/pug/compound/name/AC1OFCD4/property/IsomericSMILES/TXT\n",
      " get_from_pubchem could not find SMILES for 'AC1OFCD4'\n",
      "PubChem-CID failed for AC1OFCD4: 404 Client Error: PUGREST.NotFound for url: https://pubchem.ncbi.nlm.nih.gov/rest/pug/compound/name/AC1OFCD4/cids/TXT\n",
      " get_from_pubchem_cid could not find SMILES for 'AC1OFCD4'\n",
      " get_from_zinc could not find SMILES for 'AC1OFCD4'\n",
      " get_from_nci could not find SMILES for 'AC1OFCD4'\n",
      "CIR failed for AC1OFCD4: 500 Server Error: INTERNAL SERVER ERROR for url: https://cactus.nci.nih.gov/chemical/structure/AC1OFCD4/smiles\n",
      " get_from_cir could not find SMILES for 'AC1OFCD4'\n",
      " get_from_chembl could not find SMILES for 'AC1OFCD4'\n"
     ]
    },
    {
     "name": "stderr",
     "output_type": "stream",
     "text": [
      " 96%|█████████████████████████████████████████████████████████████████████████   | 3990/4150 [1:18:56<14:10,  5.32s/it]"
     ]
    },
    {
     "name": "stdout",
     "output_type": "stream",
     "text": [
      " None of the APIs could find SMILES for 'AC1OFCD4'\n",
      "\n"
     ]
    },
    {
     "name": "stderr",
     "output_type": "stream",
     "text": [
      " 97%|█████████████████████████████████████████████████████████████████████████▎  | 4006/4150 [1:19:10<02:07,  1.13it/s]"
     ]
    },
    {
     "name": "stdout",
     "output_type": "stream",
     "text": [
      "PubChem failed for AC1OFCEP: 404 Client Error: PUGREST.NotFound for url: https://pubchem.ncbi.nlm.nih.gov/rest/pug/compound/name/AC1OFCEP/property/IsomericSMILES/TXT\n",
      " get_from_pubchem could not find SMILES for 'AC1OFCEP'\n",
      "PubChem-CID failed for AC1OFCEP: 404 Client Error: PUGREST.NotFound for url: https://pubchem.ncbi.nlm.nih.gov/rest/pug/compound/name/AC1OFCEP/cids/TXT\n",
      " get_from_pubchem_cid could not find SMILES for 'AC1OFCEP'\n",
      " get_from_zinc could not find SMILES for 'AC1OFCEP'\n",
      " get_from_nci could not find SMILES for 'AC1OFCEP'\n",
      "CIR failed for AC1OFCEP: 500 Server Error: INTERNAL SERVER ERROR for url: https://cactus.nci.nih.gov/chemical/structure/AC1OFCEP/smiles\n",
      " get_from_cir could not find SMILES for 'AC1OFCEP'\n",
      " get_from_chembl could not find SMILES for 'AC1OFCEP'\n"
     ]
    },
    {
     "name": "stderr",
     "output_type": "stream",
     "text": [
      " 97%|█████████████████████████████████████████████████████████████████████████▍  | 4007/4150 [1:19:23<10:41,  4.49s/it]"
     ]
    },
    {
     "name": "stdout",
     "output_type": "stream",
     "text": [
      " None of the APIs could find SMILES for 'AC1OFCEP'\n",
      "\n"
     ]
    },
    {
     "name": "stderr",
     "output_type": "stream",
     "text": [
      " 97%|█████████████████████████████████████████████████████████████████████████▍  | 4009/4150 [1:19:25<06:10,  2.63s/it]"
     ]
    },
    {
     "name": "stdout",
     "output_type": "stream",
     "text": [
      "PubChem failed for ZINC22059945: 404 Client Error: PUGREST.NotFound for url: https://pubchem.ncbi.nlm.nih.gov/rest/pug/compound/name/ZINC22059945/property/IsomericSMILES/TXT\n",
      " get_from_pubchem could not find SMILES for 'ZINC22059945'\n",
      "PubChem-CID failed for ZINC22059945: 404 Client Error: PUGREST.NotFound for url: https://pubchem.ncbi.nlm.nih.gov/rest/pug/compound/name/ZINC22059945/cids/TXT\n",
      " get_from_pubchem_cid could not find SMILES for 'ZINC22059945'\n",
      " get_from_zinc could not find SMILES for 'ZINC22059945'\n",
      " get_from_nci could not find SMILES for 'ZINC22059945'\n",
      "CIR failed for ZINC22059945: 500 Server Error: INTERNAL SERVER ERROR for url: https://cactus.nci.nih.gov/chemical/structure/ZINC22059945/smiles\n",
      " get_from_cir could not find SMILES for 'ZINC22059945'\n",
      " get_from_chembl could not find SMILES for 'ZINC22059945'\n"
     ]
    },
    {
     "name": "stderr",
     "output_type": "stream",
     "text": [
      " 97%|█████████████████████████████████████████████████████████████████████████▍  | 4010/4150 [1:19:37<12:41,  5.44s/it]"
     ]
    },
    {
     "name": "stdout",
     "output_type": "stream",
     "text": [
      " None of the APIs could find SMILES for 'ZINC22059945'\n",
      "\n"
     ]
    },
    {
     "name": "stderr",
     "output_type": "stream",
     "text": [
      " 97%|█████████████████████████████████████████████████████████████████████████▌  | 4020/4150 [1:19:46<02:13,  1.03s/it]"
     ]
    },
    {
     "name": "stdout",
     "output_type": "stream",
     "text": [
      "PubChem failed for ACMC-20mj2l: 404 Client Error: PUGREST.NotFound for url: https://pubchem.ncbi.nlm.nih.gov/rest/pug/compound/name/ACMC-20mj2l/property/IsomericSMILES/TXT\n",
      " get_from_pubchem could not find SMILES for 'ACMC-20mj2l'\n",
      "PubChem-CID failed for ACMC-20mj2l: 404 Client Error: PUGREST.NotFound for url: https://pubchem.ncbi.nlm.nih.gov/rest/pug/compound/name/ACMC-20mj2l/cids/TXT\n",
      " get_from_pubchem_cid could not find SMILES for 'ACMC-20mj2l'\n",
      " get_from_zinc could not find SMILES for 'ACMC-20mj2l'\n",
      " get_from_nci could not find SMILES for 'ACMC-20mj2l'\n",
      "CIR failed for ACMC-20mj2l: 500 Server Error: INTERNAL SERVER ERROR for url: https://cactus.nci.nih.gov/chemical/structure/ACMC-20mj2l/smiles\n",
      " get_from_cir could not find SMILES for 'ACMC-20mj2l'\n",
      " get_from_chembl could not find SMILES for 'ACMC-20mj2l'\n"
     ]
    },
    {
     "name": "stderr",
     "output_type": "stream",
     "text": [
      " 97%|█████████████████████████████████████████████████████████████████████████▋  | 4021/4150 [1:19:59<09:59,  4.65s/it]"
     ]
    },
    {
     "name": "stdout",
     "output_type": "stream",
     "text": [
      " None of the APIs could find SMILES for 'ACMC-20mj2l'\n",
      "\n"
     ]
    },
    {
     "name": "stderr",
     "output_type": "stream",
     "text": [
      " 97%|█████████████████████████████████████████████████████████████████████████▋  | 4022/4150 [1:20:00<07:28,  3.51s/it]"
     ]
    },
    {
     "name": "stdout",
     "output_type": "stream",
     "text": [
      "PubChem failed for ZINC101112865: 404 Client Error: PUGREST.NotFound for url: https://pubchem.ncbi.nlm.nih.gov/rest/pug/compound/name/ZINC101112865/property/IsomericSMILES/TXT\n",
      " get_from_pubchem could not find SMILES for 'ZINC101112865'\n",
      "PubChem-CID failed for ZINC101112865: 404 Client Error: PUGREST.NotFound for url: https://pubchem.ncbi.nlm.nih.gov/rest/pug/compound/name/ZINC101112865/cids/TXT\n",
      " get_from_pubchem_cid could not find SMILES for 'ZINC101112865'\n",
      " get_from_zinc could not find SMILES for 'ZINC101112865'\n",
      " get_from_nci could not find SMILES for 'ZINC101112865'\n",
      "CIR failed for ZINC101112865: 500 Server Error: INTERNAL SERVER ERROR for url: https://cactus.nci.nih.gov/chemical/structure/ZINC101112865/smiles\n",
      " get_from_cir could not find SMILES for 'ZINC101112865'\n",
      " get_from_chembl could not find SMILES for 'ZINC101112865'\n"
     ]
    },
    {
     "name": "stderr",
     "output_type": "stream",
     "text": [
      " 97%|█████████████████████████████████████████████████████████████████████████▋  | 4023/4150 [1:20:11<12:41,  6.00s/it]"
     ]
    },
    {
     "name": "stdout",
     "output_type": "stream",
     "text": [
      " None of the APIs could find SMILES for 'ZINC101112865'\n",
      "\n"
     ]
    },
    {
     "name": "stderr",
     "output_type": "stream",
     "text": [
      " 98%|██████████████████████████████████████████████████████████████████████████▋ | 4077/4150 [1:20:59<01:06,  1.10it/s]"
     ]
    },
    {
     "name": "stdout",
     "output_type": "stream",
     "text": [
      "PubChem failed for ZINC11616261: 404 Client Error: PUGREST.NotFound for url: https://pubchem.ncbi.nlm.nih.gov/rest/pug/compound/name/ZINC11616261/property/IsomericSMILES/TXT\n",
      " get_from_pubchem could not find SMILES for 'ZINC11616261'\n",
      "PubChem-CID failed for ZINC11616261: 404 Client Error: PUGREST.NotFound for url: https://pubchem.ncbi.nlm.nih.gov/rest/pug/compound/name/ZINC11616261/cids/TXT\n",
      " get_from_pubchem_cid could not find SMILES for 'ZINC11616261'\n",
      " get_from_zinc could not find SMILES for 'ZINC11616261'\n",
      " get_from_nci could not find SMILES for 'ZINC11616261'\n",
      "CIR failed for ZINC11616261: 500 Server Error: INTERNAL SERVER ERROR for url: https://cactus.nci.nih.gov/chemical/structure/ZINC11616261/smiles\n",
      " get_from_cir could not find SMILES for 'ZINC11616261'\n",
      " get_from_chembl could not find SMILES for 'ZINC11616261'\n"
     ]
    },
    {
     "name": "stderr",
     "output_type": "stream",
     "text": [
      " 98%|██████████████████████████████████████████████████████████████████████████▋ | 4078/4150 [1:21:12<05:09,  4.30s/it]"
     ]
    },
    {
     "name": "stdout",
     "output_type": "stream",
     "text": [
      " None of the APIs could find SMILES for 'ZINC11616261'\n",
      "\n"
     ]
    },
    {
     "name": "stderr",
     "output_type": "stream",
     "text": [
      " 99%|██████████████████████████████████████████████████████████████████████████▊ | 4088/4150 [1:21:21<01:01,  1.01it/s]"
     ]
    },
    {
     "name": "stdout",
     "output_type": "stream",
     "text": [
      "PubChem failed for ZINC3831133: 404 Client Error: PUGREST.NotFound for url: https://pubchem.ncbi.nlm.nih.gov/rest/pug/compound/name/ZINC3831133/property/IsomericSMILES/TXT\n",
      " get_from_pubchem could not find SMILES for 'ZINC3831133'\n",
      "PubChem-CID failed for ZINC3831133: 404 Client Error: PUGREST.NotFound for url: https://pubchem.ncbi.nlm.nih.gov/rest/pug/compound/name/ZINC3831133/cids/TXT\n",
      " get_from_pubchem_cid could not find SMILES for 'ZINC3831133'\n",
      " get_from_zinc could not find SMILES for 'ZINC3831133'\n",
      " get_from_nci could not find SMILES for 'ZINC3831133'\n",
      "CIR failed for ZINC3831133: 500 Server Error: INTERNAL SERVER ERROR for url: https://cactus.nci.nih.gov/chemical/structure/ZINC3831133/smiles\n",
      " get_from_cir could not find SMILES for 'ZINC3831133'\n",
      " get_from_chembl could not find SMILES for 'ZINC3831133'\n"
     ]
    },
    {
     "name": "stderr",
     "output_type": "stream",
     "text": [
      " 99%|██████████████████████████████████████████████████████████████████████████▉ | 4089/4150 [1:21:33<04:17,  4.22s/it]"
     ]
    },
    {
     "name": "stdout",
     "output_type": "stream",
     "text": [
      " None of the APIs could find SMILES for 'ZINC3831133'\n",
      "\n"
     ]
    },
    {
     "name": "stderr",
     "output_type": "stream",
     "text": [
      " 99%|██████████████████████████████████████████████████████████████████████████▉ | 4090/4150 [1:21:33<03:12,  3.21s/it]"
     ]
    },
    {
     "name": "stdout",
     "output_type": "stream",
     "text": [
      "PubChem failed for ZINC139045355: 404 Client Error: PUGREST.NotFound for url: https://pubchem.ncbi.nlm.nih.gov/rest/pug/compound/name/ZINC139045355/property/IsomericSMILES/TXT\n",
      " get_from_pubchem could not find SMILES for 'ZINC139045355'\n",
      "PubChem-CID failed for ZINC139045355: 404 Client Error: PUGREST.NotFound for url: https://pubchem.ncbi.nlm.nih.gov/rest/pug/compound/name/ZINC139045355/cids/TXT\n",
      " get_from_pubchem_cid could not find SMILES for 'ZINC139045355'\n",
      " get_from_zinc could not find SMILES for 'ZINC139045355'\n",
      " get_from_nci could not find SMILES for 'ZINC139045355'\n",
      "CIR failed for ZINC139045355: 500 Server Error: INTERNAL SERVER ERROR for url: https://cactus.nci.nih.gov/chemical/structure/ZINC139045355/smiles\n",
      " get_from_cir could not find SMILES for 'ZINC139045355'\n",
      " get_from_chembl could not find SMILES for 'ZINC139045355'\n"
     ]
    },
    {
     "name": "stderr",
     "output_type": "stream",
     "text": [
      " 99%|██████████████████████████████████████████████████████████████████████████▉ | 4091/4150 [1:21:45<05:42,  5.80s/it]"
     ]
    },
    {
     "name": "stdout",
     "output_type": "stream",
     "text": [
      " None of the APIs could find SMILES for 'ZINC139045355'\n",
      "\n"
     ]
    },
    {
     "name": "stderr",
     "output_type": "stream",
     "text": [
      " 99%|███████████████████████████████████████████████████████████████████████████ | 4102/4150 [1:21:55<00:46,  1.04it/s]"
     ]
    },
    {
     "name": "stdout",
     "output_type": "stream",
     "text": [
      "PubChem failed for AC1L34YQ: 404 Client Error: PUGREST.NotFound for url: https://pubchem.ncbi.nlm.nih.gov/rest/pug/compound/name/AC1L34YQ/property/IsomericSMILES/TXT\n",
      " get_from_pubchem could not find SMILES for 'AC1L34YQ'\n",
      "PubChem-CID failed for AC1L34YQ: 404 Client Error: PUGREST.NotFound for url: https://pubchem.ncbi.nlm.nih.gov/rest/pug/compound/name/AC1L34YQ/cids/TXT\n",
      " get_from_pubchem_cid could not find SMILES for 'AC1L34YQ'\n",
      " get_from_zinc could not find SMILES for 'AC1L34YQ'\n",
      " get_from_nci could not find SMILES for 'AC1L34YQ'\n",
      "CIR failed for AC1L34YQ: 500 Server Error: INTERNAL SERVER ERROR for url: https://cactus.nci.nih.gov/chemical/structure/AC1L34YQ/smiles\n",
      " get_from_cir could not find SMILES for 'AC1L34YQ'\n",
      " get_from_chembl could not find SMILES for 'AC1L34YQ'\n"
     ]
    },
    {
     "name": "stderr",
     "output_type": "stream",
     "text": [
      " 99%|███████████████████████████████████████████████████████████████████████████▏| 4103/4150 [1:22:08<03:34,  4.56s/it]"
     ]
    },
    {
     "name": "stdout",
     "output_type": "stream",
     "text": [
      " None of the APIs could find SMILES for 'AC1L34YQ'\n",
      "\n",
      "PubChem failed for AC1M4BZH: 404 Client Error: PUGREST.NotFound for url: https://pubchem.ncbi.nlm.nih.gov/rest/pug/compound/name/AC1M4BZH/property/IsomericSMILES/TXT\n",
      " get_from_pubchem could not find SMILES for 'AC1M4BZH'\n",
      "PubChem-CID failed for AC1M4BZH: 404 Client Error: PUGREST.NotFound for url: https://pubchem.ncbi.nlm.nih.gov/rest/pug/compound/name/AC1M4BZH/cids/TXT\n",
      " get_from_pubchem_cid could not find SMILES for 'AC1M4BZH'\n",
      " get_from_zinc could not find SMILES for 'AC1M4BZH'\n",
      " get_from_nci could not find SMILES for 'AC1M4BZH'\n",
      "CIR failed for AC1M4BZH: 500 Server Error: INTERNAL SERVER ERROR for url: https://cactus.nci.nih.gov/chemical/structure/AC1M4BZH/smiles\n",
      " get_from_cir could not find SMILES for 'AC1M4BZH'\n",
      " get_from_chembl could not find SMILES for 'AC1M4BZH'\n"
     ]
    },
    {
     "name": "stderr",
     "output_type": "stream",
     "text": [
      " 99%|███████████████████████████████████████████████████████████████████████████▏| 4104/4150 [1:22:21<05:26,  7.10s/it]"
     ]
    },
    {
     "name": "stdout",
     "output_type": "stream",
     "text": [
      " None of the APIs could find SMILES for 'AC1M4BZH'\n",
      "\n"
     ]
    },
    {
     "name": "stderr",
     "output_type": "stream",
     "text": [
      " 99%|███████████████████████████████████████████████████████████████████████████▌| 4125/4150 [1:22:39<00:22,  1.11it/s]"
     ]
    },
    {
     "name": "stdout",
     "output_type": "stream",
     "text": [
      "PubChem failed for AC1L1EUK: 404 Client Error: PUGREST.NotFound for url: https://pubchem.ncbi.nlm.nih.gov/rest/pug/compound/name/AC1L1EUK/property/IsomericSMILES/TXT\n",
      " get_from_pubchem could not find SMILES for 'AC1L1EUK'\n",
      "PubChem-CID failed for AC1L1EUK: 404 Client Error: PUGREST.NotFound for url: https://pubchem.ncbi.nlm.nih.gov/rest/pug/compound/name/AC1L1EUK/cids/TXT\n",
      " get_from_pubchem_cid could not find SMILES for 'AC1L1EUK'\n",
      " get_from_zinc could not find SMILES for 'AC1L1EUK'\n",
      " get_from_nci could not find SMILES for 'AC1L1EUK'\n",
      "CIR failed for AC1L1EUK: 500 Server Error: INTERNAL SERVER ERROR for url: https://cactus.nci.nih.gov/chemical/structure/AC1L1EUK/smiles\n",
      " get_from_cir could not find SMILES for 'AC1L1EUK'\n",
      " get_from_chembl could not find SMILES for 'AC1L1EUK'\n"
     ]
    },
    {
     "name": "stderr",
     "output_type": "stream",
     "text": [
      " 99%|███████████████████████████████████████████████████████████████████████████▌| 4126/4150 [1:22:53<01:49,  4.57s/it]"
     ]
    },
    {
     "name": "stdout",
     "output_type": "stream",
     "text": [
      " None of the APIs could find SMILES for 'AC1L1EUK'\n",
      "\n"
     ]
    },
    {
     "name": "stderr",
     "output_type": "stream",
     "text": [
      " 99%|███████████████████████████████████████████████████████████████████████████▌| 4128/4150 [1:22:54<00:59,  2.68s/it]"
     ]
    },
    {
     "name": "stdout",
     "output_type": "stream",
     "text": [
      "PubChem failed for AC1Q4OOX: 404 Client Error: PUGREST.NotFound for url: https://pubchem.ncbi.nlm.nih.gov/rest/pug/compound/name/AC1Q4OOX/property/IsomericSMILES/TXT\n",
      " get_from_pubchem could not find SMILES for 'AC1Q4OOX'\n",
      "PubChem-CID failed for AC1Q4OOX: 404 Client Error: PUGREST.NotFound for url: https://pubchem.ncbi.nlm.nih.gov/rest/pug/compound/name/AC1Q4OOX/cids/TXT\n",
      " get_from_pubchem_cid could not find SMILES for 'AC1Q4OOX'\n",
      " get_from_zinc could not find SMILES for 'AC1Q4OOX'\n",
      " get_from_nci could not find SMILES for 'AC1Q4OOX'\n",
      "CIR failed for AC1Q4OOX: 500 Server Error: INTERNAL SERVER ERROR for url: https://cactus.nci.nih.gov/chemical/structure/AC1Q4OOX/smiles\n",
      " get_from_cir could not find SMILES for 'AC1Q4OOX'\n",
      " get_from_chembl could not find SMILES for 'AC1Q4OOX'\n"
     ]
    },
    {
     "name": "stderr",
     "output_type": "stream",
     "text": [
      " 99%|███████████████████████████████████████████████████████████████████████████▌| 4129/4150 [1:23:07<02:01,  5.77s/it]"
     ]
    },
    {
     "name": "stdout",
     "output_type": "stream",
     "text": [
      " None of the APIs could find SMILES for 'AC1Q4OOX'\n",
      "\n"
     ]
    },
    {
     "name": "stderr",
     "output_type": "stream",
     "text": [
      "100%|███████████████████████████████████████████████████████████████████████████▊| 4141/4150 [1:23:19<00:08,  1.04it/s]"
     ]
    },
    {
     "name": "stdout",
     "output_type": "stream",
     "text": [
      "PubChem failed for Vincristine Sulfate, Apocynaceae sp.: 404 Client Error: PUGREST.NotFound for url: https://pubchem.ncbi.nlm.nih.gov/rest/pug/compound/name/Vincristine%20Sulfate,%20Apocynaceae%20sp./property/IsomericSMILES/TXT\n",
      " get_from_pubchem could not find SMILES for 'Vincristine Sulfate, Apocynaceae sp.'\n",
      "PubChem-CID failed for Vincristine Sulfate, Apocynaceae sp.: 404 Client Error: PUGREST.NotFound for url: https://pubchem.ncbi.nlm.nih.gov/rest/pug/compound/name/Vincristine%20Sulfate,%20Apocynaceae%20sp./cids/TXT\n",
      " get_from_pubchem_cid could not find SMILES for 'Vincristine Sulfate, Apocynaceae sp.'\n",
      " get_from_zinc could not find SMILES for 'Vincristine Sulfate, Apocynaceae sp.'\n",
      " get_from_nci could not find SMILES for 'Vincristine Sulfate, Apocynaceae sp.'\n",
      "CIR failed for Vincristine Sulfate, Apocynaceae sp.: 500 Server Error: INTERNAL SERVER ERROR for url: https://cactus.nci.nih.gov/chemical/structure/Vincristine%20Sulfate,%20Apocynaceae%20sp./smiles\n",
      " get_from_cir could not find SMILES for 'Vincristine Sulfate, Apocynaceae sp.'\n",
      " get_from_chembl could not find SMILES for 'Vincristine Sulfate, Apocynaceae sp.'\n"
     ]
    },
    {
     "name": "stderr",
     "output_type": "stream",
     "text": [
      "100%|███████████████████████████████████████████████████████████████████████████▊| 4142/4150 [1:23:34<00:40,  5.11s/it]"
     ]
    },
    {
     "name": "stdout",
     "output_type": "stream",
     "text": [
      " None of the APIs could find SMILES for 'Vincristine Sulfate, Apocynaceae sp.'\n",
      "\n"
     ]
    },
    {
     "name": "stderr",
     "output_type": "stream",
     "text": [
      "100%|████████████████████████████████████████████████████████████████████████████| 4150/4150 [1:23:43<00:00,  1.21s/it]\n"
     ]
    }
   ],
   "source": [
    "import requests\n",
    "from bs4 import BeautifulSoup\n",
    "import time\n",
    "\n",
    "failed_names = []\n",
    "\n",
    "def get_from_pubchem(name):\n",
    "    url = f'https://pubchem.ncbi.nlm.nih.gov/rest/pug/compound/name/{name}/property/IsomericSMILES/TXT'\n",
    "    try:\n",
    "        response = requests.get(url, timeout=10)\n",
    "        response.raise_for_status()\n",
    "        return response.text.strip()\n",
    "    except Exception as e:\n",
    "        print(f\"PubChem failed for {name}: {e}\")\n",
    "        return None\n",
    "\n",
    "def get_from_zinc(name):\n",
    "    try:\n",
    "        search_url = f\"https://zinc15.docking.org/substances/search/?q={name}\"\n",
    "        headers = {\"User-Agent\": \"Mozilla/5.0\"}\n",
    "        response = requests.get(search_url, headers=headers, timeout=10)\n",
    "        soup = BeautifulSoup(response.text, 'html.parser')\n",
    "        smiles_div = soup.find(\"div\", class_=\"smiles\")\n",
    "        if smiles_div:\n",
    "            return smiles_div.text.strip()\n",
    "        return None\n",
    "    except Exception as e:\n",
    "        print(f\"ZINC15 failed for {name}: {e}\")\n",
    "        return None\n",
    "\n",
    "def get_from_pubchem_cid(name):\n",
    "    try:\n",
    "        cid_url = f'https://pubchem.ncbi.nlm.nih.gov/rest/pug/compound/name/{name}/cids/TXT'\n",
    "        response = requests.get(cid_url, timeout=10)\n",
    "        response.raise_for_status()\n",
    "        cid = response.text.strip().split('\\n')[0]\n",
    "        prop_url = f'https://pubchem.ncbi.nlm.nih.gov/rest/pug/compound/cid/{cid}/property/IsomericSMILES/TXT'\n",
    "        prop_response = requests.get(prop_url, timeout=10)\n",
    "        prop_response.raise_for_status()\n",
    "        return prop_response.text.strip()\n",
    "    except Exception as e:\n",
    "        print(f\"PubChem-CID failed for {name}: {e}\")\n",
    "        return None\n",
    "\n",
    "def get_from_nci(name):\n",
    "    try:\n",
    "        url = f\"https://cactus.nci.nih.gov/chemical/structure/{name}/smiles\"\n",
    "        response = requests.get(url, timeout=10)\n",
    "        if response.status_code == 200:\n",
    "            return response.text.strip()\n",
    "        return None\n",
    "    except Exception as e:\n",
    "        print(f\"NCI Resolver failed for {name}: {e}\")\n",
    "        return None\n",
    "\n",
    "def get_from_cir(name):\n",
    "    try:\n",
    "        url = f\"https://cactus.nci.nih.gov/chemical/structure/{name}/smiles\"\n",
    "        response = requests.get(url, timeout=10)\n",
    "        response.raise_for_status()\n",
    "        return response.text.strip()\n",
    "    except Exception as e:\n",
    "        print(f\"CIR failed for {name}: {e}\")\n",
    "        return None\n",
    "\n",
    "def error_msg(name):\n",
    "    print(f\"No online match found for {name}, checking local DB...\")  \n",
    "    return None\n",
    "\n",
    "\n",
    "def get_from_chembl(name):\n",
    "    try:\n",
    "        url = f'https://www.ebi.ac.uk/chembl/api/data/molecule?pref_name={name}&format=json'\n",
    "        headers = {\"User-Agent\": \"Mozilla/5.0\"}\n",
    "        response = requests.get(url, headers=headers, timeout=10)\n",
    "        response.raise_for_status()\n",
    "        data = response.json()\n",
    "        if data[\"page_meta\"][\"total_count\"] > 0:\n",
    "            molecule = data[\"molecules\"][0]\n",
    "            if \"molecule_structures\" in molecule and molecule[\"molecule_structures\"]:\n",
    "                return molecule[\"molecule_structures\"].get(\"canonical_smiles\")\n",
    "        return None\n",
    "    except Exception as e:\n",
    "        print(f\"ChEMBL failed for {name}: {e}\")\n",
    "        return None\n",
    "\n",
    "# Master pipeline\n",
    "def get_smiles_from_name(name):\n",
    "    methods = [\n",
    "        get_from_pubchem,\n",
    "        get_from_pubchem_cid,\n",
    "        get_from_zinc,\n",
    "        get_from_nci,\n",
    "        get_from_cir,\n",
    "        get_from_chembl,\n",
    "    ]\n",
    "    \n",
    "    for method in methods:\n",
    "        result = method(name)\n",
    "        if result:\n",
    "            return result\n",
    "        else:\n",
    "            print(f\" {method.__name__} could not find SMILES for '{name}'\")\n",
    "        time.sleep(1)  # To be gentle on APIs\n",
    "\n",
    "    print(f\" None of the APIs could find SMILES for '{name}'\\n\")\n",
    "    failed_names.append(name)\n",
    "    return None\n",
    "\n",
    "tqdm.pandas()\n",
    "drug_df['smiles'] = drug_df['drug'].progress_apply(get_smiles_from_name)\n"
   ]
  },
  {
   "cell_type": "code",
   "execution_count": 17,
   "id": "8fa539cc-7c5c-4826-9151-95d330837820",
   "metadata": {},
   "outputs": [
    {
     "data": {
      "text/html": [
       "<div>\n",
       "<style scoped>\n",
       "    .dataframe tbody tr th:only-of-type {\n",
       "        vertical-align: middle;\n",
       "    }\n",
       "\n",
       "    .dataframe tbody tr th {\n",
       "        vertical-align: top;\n",
       "    }\n",
       "\n",
       "    .dataframe thead th {\n",
       "        text-align: right;\n",
       "    }\n",
       "</style>\n",
       "<table border=\"1\" class=\"dataframe\">\n",
       "  <thead>\n",
       "    <tr style=\"text-align: right;\">\n",
       "      <th></th>\n",
       "      <th>drug</th>\n",
       "      <th>smiles</th>\n",
       "    </tr>\n",
       "  </thead>\n",
       "  <tbody>\n",
       "    <tr>\n",
       "      <th>0</th>\n",
       "      <td>5-FU</td>\n",
       "      <td>C1=C(C(=O)NC(=O)N1)F</td>\n",
       "    </tr>\n",
       "    <tr>\n",
       "      <th>1</th>\n",
       "      <td>ABT-888</td>\n",
       "      <td>C[C@@]1(CCCN1)C2=NC3=C(C=CC=C3N2)C(=O)N</td>\n",
       "    </tr>\n",
       "    <tr>\n",
       "      <th>2</th>\n",
       "      <td>AZD1775</td>\n",
       "      <td>CC(C)(C1=NC(=CC=C1)N2C3=NC(=NC=C3C(=O)N2CC=C)N...</td>\n",
       "    </tr>\n",
       "    <tr>\n",
       "      <th>3</th>\n",
       "      <td>BEZ-235</td>\n",
       "      <td>CC(C)(C#N)C1=CC=C(C=C1)N2C3=C4C=C(C=CC4=NC=C3N...</td>\n",
       "    </tr>\n",
       "    <tr>\n",
       "      <th>4</th>\n",
       "      <td>BORTEZOMIB</td>\n",
       "      <td>B([C@H](CC(C)C)NC(=O)[C@H](CC1=CC=CC=C1)NC(=O)...</td>\n",
       "    </tr>\n",
       "  </tbody>\n",
       "</table>\n",
       "</div>"
      ],
      "text/plain": [
       "         drug                                             smiles\n",
       "0        5-FU                               C1=C(C(=O)NC(=O)N1)F\n",
       "1     ABT-888            C[C@@]1(CCCN1)C2=NC3=C(C=CC=C3N2)C(=O)N\n",
       "2     AZD1775  CC(C)(C1=NC(=CC=C1)N2C3=NC(=NC=C3C(=O)N2CC=C)N...\n",
       "3     BEZ-235  CC(C)(C#N)C1=CC=C(C=C1)N2C3=C4C=C(C=CC4=NC=C3N...\n",
       "4  BORTEZOMIB  B([C@H](CC(C)C)NC(=O)[C@H](CC1=CC=CC=C1)NC(=O)..."
      ]
     },
     "execution_count": 17,
     "metadata": {},
     "output_type": "execute_result"
    }
   ],
   "source": [
    "drug_df.head()"
   ]
  },
  {
   "cell_type": "code",
   "execution_count": 18,
   "id": "004a5666-5aa8-43ed-81c5-fc7e9870f569",
   "metadata": {},
   "outputs": [
    {
     "data": {
      "text/plain": [
       "drug       0\n",
       "smiles    98\n",
       "dtype: int64"
      ]
     },
     "execution_count": 18,
     "metadata": {},
     "output_type": "execute_result"
    }
   ],
   "source": [
    "drug_df.isnull().sum()"
   ]
  },
  {
   "cell_type": "code",
   "execution_count": 19,
   "id": "b7210383-5f25-495e-ac90-d37fb9c88c43",
   "metadata": {},
   "outputs": [],
   "source": [
    "drug_df.to_csv(\"drug_to_smiles_after_master_pipeline.csv\")"
   ]
  },
  {
   "cell_type": "code",
   "execution_count": 2,
   "id": "85322614-0a14-488e-9b90-a13270037896",
   "metadata": {},
   "outputs": [],
   "source": [
    "drug_df=pd.read_csv(\"drug_to_smiles_after_master_pipeline.csv\")"
   ]
  },
  {
   "cell_type": "code",
   "execution_count": 21,
   "id": "b945e7c3-cfd9-4a28-a4ed-d94ca767390d",
   "metadata": {},
   "outputs": [
    {
     "data": {
      "text/plain": [
       "98"
      ]
     },
     "execution_count": 21,
     "metadata": {},
     "output_type": "execute_result"
    }
   ],
   "source": [
    "len(failed_names)"
   ]
  },
  {
   "cell_type": "code",
   "execution_count": 22,
   "id": "07ba5a4f-29c4-491f-9168-aa31d52290a6",
   "metadata": {},
   "outputs": [
    {
     "data": {
      "text/plain": [
       "['(6-)E-<U+200B>AMINOCAPROIC ACID',\n",
       " 'GYNOSTEMMA EXTRACT',\n",
       " 'METHYL-HESPERIDIN',\n",
       " 'PIFITHRIN-A (PFTA)',\n",
       " 'TETRAETHYLENEPENTAMINE 5HCL',\n",
       " 'Triciribinephosphate',\n",
       " 'ONO-4059 analog',\n",
       " \"3',4'-Diacetylafzelin\",\n",
       " 'ERK 11e',\n",
       " 'AGN-PC-0MU5N5',\n",
       " 'ZINC18182079',\n",
       " 'AK176003',\n",
       " 'ZINC21999985',\n",
       " 'DSSTox_CID_31408',\n",
       " 'ZINC84688828',\n",
       " 'QCR-20',\n",
       " 'AC1NPCOI',\n",
       " 'Pd-1/pd-l1 inhibitor 1',\n",
       " 'MOLPORT-042-665-727',\n",
       " 'ZINC242723022',\n",
       " 'AC1OF4NF',\n",
       " 'Ergosterine',\n",
       " 'AC1O7H3F',\n",
       " 'ZINC250325905',\n",
       " 'AC1NUNML',\n",
       " 'AK198640',\n",
       " 'AC1LAYFC',\n",
       " 'AC1LU7HW',\n",
       " 'ZD7288 HYDRATE',\n",
       " 'AC1O53DL',\n",
       " 'Bacitracin (Zinc)',\n",
       " 'TIC10 isomer',\n",
       " 'AK170455',\n",
       " 'AK-77283',\n",
       " 'AC1L1KJK',\n",
       " 'ZINC208949883',\n",
       " 'ZINC11616871',\n",
       " 'ZINC117147304',\n",
       " 'KS-00001CUZ',\n",
       " 'CTK8E8456',\n",
       " 'CTK8F0346',\n",
       " 'ZINC208012538',\n",
       " 'ZINC17545571',\n",
       " '04/04/7218',\n",
       " 'Curcumin, Curcuma longa L.',\n",
       " 'ZINC34894448',\n",
       " 'AC1L9B3J',\n",
       " 'ZINC100015731',\n",
       " 'AC1L2QK3',\n",
       " 'KS-00001D5I',\n",
       " 'AC1Q29DP',\n",
       " 'KS-00000Y5E',\n",
       " 'KGBPLKOPSFDBOX-UHFFFAOYSA-N',\n",
       " 'AC1L1IJY',\n",
       " 'AK160201',\n",
       " 'AK174336',\n",
       " 'AC1L1DW2',\n",
       " 'AC1NRBJE',\n",
       " 'ZINC896472',\n",
       " 'Provitamin A1',\n",
       " 'AC1OFCEV',\n",
       " 'ZINC3881972',\n",
       " 'ZINC208951860',\n",
       " 'AC1MWLHC',\n",
       " 'AC1OFCJY',\n",
       " 'ZINC44963243',\n",
       " 'AC1O41R4',\n",
       " 'AC1LIMNP',\n",
       " 'ZINC101426918',\n",
       " 'DSSTox_CID_28582',\n",
       " 'AC1OF340',\n",
       " 'AC1L21NN',\n",
       " \"Phloretin 2'-galactoside\",\n",
       " 'ZINC28538988',\n",
       " 'ZINC38139483',\n",
       " 'AC1LAKOZ',\n",
       " '1beta-Methylimipenem',\n",
       " 'AC1O7GND',\n",
       " 'AC1LCZJT',\n",
       " 'C10H10O4',\n",
       " 'ZINC103939005',\n",
       " 'AC1L9B2S',\n",
       " 'ZINC43163828',\n",
       " 'ZINC97975747',\n",
       " 'AC1OF33F',\n",
       " 'AC1OFCD4',\n",
       " 'AC1OFCEP',\n",
       " 'ZINC22059945',\n",
       " 'ACMC-20mj2l',\n",
       " 'ZINC101112865',\n",
       " 'ZINC11616261',\n",
       " 'ZINC3831133',\n",
       " 'ZINC139045355',\n",
       " 'AC1L34YQ',\n",
       " 'AC1M4BZH',\n",
       " 'AC1L1EUK',\n",
       " 'AC1Q4OOX',\n",
       " 'Vincristine Sulfate, Apocynaceae sp.']"
      ]
     },
     "execution_count": 22,
     "metadata": {},
     "output_type": "execute_result"
    }
   ],
   "source": [
    "failed_names"
   ]
  },
  {
   "cell_type": "code",
   "execution_count": 3,
   "id": "944a544d-8dd2-4e99-be11-671fb58f61dc",
   "metadata": {},
   "outputs": [
    {
     "data": {
      "text/html": [
       "<div>\n",
       "<style scoped>\n",
       "    .dataframe tbody tr th:only-of-type {\n",
       "        vertical-align: middle;\n",
       "    }\n",
       "\n",
       "    .dataframe tbody tr th {\n",
       "        vertical-align: top;\n",
       "    }\n",
       "\n",
       "    .dataframe thead th {\n",
       "        text-align: right;\n",
       "    }\n",
       "</style>\n",
       "<table border=\"1\" class=\"dataframe\">\n",
       "  <thead>\n",
       "    <tr style=\"text-align: right;\">\n",
       "      <th></th>\n",
       "      <th>Unnamed: 0</th>\n",
       "      <th>drug</th>\n",
       "      <th>smiles</th>\n",
       "    </tr>\n",
       "  </thead>\n",
       "  <tbody>\n",
       "    <tr>\n",
       "      <th>1106</th>\n",
       "      <td>1106</td>\n",
       "      <td>GYNOSTEMMA EXTRACT</td>\n",
       "      <td>NaN</td>\n",
       "    </tr>\n",
       "  </tbody>\n",
       "</table>\n",
       "</div>"
      ],
      "text/plain": [
       "      Unnamed: 0                drug smiles\n",
       "1106        1106  GYNOSTEMMA EXTRACT    NaN"
      ]
     },
     "execution_count": 3,
     "metadata": {},
     "output_type": "execute_result"
    }
   ],
   "source": [
    "drug_df[drug_df['drug']=='GYNOSTEMMA EXTRACT']"
   ]
  },
  {
   "cell_type": "code",
   "execution_count": 6,
   "id": "29b1c91d-d31b-451c-9e7e-d25ad8500d3c",
   "metadata": {},
   "outputs": [],
   "source": [
    "drug_df_without_smiles=drug_df[drug_df['smiles'].isna()]"
   ]
  },
  {
   "cell_type": "code",
   "execution_count": 7,
   "id": "45d458aa-021a-4aea-a6da-2d4dbb9dc0c1",
   "metadata": {},
   "outputs": [
    {
     "data": {
      "text/html": [
       "<div>\n",
       "<style scoped>\n",
       "    .dataframe tbody tr th:only-of-type {\n",
       "        vertical-align: middle;\n",
       "    }\n",
       "\n",
       "    .dataframe tbody tr th {\n",
       "        vertical-align: top;\n",
       "    }\n",
       "\n",
       "    .dataframe thead th {\n",
       "        text-align: right;\n",
       "    }\n",
       "</style>\n",
       "<table border=\"1\" class=\"dataframe\">\n",
       "  <thead>\n",
       "    <tr style=\"text-align: right;\">\n",
       "      <th></th>\n",
       "      <th>Unnamed: 0</th>\n",
       "      <th>drug</th>\n",
       "      <th>smiles</th>\n",
       "    </tr>\n",
       "  </thead>\n",
       "  <tbody>\n",
       "    <tr>\n",
       "      <th>393</th>\n",
       "      <td>393</td>\n",
       "      <td>(6-)E-&lt;U+200B&gt;AMINOCAPROIC ACID</td>\n",
       "      <td>NaN</td>\n",
       "    </tr>\n",
       "    <tr>\n",
       "      <th>1106</th>\n",
       "      <td>1106</td>\n",
       "      <td>GYNOSTEMMA EXTRACT</td>\n",
       "      <td>NaN</td>\n",
       "    </tr>\n",
       "    <tr>\n",
       "      <th>1313</th>\n",
       "      <td>1313</td>\n",
       "      <td>METHYL-HESPERIDIN</td>\n",
       "      <td>NaN</td>\n",
       "    </tr>\n",
       "    <tr>\n",
       "      <th>1548</th>\n",
       "      <td>1548</td>\n",
       "      <td>PIFITHRIN-A (PFTA)</td>\n",
       "      <td>NaN</td>\n",
       "    </tr>\n",
       "    <tr>\n",
       "      <th>1852</th>\n",
       "      <td>1852</td>\n",
       "      <td>TETRAETHYLENEPENTAMINE 5HCL</td>\n",
       "      <td>NaN</td>\n",
       "    </tr>\n",
       "    <tr>\n",
       "      <th>...</th>\n",
       "      <td>...</td>\n",
       "      <td>...</td>\n",
       "      <td>...</td>\n",
       "    </tr>\n",
       "    <tr>\n",
       "      <th>4101</th>\n",
       "      <td>4101</td>\n",
       "      <td>AC1L34YQ</td>\n",
       "      <td>NaN</td>\n",
       "    </tr>\n",
       "    <tr>\n",
       "      <th>4102</th>\n",
       "      <td>4102</td>\n",
       "      <td>AC1M4BZH</td>\n",
       "      <td>NaN</td>\n",
       "    </tr>\n",
       "    <tr>\n",
       "      <th>4124</th>\n",
       "      <td>4124</td>\n",
       "      <td>AC1L1EUK</td>\n",
       "      <td>NaN</td>\n",
       "    </tr>\n",
       "    <tr>\n",
       "      <th>4127</th>\n",
       "      <td>4127</td>\n",
       "      <td>AC1Q4OOX</td>\n",
       "      <td>NaN</td>\n",
       "    </tr>\n",
       "    <tr>\n",
       "      <th>4140</th>\n",
       "      <td>4140</td>\n",
       "      <td>Vincristine Sulfate, Apocynaceae sp.</td>\n",
       "      <td>NaN</td>\n",
       "    </tr>\n",
       "  </tbody>\n",
       "</table>\n",
       "<p>98 rows × 3 columns</p>\n",
       "</div>"
      ],
      "text/plain": [
       "      Unnamed: 0                                  drug smiles\n",
       "393          393       (6-)E-<U+200B>AMINOCAPROIC ACID    NaN\n",
       "1106        1106                    GYNOSTEMMA EXTRACT    NaN\n",
       "1313        1313                     METHYL-HESPERIDIN    NaN\n",
       "1548        1548                    PIFITHRIN-A (PFTA)    NaN\n",
       "1852        1852           TETRAETHYLENEPENTAMINE 5HCL    NaN\n",
       "...          ...                                   ...    ...\n",
       "4101        4101                              AC1L34YQ    NaN\n",
       "4102        4102                              AC1M4BZH    NaN\n",
       "4124        4124                              AC1L1EUK    NaN\n",
       "4127        4127                              AC1Q4OOX    NaN\n",
       "4140        4140  Vincristine Sulfate, Apocynaceae sp.    NaN\n",
       "\n",
       "[98 rows x 3 columns]"
      ]
     },
     "execution_count": 7,
     "metadata": {},
     "output_type": "execute_result"
    }
   ],
   "source": [
    "drug_df_without_smiles   #missing smiles "
   ]
  },
  {
   "cell_type": "code",
   "execution_count": null,
   "id": "cacd7579-1a93-4289-b7ee-1bc4c1f69386",
   "metadata": {},
   "outputs": [],
   "source": []
  },
  {
   "cell_type": "code",
   "execution_count": null,
   "id": "e639d93e-139c-4d48-bd2d-4c980ae903ff",
   "metadata": {},
   "outputs": [],
   "source": []
  }
 ],
 "metadata": {
  "kernelspec": {
   "display_name": "Python 3 (ipykernel)",
   "language": "python",
   "name": "python3"
  },
  "language_info": {
   "codemirror_mode": {
    "name": "ipython",
    "version": 3
   },
   "file_extension": ".py",
   "mimetype": "text/x-python",
   "name": "python",
   "nbconvert_exporter": "python",
   "pygments_lexer": "ipython3",
   "version": "3.13.3"
  }
 },
 "nbformat": 4,
 "nbformat_minor": 5
}
