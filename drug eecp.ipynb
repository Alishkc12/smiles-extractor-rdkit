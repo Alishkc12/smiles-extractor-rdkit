{
 "cells": [
  {
   "cell_type": "code",
   "execution_count": 135,
   "id": "9e321b39-2219-428d-aec9-a7ad5c4ec1d5",
   "metadata": {},
   "outputs": [],
   "source": [
    "import pandas as pd\n",
    "import numpy as np\n",
    "from rdkit import Chem\n",
    "from rdkit.Chem import AllChem\n",
    "from rdkit import DataStructs\n",
    "from rdkit.Chem import rdFingerprintGenerator"
   ]
  },
  {
   "cell_type": "code",
   "execution_count": 115,
   "id": "ed5f813d-f84b-4bdd-8a0b-b6e2823c3659",
   "metadata": {},
   "outputs": [],
   "source": [
    "smiles_drug=pd.read_csv(\"drug_to_smiles_after_master_pipeline.csv\",index_col=0)"
   ]
  },
  {
   "cell_type": "code",
   "execution_count": 116,
   "id": "fda81d14-8494-4d79-9af6-fbf4be057a84",
   "metadata": {},
   "outputs": [
    {
     "data": {
      "text/html": [
       "<div>\n",
       "<style scoped>\n",
       "    .dataframe tbody tr th:only-of-type {\n",
       "        vertical-align: middle;\n",
       "    }\n",
       "\n",
       "    .dataframe tbody tr th {\n",
       "        vertical-align: top;\n",
       "    }\n",
       "\n",
       "    .dataframe thead th {\n",
       "        text-align: right;\n",
       "    }\n",
       "</style>\n",
       "<table border=\"1\" class=\"dataframe\">\n",
       "  <thead>\n",
       "    <tr style=\"text-align: right;\">\n",
       "      <th></th>\n",
       "      <th>drug</th>\n",
       "      <th>smiles</th>\n",
       "    </tr>\n",
       "  </thead>\n",
       "  <tbody>\n",
       "    <tr>\n",
       "      <th>0</th>\n",
       "      <td>5-FU</td>\n",
       "      <td>C1=C(C(=O)NC(=O)N1)F</td>\n",
       "    </tr>\n",
       "    <tr>\n",
       "      <th>1</th>\n",
       "      <td>ABT-888</td>\n",
       "      <td>C[C@@]1(CCCN1)C2=NC3=C(C=CC=C3N2)C(=O)N</td>\n",
       "    </tr>\n",
       "    <tr>\n",
       "      <th>2</th>\n",
       "      <td>AZD1775</td>\n",
       "      <td>CC(C)(C1=NC(=CC=C1)N2C3=NC(=NC=C3C(=O)N2CC=C)N...</td>\n",
       "    </tr>\n",
       "    <tr>\n",
       "      <th>3</th>\n",
       "      <td>BEZ-235</td>\n",
       "      <td>CC(C)(C#N)C1=CC=C(C=C1)N2C3=C4C=C(C=CC4=NC=C3N...</td>\n",
       "    </tr>\n",
       "    <tr>\n",
       "      <th>4</th>\n",
       "      <td>BORTEZOMIB</td>\n",
       "      <td>B([C@H](CC(C)C)NC(=O)[C@H](CC1=CC=CC=C1)NC(=O)...</td>\n",
       "    </tr>\n",
       "  </tbody>\n",
       "</table>\n",
       "</div>"
      ],
      "text/plain": [
       "         drug                                             smiles\n",
       "0        5-FU                               C1=C(C(=O)NC(=O)N1)F\n",
       "1     ABT-888            C[C@@]1(CCCN1)C2=NC3=C(C=CC=C3N2)C(=O)N\n",
       "2     AZD1775  CC(C)(C1=NC(=CC=C1)N2C3=NC(=NC=C3C(=O)N2CC=C)N...\n",
       "3     BEZ-235  CC(C)(C#N)C1=CC=C(C=C1)N2C3=C4C=C(C=CC4=NC=C3N...\n",
       "4  BORTEZOMIB  B([C@H](CC(C)C)NC(=O)[C@H](CC1=CC=CC=C1)NC(=O)..."
      ]
     },
     "execution_count": 116,
     "metadata": {},
     "output_type": "execute_result"
    }
   ],
   "source": [
    "smiles_drug.head()"
   ]
  },
  {
   "cell_type": "code",
   "execution_count": 117,
   "id": "79f6d4bf-2b7b-41de-b73f-6d08da720032",
   "metadata": {},
   "outputs": [
    {
     "data": {
      "text/plain": [
       "(4150, 2)"
      ]
     },
     "execution_count": 117,
     "metadata": {},
     "output_type": "execute_result"
    }
   ],
   "source": [
    "smiles_drug.shape"
   ]
  },
  {
   "cell_type": "code",
   "execution_count": 118,
   "id": "5bdf8235-4713-4339-a69a-b19eea30d005",
   "metadata": {},
   "outputs": [],
   "source": [
    "smiles_drug.dropna(inplace=True)"
   ]
  },
  {
   "cell_type": "code",
   "execution_count": 119,
   "id": "98c47186-06f6-460b-9350-5e1f887d3a0a",
   "metadata": {},
   "outputs": [
    {
     "data": {
      "text/plain": [
       "(4052, 2)"
      ]
     },
     "execution_count": 119,
     "metadata": {},
     "output_type": "execute_result"
    }
   ],
   "source": [
    "smiles_drug.shape"
   ]
  },
  {
   "cell_type": "code",
   "execution_count": 120,
   "id": "642508b3-188c-4995-8288-769bdf62ec8c",
   "metadata": {},
   "outputs": [
    {
     "data": {
      "text/plain": [
       "np.int64(0)"
      ]
     },
     "execution_count": 120,
     "metadata": {},
     "output_type": "execute_result"
    }
   ],
   "source": [
    "smiles_drug.isnull().sum().sum()"
   ]
  },
  {
   "cell_type": "code",
   "execution_count": 121,
   "id": "0604a7db-2f40-456e-b9c1-01a64bd59ab5",
   "metadata": {},
   "outputs": [
    {
     "name": "stderr",
     "output_type": "stream",
     "text": [
      "[20:30:50] SMILES Parse Error: syntax error while parsing: <!DOCTYPE\n",
      "[20:30:50] SMILES Parse Error: check for mistakes around position 1:\n",
      "[20:30:50] <!DOCTYPE\n",
      "[20:30:50] ^\n",
      "[20:30:50] SMILES Parse Error: Failed parsing SMILES '<!DOCTYPE' for input: '<!DOCTYPE'\n"
     ]
    }
   ],
   "source": [
    "\n",
    "radius = 2\n",
    "nBits = 2048\n",
    "\n",
    "morgan_gen = rdFingerprintGenerator.GetMorganGenerator(radius=radius, fpSize=nBits)\n",
    "\n",
    "fps = []\n",
    "\n",
    "for a in smiles_drug['smiles']:\n",
    "    mol = Chem.MolFromSmiles(a)\n",
    "    if mol is not None:\n",
    "        fp = morgan_gen.GetFingerprint(mol)\n",
    "        arr = np.zeros((nBits,), dtype=int)\n",
    "        DataStructs.ConvertToNumpyArray(fp, arr)\n",
    "        fps.append(arr)\n",
    "    else:\n",
    "        fps.append(np.zeros((nBits,), dtype=int))  \n",
    "\n",
    "fp_df_with_smile = pd.DataFrame(fps)\n",
    "fp_df_with_smile = fp_df_with_smile.reset_index(drop=True)\n",
    "smiles_drug = smiles_drug.reset_index(drop=True)\n",
    "fp_df_with_smile['drug'] = smiles_drug['drug']\n"
   ]
  },
  {
   "cell_type": "code",
   "execution_count": 122,
   "id": "c0e6f7e5-947b-48a9-a596-ebd88af6d727",
   "metadata": {},
   "outputs": [
    {
     "data": {
      "text/plain": [
       "np.int64(0)"
      ]
     },
     "execution_count": 122,
     "metadata": {},
     "output_type": "execute_result"
    }
   ],
   "source": [
    "smiles_drug['drug'].isnull().sum().sum()"
   ]
  },
  {
   "cell_type": "code",
   "execution_count": 123,
   "id": "051f24ac-66e6-412e-a1c7-ea70d23d2e80",
   "metadata": {},
   "outputs": [
    {
     "data": {
      "text/plain": [
       "np.int64(0)"
      ]
     },
     "execution_count": 123,
     "metadata": {},
     "output_type": "execute_result"
    }
   ],
   "source": [
    "fp_df_with_smile.isnull().sum().sum()"
   ]
  },
  {
   "cell_type": "code",
   "execution_count": 124,
   "id": "517c666b-d48f-4fca-8b6b-ae2a19ec42e5",
   "metadata": {},
   "outputs": [
    {
     "data": {
      "text/html": [
       "<div>\n",
       "<style scoped>\n",
       "    .dataframe tbody tr th:only-of-type {\n",
       "        vertical-align: middle;\n",
       "    }\n",
       "\n",
       "    .dataframe tbody tr th {\n",
       "        vertical-align: top;\n",
       "    }\n",
       "\n",
       "    .dataframe thead th {\n",
       "        text-align: right;\n",
       "    }\n",
       "</style>\n",
       "<table border=\"1\" class=\"dataframe\">\n",
       "  <thead>\n",
       "    <tr style=\"text-align: right;\">\n",
       "      <th></th>\n",
       "      <th>drug</th>\n",
       "      <th>smiles</th>\n",
       "    </tr>\n",
       "  </thead>\n",
       "  <tbody>\n",
       "    <tr>\n",
       "      <th>1564</th>\n",
       "      <td>PLURISIN #1 (NSC 14613)</td>\n",
       "      <td>&lt;!DOCTYPE html&gt;\\n\\n&lt;html&gt;\\n\\n&lt;head&gt;\\n\\t&lt;meta h...</td>\n",
       "    </tr>\n",
       "  </tbody>\n",
       "</table>\n",
       "</div>"
      ],
      "text/plain": [
       "                         drug  \\\n",
       "1564  PLURISIN #1 (NSC 14613)   \n",
       "\n",
       "                                                 smiles  \n",
       "1564  <!DOCTYPE html>\\n\\n<html>\\n\\n<head>\\n\\t<meta h...  "
      ]
     },
     "execution_count": 124,
     "metadata": {},
     "output_type": "execute_result"
    }
   ],
   "source": [
    "invalid_smiles = smiles_drug[smiles_drug['smiles'].str.contains('<!DOCTYPE', na=False)]\n",
    "invalid_smiles"
   ]
  },
  {
   "cell_type": "code",
   "execution_count": 125,
   "id": "f5e32c3c-4436-46ce-b229-51e8e5d2de8c",
   "metadata": {},
   "outputs": [],
   "source": [
    "smiles_drug = smiles_drug[~smiles_drug['smiles'].str.startswith('<!DOCTYPE', na=False)]"
   ]
  },
  {
   "cell_type": "code",
   "execution_count": 126,
   "id": "cc219c39-138d-4e35-86f4-70b4d3d6fad2",
   "metadata": {},
   "outputs": [
    {
     "data": {
      "text/plain": [
       "(4051, 2)"
      ]
     },
     "execution_count": 126,
     "metadata": {},
     "output_type": "execute_result"
    }
   ],
   "source": [
    "smiles_drug.shape"
   ]
  },
  {
   "cell_type": "code",
   "execution_count": 127,
   "id": "aeb44f53-d618-40ea-93da-5370b4d90723",
   "metadata": {},
   "outputs": [
    {
     "data": {
      "text/plain": [
       "np.int64(0)"
      ]
     },
     "execution_count": 127,
     "metadata": {},
     "output_type": "execute_result"
    }
   ],
   "source": [
    "smiles_drug.isnull().sum().sum()"
   ]
  },
  {
   "cell_type": "code",
   "execution_count": 128,
   "id": "98b30967-ed4d-4fac-8eb7-aad176f87104",
   "metadata": {},
   "outputs": [],
   "source": [
    "\n",
    "radius = 2\n",
    "nBits = 2048\n",
    "\n",
    "morgan_gen = rdFingerprintGenerator.GetMorganGenerator(radius=radius, fpSize=nBits)\n",
    "\n",
    "fps = []\n",
    "\n",
    "for a in smiles_drug['smiles']:\n",
    "    mol = Chem.MolFromSmiles(a)\n",
    "    if mol is not None:\n",
    "        fp = morgan_gen.GetFingerprint(mol)\n",
    "        arr = np.zeros((nBits,), dtype=int)\n",
    "        DataStructs.ConvertToNumpyArray(fp, arr)\n",
    "        fps.append(arr)\n",
    "    else:\n",
    "        fps.append(np.zeros((nBits,), dtype=int))  # fallback for failed SMILES\n",
    "\n",
    "fp_df_with_smile = pd.DataFrame(fps)\n",
    "fp_df_with_smile = fp_df_with_smile.reset_index(drop=True)\n",
    "smiles_drug = smiles_drug.reset_index(drop=True)\n",
    "fp_df_with_smile['drug'] = smiles_drug['drug']\n"
   ]
  },
  {
   "cell_type": "code",
   "execution_count": 129,
   "id": "67921ba1-42a0-47bf-93de-aa931176d857",
   "metadata": {},
   "outputs": [
    {
     "data": {
      "text/html": [
       "<div>\n",
       "<style scoped>\n",
       "    .dataframe tbody tr th:only-of-type {\n",
       "        vertical-align: middle;\n",
       "    }\n",
       "\n",
       "    .dataframe tbody tr th {\n",
       "        vertical-align: top;\n",
       "    }\n",
       "\n",
       "    .dataframe thead th {\n",
       "        text-align: right;\n",
       "    }\n",
       "</style>\n",
       "<table border=\"1\" class=\"dataframe\">\n",
       "  <thead>\n",
       "    <tr style=\"text-align: right;\">\n",
       "      <th></th>\n",
       "      <th>0</th>\n",
       "      <th>1</th>\n",
       "      <th>2</th>\n",
       "      <th>3</th>\n",
       "      <th>4</th>\n",
       "      <th>5</th>\n",
       "      <th>6</th>\n",
       "      <th>7</th>\n",
       "      <th>8</th>\n",
       "      <th>9</th>\n",
       "      <th>...</th>\n",
       "      <th>2039</th>\n",
       "      <th>2040</th>\n",
       "      <th>2041</th>\n",
       "      <th>2042</th>\n",
       "      <th>2043</th>\n",
       "      <th>2044</th>\n",
       "      <th>2045</th>\n",
       "      <th>2046</th>\n",
       "      <th>2047</th>\n",
       "      <th>drug</th>\n",
       "    </tr>\n",
       "  </thead>\n",
       "  <tbody>\n",
       "    <tr>\n",
       "      <th>0</th>\n",
       "      <td>0</td>\n",
       "      <td>0</td>\n",
       "      <td>0</td>\n",
       "      <td>0</td>\n",
       "      <td>0</td>\n",
       "      <td>0</td>\n",
       "      <td>0</td>\n",
       "      <td>0</td>\n",
       "      <td>0</td>\n",
       "      <td>0</td>\n",
       "      <td>...</td>\n",
       "      <td>0</td>\n",
       "      <td>0</td>\n",
       "      <td>0</td>\n",
       "      <td>0</td>\n",
       "      <td>0</td>\n",
       "      <td>0</td>\n",
       "      <td>0</td>\n",
       "      <td>0</td>\n",
       "      <td>0</td>\n",
       "      <td>5-FU</td>\n",
       "    </tr>\n",
       "    <tr>\n",
       "      <th>1</th>\n",
       "      <td>0</td>\n",
       "      <td>0</td>\n",
       "      <td>0</td>\n",
       "      <td>1</td>\n",
       "      <td>0</td>\n",
       "      <td>0</td>\n",
       "      <td>0</td>\n",
       "      <td>0</td>\n",
       "      <td>0</td>\n",
       "      <td>0</td>\n",
       "      <td>...</td>\n",
       "      <td>0</td>\n",
       "      <td>0</td>\n",
       "      <td>0</td>\n",
       "      <td>0</td>\n",
       "      <td>0</td>\n",
       "      <td>0</td>\n",
       "      <td>0</td>\n",
       "      <td>0</td>\n",
       "      <td>0</td>\n",
       "      <td>ABT-888</td>\n",
       "    </tr>\n",
       "    <tr>\n",
       "      <th>2</th>\n",
       "      <td>0</td>\n",
       "      <td>0</td>\n",
       "      <td>0</td>\n",
       "      <td>0</td>\n",
       "      <td>0</td>\n",
       "      <td>0</td>\n",
       "      <td>0</td>\n",
       "      <td>0</td>\n",
       "      <td>0</td>\n",
       "      <td>0</td>\n",
       "      <td>...</td>\n",
       "      <td>0</td>\n",
       "      <td>0</td>\n",
       "      <td>0</td>\n",
       "      <td>0</td>\n",
       "      <td>0</td>\n",
       "      <td>0</td>\n",
       "      <td>0</td>\n",
       "      <td>0</td>\n",
       "      <td>0</td>\n",
       "      <td>AZD1775</td>\n",
       "    </tr>\n",
       "    <tr>\n",
       "      <th>3</th>\n",
       "      <td>0</td>\n",
       "      <td>0</td>\n",
       "      <td>0</td>\n",
       "      <td>0</td>\n",
       "      <td>0</td>\n",
       "      <td>0</td>\n",
       "      <td>0</td>\n",
       "      <td>0</td>\n",
       "      <td>0</td>\n",
       "      <td>0</td>\n",
       "      <td>...</td>\n",
       "      <td>0</td>\n",
       "      <td>0</td>\n",
       "      <td>0</td>\n",
       "      <td>0</td>\n",
       "      <td>0</td>\n",
       "      <td>0</td>\n",
       "      <td>0</td>\n",
       "      <td>0</td>\n",
       "      <td>0</td>\n",
       "      <td>BEZ-235</td>\n",
       "    </tr>\n",
       "    <tr>\n",
       "      <th>4</th>\n",
       "      <td>0</td>\n",
       "      <td>1</td>\n",
       "      <td>0</td>\n",
       "      <td>0</td>\n",
       "      <td>0</td>\n",
       "      <td>0</td>\n",
       "      <td>0</td>\n",
       "      <td>0</td>\n",
       "      <td>0</td>\n",
       "      <td>0</td>\n",
       "      <td>...</td>\n",
       "      <td>0</td>\n",
       "      <td>0</td>\n",
       "      <td>0</td>\n",
       "      <td>0</td>\n",
       "      <td>0</td>\n",
       "      <td>0</td>\n",
       "      <td>0</td>\n",
       "      <td>0</td>\n",
       "      <td>0</td>\n",
       "      <td>BORTEZOMIB</td>\n",
       "    </tr>\n",
       "  </tbody>\n",
       "</table>\n",
       "<p>5 rows × 2049 columns</p>\n",
       "</div>"
      ],
      "text/plain": [
       "   0  1  2  3  4  5  6  7  8  9  ...  2039  2040  2041  2042  2043  2044  \\\n",
       "0  0  0  0  0  0  0  0  0  0  0  ...     0     0     0     0     0     0   \n",
       "1  0  0  0  1  0  0  0  0  0  0  ...     0     0     0     0     0     0   \n",
       "2  0  0  0  0  0  0  0  0  0  0  ...     0     0     0     0     0     0   \n",
       "3  0  0  0  0  0  0  0  0  0  0  ...     0     0     0     0     0     0   \n",
       "4  0  1  0  0  0  0  0  0  0  0  ...     0     0     0     0     0     0   \n",
       "\n",
       "   2045  2046  2047        drug  \n",
       "0     0     0     0        5-FU  \n",
       "1     0     0     0     ABT-888  \n",
       "2     0     0     0     AZD1775  \n",
       "3     0     0     0     BEZ-235  \n",
       "4     0     0     0  BORTEZOMIB  \n",
       "\n",
       "[5 rows x 2049 columns]"
      ]
     },
     "execution_count": 129,
     "metadata": {},
     "output_type": "execute_result"
    }
   ],
   "source": [
    "fp_df_with_smile.head()"
   ]
  },
  {
   "cell_type": "code",
   "execution_count": 130,
   "id": "d0b00e15-183e-458d-b231-47433c6ce1aa",
   "metadata": {},
   "outputs": [],
   "source": [
    "cols = ['drug'] + [col for col in fp_df_with_smile.columns if col != 'drug']\n",
    "fp_df_with_smile = fp_df_with_smile[cols]"
   ]
  },
  {
   "cell_type": "code",
   "execution_count": 131,
   "id": "3dd773cc-6976-476f-a796-2f44b101d7a1",
   "metadata": {},
   "outputs": [
    {
     "data": {
      "text/html": [
       "<div>\n",
       "<style scoped>\n",
       "    .dataframe tbody tr th:only-of-type {\n",
       "        vertical-align: middle;\n",
       "    }\n",
       "\n",
       "    .dataframe tbody tr th {\n",
       "        vertical-align: top;\n",
       "    }\n",
       "\n",
       "    .dataframe thead th {\n",
       "        text-align: right;\n",
       "    }\n",
       "</style>\n",
       "<table border=\"1\" class=\"dataframe\">\n",
       "  <thead>\n",
       "    <tr style=\"text-align: right;\">\n",
       "      <th></th>\n",
       "      <th>drug</th>\n",
       "      <th>0</th>\n",
       "      <th>1</th>\n",
       "      <th>2</th>\n",
       "      <th>3</th>\n",
       "      <th>4</th>\n",
       "      <th>5</th>\n",
       "      <th>6</th>\n",
       "      <th>7</th>\n",
       "      <th>8</th>\n",
       "      <th>...</th>\n",
       "      <th>2038</th>\n",
       "      <th>2039</th>\n",
       "      <th>2040</th>\n",
       "      <th>2041</th>\n",
       "      <th>2042</th>\n",
       "      <th>2043</th>\n",
       "      <th>2044</th>\n",
       "      <th>2045</th>\n",
       "      <th>2046</th>\n",
       "      <th>2047</th>\n",
       "    </tr>\n",
       "  </thead>\n",
       "  <tbody>\n",
       "    <tr>\n",
       "      <th>0</th>\n",
       "      <td>5-FU</td>\n",
       "      <td>0</td>\n",
       "      <td>0</td>\n",
       "      <td>0</td>\n",
       "      <td>0</td>\n",
       "      <td>0</td>\n",
       "      <td>0</td>\n",
       "      <td>0</td>\n",
       "      <td>0</td>\n",
       "      <td>0</td>\n",
       "      <td>...</td>\n",
       "      <td>0</td>\n",
       "      <td>0</td>\n",
       "      <td>0</td>\n",
       "      <td>0</td>\n",
       "      <td>0</td>\n",
       "      <td>0</td>\n",
       "      <td>0</td>\n",
       "      <td>0</td>\n",
       "      <td>0</td>\n",
       "      <td>0</td>\n",
       "    </tr>\n",
       "    <tr>\n",
       "      <th>1</th>\n",
       "      <td>ABT-888</td>\n",
       "      <td>0</td>\n",
       "      <td>0</td>\n",
       "      <td>0</td>\n",
       "      <td>1</td>\n",
       "      <td>0</td>\n",
       "      <td>0</td>\n",
       "      <td>0</td>\n",
       "      <td>0</td>\n",
       "      <td>0</td>\n",
       "      <td>...</td>\n",
       "      <td>0</td>\n",
       "      <td>0</td>\n",
       "      <td>0</td>\n",
       "      <td>0</td>\n",
       "      <td>0</td>\n",
       "      <td>0</td>\n",
       "      <td>0</td>\n",
       "      <td>0</td>\n",
       "      <td>0</td>\n",
       "      <td>0</td>\n",
       "    </tr>\n",
       "    <tr>\n",
       "      <th>2</th>\n",
       "      <td>AZD1775</td>\n",
       "      <td>0</td>\n",
       "      <td>0</td>\n",
       "      <td>0</td>\n",
       "      <td>0</td>\n",
       "      <td>0</td>\n",
       "      <td>0</td>\n",
       "      <td>0</td>\n",
       "      <td>0</td>\n",
       "      <td>0</td>\n",
       "      <td>...</td>\n",
       "      <td>0</td>\n",
       "      <td>0</td>\n",
       "      <td>0</td>\n",
       "      <td>0</td>\n",
       "      <td>0</td>\n",
       "      <td>0</td>\n",
       "      <td>0</td>\n",
       "      <td>0</td>\n",
       "      <td>0</td>\n",
       "      <td>0</td>\n",
       "    </tr>\n",
       "    <tr>\n",
       "      <th>3</th>\n",
       "      <td>BEZ-235</td>\n",
       "      <td>0</td>\n",
       "      <td>0</td>\n",
       "      <td>0</td>\n",
       "      <td>0</td>\n",
       "      <td>0</td>\n",
       "      <td>0</td>\n",
       "      <td>0</td>\n",
       "      <td>0</td>\n",
       "      <td>0</td>\n",
       "      <td>...</td>\n",
       "      <td>0</td>\n",
       "      <td>0</td>\n",
       "      <td>0</td>\n",
       "      <td>0</td>\n",
       "      <td>0</td>\n",
       "      <td>0</td>\n",
       "      <td>0</td>\n",
       "      <td>0</td>\n",
       "      <td>0</td>\n",
       "      <td>0</td>\n",
       "    </tr>\n",
       "    <tr>\n",
       "      <th>4</th>\n",
       "      <td>BORTEZOMIB</td>\n",
       "      <td>0</td>\n",
       "      <td>1</td>\n",
       "      <td>0</td>\n",
       "      <td>0</td>\n",
       "      <td>0</td>\n",
       "      <td>0</td>\n",
       "      <td>0</td>\n",
       "      <td>0</td>\n",
       "      <td>0</td>\n",
       "      <td>...</td>\n",
       "      <td>0</td>\n",
       "      <td>0</td>\n",
       "      <td>0</td>\n",
       "      <td>0</td>\n",
       "      <td>0</td>\n",
       "      <td>0</td>\n",
       "      <td>0</td>\n",
       "      <td>0</td>\n",
       "      <td>0</td>\n",
       "      <td>0</td>\n",
       "    </tr>\n",
       "  </tbody>\n",
       "</table>\n",
       "<p>5 rows × 2049 columns</p>\n",
       "</div>"
      ],
      "text/plain": [
       "         drug  0  1  2  3  4  5  6  7  8  ...  2038  2039  2040  2041  2042  \\\n",
       "0        5-FU  0  0  0  0  0  0  0  0  0  ...     0     0     0     0     0   \n",
       "1     ABT-888  0  0  0  1  0  0  0  0  0  ...     0     0     0     0     0   \n",
       "2     AZD1775  0  0  0  0  0  0  0  0  0  ...     0     0     0     0     0   \n",
       "3     BEZ-235  0  0  0  0  0  0  0  0  0  ...     0     0     0     0     0   \n",
       "4  BORTEZOMIB  0  1  0  0  0  0  0  0  0  ...     0     0     0     0     0   \n",
       "\n",
       "   2043  2044  2045  2046  2047  \n",
       "0     0     0     0     0     0  \n",
       "1     0     0     0     0     0  \n",
       "2     0     0     0     0     0  \n",
       "3     0     0     0     0     0  \n",
       "4     0     0     0     0     0  \n",
       "\n",
       "[5 rows x 2049 columns]"
      ]
     },
     "execution_count": 131,
     "metadata": {},
     "output_type": "execute_result"
    }
   ],
   "source": [
    "fp_df_with_smile.head()"
   ]
  },
  {
   "cell_type": "code",
   "execution_count": 132,
   "id": "eb7b43bf-2286-4326-93df-cf53964321f1",
   "metadata": {},
   "outputs": [
    {
     "data": {
      "text/plain": [
       "np.int64(0)"
      ]
     },
     "execution_count": 132,
     "metadata": {},
     "output_type": "execute_result"
    }
   ],
   "source": [
    "fp_df_with_smile.isnull().sum().sum()"
   ]
  },
  {
   "cell_type": "code",
   "execution_count": 133,
   "id": "78af73d4-b9e4-4b16-8fd5-dadd107fd7dc",
   "metadata": {},
   "outputs": [
    {
     "data": {
      "text/plain": [
       "4051"
      ]
     },
     "execution_count": 133,
     "metadata": {},
     "output_type": "execute_result"
    }
   ],
   "source": [
    "fp_df_with_smile.drug.nunique()"
   ]
  },
  {
   "cell_type": "code",
   "execution_count": 134,
   "id": "7bd3862f-eb90-44d8-acfd-b467e1fd4a4b",
   "metadata": {},
   "outputs": [],
   "source": [
    "fp_df_with_smile.to_csv(\"drug_feature.csv\")"
   ]
  },
  {
   "cell_type": "code",
   "execution_count": null,
   "id": "992b6410-e819-4ac7-b08b-6ab9d572fd83",
   "metadata": {},
   "outputs": [],
   "source": []
  }
 ],
 "metadata": {
  "kernelspec": {
   "display_name": "Python 3 (ipykernel)",
   "language": "python",
   "name": "python3"
  },
  "language_info": {
   "codemirror_mode": {
    "name": "ipython",
    "version": 3
   },
   "file_extension": ".py",
   "mimetype": "text/x-python",
   "name": "python",
   "nbconvert_exporter": "python",
   "pygments_lexer": "ipython3",
   "version": "3.13.3"
  }
 },
 "nbformat": 4,
 "nbformat_minor": 5
}
