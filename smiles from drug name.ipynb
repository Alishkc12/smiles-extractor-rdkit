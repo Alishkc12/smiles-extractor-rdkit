{
 "cells": [
  {
   "cell_type": "markdown",
   "id": "46f85fac-7f7d-4f70-bc50-becb6f4cb543",
   "metadata": {},
   "source": [
    " ### Smiles Retrieval Using PubChem API\n"
   ]
  },
  {
   "cell_type": "code",
   "execution_count": 3,
   "id": "77c5a7c5-9376-44be-ba0b-6ac9bc1d4afa",
   "metadata": {},
   "outputs": [],
   "source": [
    "import pandas as pd\n",
    "import pubchempy as pcp\n",
    "from tqdm import tqdm\n",
    "import numpy as np"
   ]
  },
  {
   "cell_type": "markdown",
   "id": "f79d81a8-de0c-48e6-b125-817231d6d1a2",
   "metadata": {},
   "source": [
    "##### Load DrugComb Dataset"
   ]
  },
  {
   "cell_type": "code",
   "execution_count": 4,
   "id": "16a1a977-485d-4b79-8686-56b1ad8ae9d2",
   "metadata": {},
   "outputs": [],
   "source": [
    "drug_comb=pd.read_csv(\"drug_interaction_drugcomb.csv\",low_memory=False)"
   ]
  },
  {
   "cell_type": "code",
   "execution_count": 5,
   "id": "6b4faf0d-bcd7-4bd1-92be-e239e2d4ed27",
   "metadata": {},
   "outputs": [
    {
     "data": {
      "text/html": [
       "<div>\n",
       "<style scoped>\n",
       "    .dataframe tbody tr th:only-of-type {\n",
       "        vertical-align: middle;\n",
       "    }\n",
       "\n",
       "    .dataframe tbody tr th {\n",
       "        vertical-align: top;\n",
       "    }\n",
       "\n",
       "    .dataframe thead th {\n",
       "        text-align: right;\n",
       "    }\n",
       "</style>\n",
       "<table border=\"1\" class=\"dataframe\">\n",
       "  <thead>\n",
       "    <tr style=\"text-align: right;\">\n",
       "      <th></th>\n",
       "      <th>block_id</th>\n",
       "      <th>drug_row</th>\n",
       "      <th>drug_col</th>\n",
       "      <th>cell_line_name</th>\n",
       "      <th>conc_r_unit</th>\n",
       "      <th>conc_c_unit</th>\n",
       "      <th>css</th>\n",
       "      <th>synergy_zip</th>\n",
       "      <th>synergy_bliss</th>\n",
       "      <th>synergy_loewe</th>\n",
       "      <th>synergy_hsa</th>\n",
       "      <th>ic50_row</th>\n",
       "      <th>ic50_col</th>\n",
       "      <th>ri_row</th>\n",
       "      <th>ri_col</th>\n",
       "      <th>css_row</th>\n",
       "      <th>css_col</th>\n",
       "      <th>S</th>\n",
       "    </tr>\n",
       "  </thead>\n",
       "  <tbody>\n",
       "    <tr>\n",
       "      <th>0</th>\n",
       "      <td>1</td>\n",
       "      <td>5-FU</td>\n",
       "      <td>ABT-888</td>\n",
       "      <td>A2058</td>\n",
       "      <td>uM</td>\n",
       "      <td>uM</td>\n",
       "      <td>30.869</td>\n",
       "      <td>3.865915</td>\n",
       "      <td>6.256584</td>\n",
       "      <td>-2.951386</td>\n",
       "      <td>5.536903</td>\n",
       "      <td>5.126836</td>\n",
       "      <td>3.267734</td>\n",
       "      <td>11.471</td>\n",
       "      <td>-0.441</td>\n",
       "      <td>22.545</td>\n",
       "      <td>39.193</td>\n",
       "      <td>19.839</td>\n",
       "    </tr>\n",
       "    <tr>\n",
       "      <th>1</th>\n",
       "      <td>2</td>\n",
       "      <td>5-FU</td>\n",
       "      <td>ABT-888</td>\n",
       "      <td>A2058</td>\n",
       "      <td>uM</td>\n",
       "      <td>uM</td>\n",
       "      <td>27.460</td>\n",
       "      <td>8.247403</td>\n",
       "      <td>12.333896</td>\n",
       "      <td>3.125927</td>\n",
       "      <td>11.614215</td>\n",
       "      <td>5.126836</td>\n",
       "      <td>3.267734</td>\n",
       "      <td>11.471</td>\n",
       "      <td>-0.441</td>\n",
       "      <td>24.135</td>\n",
       "      <td>30.785</td>\n",
       "      <td>16.430</td>\n",
       "    </tr>\n",
       "    <tr>\n",
       "      <th>2</th>\n",
       "      <td>3</td>\n",
       "      <td>5-FU</td>\n",
       "      <td>ABT-888</td>\n",
       "      <td>A2058</td>\n",
       "      <td>uM</td>\n",
       "      <td>uM</td>\n",
       "      <td>29.901</td>\n",
       "      <td>6.063440</td>\n",
       "      <td>11.660209</td>\n",
       "      <td>2.452239</td>\n",
       "      <td>10.940528</td>\n",
       "      <td>5.126836</td>\n",
       "      <td>3.267734</td>\n",
       "      <td>11.471</td>\n",
       "      <td>-0.441</td>\n",
       "      <td>25.561</td>\n",
       "      <td>34.241</td>\n",
       "      <td>18.871</td>\n",
       "    </tr>\n",
       "    <tr>\n",
       "      <th>3</th>\n",
       "      <td>4</td>\n",
       "      <td>5-FU</td>\n",
       "      <td>ABT-888</td>\n",
       "      <td>A2058</td>\n",
       "      <td>uM</td>\n",
       "      <td>uM</td>\n",
       "      <td>24.016</td>\n",
       "      <td>-4.280231</td>\n",
       "      <td>5.145209</td>\n",
       "      <td>-4.062761</td>\n",
       "      <td>4.425528</td>\n",
       "      <td>5.126836</td>\n",
       "      <td>3.267734</td>\n",
       "      <td>11.471</td>\n",
       "      <td>-0.441</td>\n",
       "      <td>16.661</td>\n",
       "      <td>31.371</td>\n",
       "      <td>12.986</td>\n",
       "    </tr>\n",
       "    <tr>\n",
       "      <th>4</th>\n",
       "      <td>5</td>\n",
       "      <td>5-FU</td>\n",
       "      <td>AZD1775</td>\n",
       "      <td>A2058</td>\n",
       "      <td>uM</td>\n",
       "      <td>uM</td>\n",
       "      <td>66.847</td>\n",
       "      <td>12.284698</td>\n",
       "      <td>15.765467</td>\n",
       "      <td>10.409407</td>\n",
       "      <td>18.656340</td>\n",
       "      <td>5.126836</td>\n",
       "      <td>0.266027</td>\n",
       "      <td>11.471</td>\n",
       "      <td>25.164</td>\n",
       "      <td>76.501</td>\n",
       "      <td>57.193</td>\n",
       "      <td>30.212</td>\n",
       "    </tr>\n",
       "  </tbody>\n",
       "</table>\n",
       "</div>"
      ],
      "text/plain": [
       "   block_id drug_row drug_col cell_line_name conc_r_unit conc_c_unit     css  \\\n",
       "0         1     5-FU  ABT-888          A2058          uM          uM  30.869   \n",
       "1         2     5-FU  ABT-888          A2058          uM          uM  27.460   \n",
       "2         3     5-FU  ABT-888          A2058          uM          uM  29.901   \n",
       "3         4     5-FU  ABT-888          A2058          uM          uM  24.016   \n",
       "4         5     5-FU  AZD1775          A2058          uM          uM  66.847   \n",
       "\n",
       "   synergy_zip  synergy_bliss  synergy_loewe  synergy_hsa  ic50_row  ic50_col  \\\n",
       "0     3.865915       6.256584      -2.951386     5.536903  5.126836  3.267734   \n",
       "1     8.247403      12.333896       3.125927    11.614215  5.126836  3.267734   \n",
       "2     6.063440      11.660209       2.452239    10.940528  5.126836  3.267734   \n",
       "3    -4.280231       5.145209      -4.062761     4.425528  5.126836  3.267734   \n",
       "4    12.284698      15.765467      10.409407    18.656340  5.126836  0.266027   \n",
       "\n",
       "   ri_row  ri_col  css_row  css_col       S  \n",
       "0  11.471  -0.441   22.545   39.193  19.839  \n",
       "1  11.471  -0.441   24.135   30.785  16.430  \n",
       "2  11.471  -0.441   25.561   34.241  18.871  \n",
       "3  11.471  -0.441   16.661   31.371  12.986  \n",
       "4  11.471  25.164   76.501   57.193  30.212  "
      ]
     },
     "execution_count": 5,
     "metadata": {},
     "output_type": "execute_result"
    }
   ],
   "source": [
    "drug_comb.head()"
   ]
  },
  {
   "cell_type": "code",
   "execution_count": 6,
   "id": "d06a370c-6e30-467c-8e7a-48cadb4fe728",
   "metadata": {},
   "outputs": [
    {
     "data": {
      "text/plain": [
       "(1048575, 18)"
      ]
     },
     "execution_count": 6,
     "metadata": {},
     "output_type": "execute_result"
    }
   ],
   "source": [
    "drug_comb.shape"
   ]
  },
  {
   "cell_type": "code",
   "execution_count": 7,
   "id": "68bf501e-2257-4ab2-8d9c-d0c112b09356",
   "metadata": {},
   "outputs": [
    {
     "data": {
      "text/plain": [
       "np.int64(0)"
      ]
     },
     "execution_count": 7,
     "metadata": {},
     "output_type": "execute_result"
    }
   ],
   "source": [
    "drug_comb['drug_row'].isna().sum()  #Counts the number of missing (NaN) values in the 'drug_row' column "
   ]
  },
  {
   "cell_type": "code",
   "execution_count": 8,
   "id": "30a85c69-40b2-410f-b318-01453628027a",
   "metadata": {},
   "outputs": [
    {
     "data": {
      "text/plain": [
       "np.int64(582542)"
      ]
     },
     "execution_count": 8,
     "metadata": {},
     "output_type": "execute_result"
    }
   ],
   "source": [
    "drug_comb['drug_col'].isna().sum()  #Counts the number of missing (NaN) values in the 'drug_col' column "
   ]
  },
  {
   "cell_type": "markdown",
   "id": "19d63d5e-8b7b-4551-92b9-310c905a35e2",
   "metadata": {},
   "source": [
    "##### Missing drug names in the drug_col column were not imputed, as such data is considered sensitive and unsuitable for imputation. Instead, rows containing missing values in drug_col were removed to ensure the integrity of downstream processing.\n"
   ]
  },
  {
   "cell_type": "code",
   "execution_count": 9,
   "id": "7d01cb15-ef49-4d72-b042-4de0dd906deb",
   "metadata": {},
   "outputs": [],
   "source": [
    "drug_comb = drug_comb.dropna(subset='drug_col')  # Drops all rows from the DataFrame where the 'drug_col' entry is missing (NaN)"
   ]
  },
  {
   "cell_type": "code",
   "execution_count": 10,
   "id": "cfdda121-c137-483b-83e6-ceca826117f9",
   "metadata": {},
   "outputs": [
    {
     "data": {
      "text/plain": [
       "np.int64(0)"
      ]
     },
     "execution_count": 10,
     "metadata": {},
     "output_type": "execute_result"
    }
   ],
   "source": [
    "drug_comb['drug_col'].isna().sum()"
   ]
  },
  {
   "cell_type": "code",
   "execution_count": 13,
   "id": "053f0414-937b-4b12-a462-141e0005ef72",
   "metadata": {},
   "outputs": [
    {
     "name": "stdout",
     "output_type": "stream",
     "text": [
      "total number of drug involved in interaciton dataset 4150\n"
     ]
    }
   ],
   "source": [
    "a=len(np.unique(np.concatenate([drug_comb.drug_row.unique(),drug_comb.drug_col.unique()])))\n",
    "print(f\"total number of drug involved in interaciton dataset {a}\")"
   ]
  },
  {
   "cell_type": "code",
   "execution_count": 14,
   "id": "5cd4972b-bc2b-4316-8863-bbb454660af8",
   "metadata": {},
   "outputs": [
    {
     "data": {
      "text/plain": [
       "(466033, 18)"
      ]
     },
     "execution_count": 14,
     "metadata": {},
     "output_type": "execute_result"
    }
   ],
   "source": [
    "drug_comb.shape"
   ]
  },
  {
   "cell_type": "code",
   "execution_count": 18,
   "id": "5fc1820d-8c88-48a9-a7f4-206003367b64",
   "metadata": {},
   "outputs": [
    {
     "data": {
      "text/html": [
       "<div>\n",
       "<style scoped>\n",
       "    .dataframe tbody tr th:only-of-type {\n",
       "        vertical-align: middle;\n",
       "    }\n",
       "\n",
       "    .dataframe tbody tr th {\n",
       "        vertical-align: top;\n",
       "    }\n",
       "\n",
       "    .dataframe thead th {\n",
       "        text-align: right;\n",
       "    }\n",
       "</style>\n",
       "<table border=\"1\" class=\"dataframe\">\n",
       "  <thead>\n",
       "    <tr style=\"text-align: right;\">\n",
       "      <th></th>\n",
       "      <th>block_id</th>\n",
       "      <th>drug_row</th>\n",
       "      <th>drug_col</th>\n",
       "      <th>cell_line_name</th>\n",
       "      <th>conc_r_unit</th>\n",
       "      <th>conc_c_unit</th>\n",
       "      <th>css</th>\n",
       "      <th>synergy_zip</th>\n",
       "      <th>synergy_bliss</th>\n",
       "      <th>synergy_loewe</th>\n",
       "      <th>synergy_hsa</th>\n",
       "      <th>ic50_row</th>\n",
       "      <th>ic50_col</th>\n",
       "      <th>ri_row</th>\n",
       "      <th>ri_col</th>\n",
       "      <th>css_row</th>\n",
       "      <th>css_col</th>\n",
       "      <th>S</th>\n",
       "    </tr>\n",
       "  </thead>\n",
       "  <tbody>\n",
       "  </tbody>\n",
       "</table>\n",
       "</div>"
      ],
      "text/plain": [
       "Empty DataFrame\n",
       "Columns: [block_id, drug_row, drug_col, cell_line_name, conc_r_unit, conc_c_unit, css, synergy_zip, synergy_bliss, synergy_loewe, synergy_hsa, ic50_row, ic50_col, ri_row, ri_col, css_row, css_col, S]\n",
       "Index: []"
      ]
     },
     "execution_count": 18,
     "metadata": {},
     "output_type": "execute_result"
    }
   ],
   "source": [
    "drug_comb[drug_comb['drug_row'].isna() | drug_comb['drug_col'].isna()] # Selects all rows from drug_comb where either 'drug_row' or 'drug_col' has missing (NaN) values"
   ]
  },
  {
   "cell_type": "markdown",
   "id": "49a76fb0-6dcc-4d47-b456-2926ce325ebf",
   "metadata": {},
   "source": [
    "##### The distinct drug names are compiled into a new DataFrame called drug_df to facilitate further analysis, such as retrieving SMILES strings"
   ]
  },
  {
   "cell_type": "code",
   "execution_count": 17,
   "id": "779bfc0d-06c6-4232-ba75-0746f5491b93",
   "metadata": {},
   "outputs": [
    {
     "data": {
      "text/html": [
       "<div>\n",
       "<style scoped>\n",
       "    .dataframe tbody tr th:only-of-type {\n",
       "        vertical-align: middle;\n",
       "    }\n",
       "\n",
       "    .dataframe tbody tr th {\n",
       "        vertical-align: top;\n",
       "    }\n",
       "\n",
       "    .dataframe thead th {\n",
       "        text-align: right;\n",
       "    }\n",
       "</style>\n",
       "<table border=\"1\" class=\"dataframe\">\n",
       "  <thead>\n",
       "    <tr style=\"text-align: right;\">\n",
       "      <th></th>\n",
       "      <th>drug</th>\n",
       "    </tr>\n",
       "  </thead>\n",
       "  <tbody>\n",
       "    <tr>\n",
       "      <th>0</th>\n",
       "      <td>5-FU</td>\n",
       "    </tr>\n",
       "    <tr>\n",
       "      <th>1</th>\n",
       "      <td>ABT-888</td>\n",
       "    </tr>\n",
       "    <tr>\n",
       "      <th>2</th>\n",
       "      <td>AZD1775</td>\n",
       "    </tr>\n",
       "    <tr>\n",
       "      <th>3</th>\n",
       "      <td>BEZ-235</td>\n",
       "    </tr>\n",
       "    <tr>\n",
       "      <th>4</th>\n",
       "      <td>BORTEZOMIB</td>\n",
       "    </tr>\n",
       "  </tbody>\n",
       "</table>\n",
       "</div>"
      ],
      "text/plain": [
       "         drug\n",
       "0        5-FU\n",
       "1     ABT-888\n",
       "2     AZD1775\n",
       "3     BEZ-235\n",
       "4  BORTEZOMIB"
      ]
     },
     "execution_count": 17,
     "metadata": {},
     "output_type": "execute_result"
    }
   ],
   "source": [
    "unique_drugs = pd.unique(drug_comb[['drug_row', 'drug_col']].values.ravel())\n",
    "drug_df = pd.DataFrame(unique_drugs, columns=['drug'])\n",
    "drug_df.head()"
   ]
  },
  {
   "cell_type": "code",
   "execution_count": 18,
   "id": "c9cb8b89-7c71-4fd6-886b-25929e04a148",
   "metadata": {},
   "outputs": [
    {
     "data": {
      "text/plain": [
       "(4150, 1)"
      ]
     },
     "execution_count": 18,
     "metadata": {},
     "output_type": "execute_result"
    }
   ],
   "source": [
    "drug_df.shape"
   ]
  },
  {
   "cell_type": "markdown",
   "id": "21e3ca64-5328-4017-be7b-0f7347b0ff88",
   "metadata": {},
   "source": [
    "##### Fetching SMILES Strings from PubChem by Drug Name"
   ]
  },
  {
   "cell_type": "code",
   "execution_count": 20,
   "id": "5ea0bf15-e131-4c54-9120-2ac15cba5774",
   "metadata": {},
   "outputs": [],
   "source": [
    "import requests\n",
    "\n",
    "failed_names = []\n",
    "\n",
    "def get_smiles_from_name(name):\n",
    "    url = f'https://pubchem.ncbi.nlm.nih.gov/rest/pug/compound/name/{name}/property/IsomericSMILES/TXT'\n",
    "    try:\n",
    "        response = requests.get(url, timeout=10)\n",
    "        response.raise_for_status()\n",
    "        return response.text.strip()\n",
    "    except Exception as e:\n",
    "        print(f\"Error retrieving SMILES for {name}: {e}\")\n",
    "        failed_names.append(name)\n",
    "        return None\n"
   ]
  },
  {
   "cell_type": "markdown",
   "id": "cf2603e8-8b8f-40ae-96ef-277368277769",
   "metadata": {},
   "source": [
    "##### Adding a new 'smiles' column to drug_df by applying the get_smiles_from_name function to each drug name, fetching its SMILES string from PubChem"
   ]
  },
  {
   "cell_type": "code",
   "execution_count": 21,
   "id": "6c9a34fa-42bc-483c-b9ee-a618817f5778",
   "metadata": {},
   "outputs": [
    {
     "name": "stderr",
     "output_type": "stream",
     "text": [
      "  2%|█▌                                                                              | 81/4150 [01:13<58:54,  1.15it/s]"
     ]
    },
    {
     "name": "stdout",
     "output_type": "stream",
     "text": [
      "Error retrieving SMILES for (+/-)-SULFINPYRAZONE: 404 Client Error: PUGREST.NotFound for url: https://pubchem.ncbi.nlm.nih.gov/rest/pug/compound/name/(+/-)-SULFINPYRAZONE/property/IsomericSMILES/TXT\n"
     ]
    },
    {
     "name": "stderr",
     "output_type": "stream",
     "text": [
      " 10%|███████▌                                                                       | 395/4150 [06:03<55:53,  1.12it/s]"
     ]
    },
    {
     "name": "stdout",
     "output_type": "stream",
     "text": [
      "Error retrieving SMILES for (6-)E-<U+200B>AMINOCAPROIC ACID: 404 Client Error: PUGREST.NotFound for url: https://pubchem.ncbi.nlm.nih.gov/rest/pug/compound/name/(6-)E-%3CU+200B%3EAMINOCAPROIC%20ACID/property/IsomericSMILES/TXT\n"
     ]
    },
    {
     "name": "stderr",
     "output_type": "stream",
     "text": [
      " 14%|███████████                                                                    | 584/4150 [08:56<54:35,  1.09it/s]"
     ]
    },
    {
     "name": "stdout",
     "output_type": "stream",
     "text": [
      "Error retrieving SMILES for BACITRACIN: 404 Client Error: PUGREST.NotFound for url: https://pubchem.ncbi.nlm.nih.gov/rest/pug/compound/name/BACITRACIN/property/IsomericSMILES/TXT\n"
     ]
    },
    {
     "name": "stderr",
     "output_type": "stream",
     "text": [
      " 21%|████████████████▍                                                              | 864/4150 [13:11<48:41,  1.12it/s]"
     ]
    },
    {
     "name": "stdout",
     "output_type": "stream",
     "text": [
      "Error retrieving SMILES for DEXTROSE: 404 Client Error: PUGREST.NotFound for url: https://pubchem.ncbi.nlm.nih.gov/rest/pug/compound/name/DEXTROSE/property/IsomericSMILES/TXT\n"
     ]
    },
    {
     "name": "stderr",
     "output_type": "stream",
     "text": [
      " 27%|████████████████████▊                                                         | 1108/4150 [16:51<45:30,  1.11it/s]"
     ]
    },
    {
     "name": "stdout",
     "output_type": "stream",
     "text": [
      "Error retrieving SMILES for GYNOSTEMMA EXTRACT: 404 Client Error: PUGREST.NotFound for url: https://pubchem.ncbi.nlm.nih.gov/rest/pug/compound/name/GYNOSTEMMA%20EXTRACT/property/IsomericSMILES/TXT\n"
     ]
    },
    {
     "name": "stderr",
     "output_type": "stream",
     "text": [
      " 32%|████████████████████████▋                                                     | 1315/4150 [19:58<41:17,  1.14it/s]"
     ]
    },
    {
     "name": "stdout",
     "output_type": "stream",
     "text": [
      "Error retrieving SMILES for METHYL-HESPERIDIN: 404 Client Error: PUGREST.NotFound for url: https://pubchem.ncbi.nlm.nih.gov/rest/pug/compound/name/METHYL-HESPERIDIN/property/IsomericSMILES/TXT\n"
     ]
    },
    {
     "name": "stderr",
     "output_type": "stream",
     "text": [
      " 37%|████████████████████████████▍                                               | 1550/4150 [23:33<1:00:51,  1.40s/it]"
     ]
    },
    {
     "name": "stdout",
     "output_type": "stream",
     "text": [
      "Error retrieving SMILES for PIFITHRIN-A (PFTA): 404 Client Error: PUGREST.NotFound for url: https://pubchem.ncbi.nlm.nih.gov/rest/pug/compound/name/PIFITHRIN-A%20(PFTA)/property/IsomericSMILES/TXT\n"
     ]
    },
    {
     "name": "stderr",
     "output_type": "stream",
     "text": [
      " 38%|█████████████████████████████▌                                                | 1570/4150 [23:53<37:53,  1.13it/s]"
     ]
    },
    {
     "name": "stdout",
     "output_type": "stream",
     "text": [
      "Error retrieving SMILES for PLURISIN #1 (NSC 14613): 400 Client Error: PUGREST.BadRequest for url: https://pubchem.ncbi.nlm.nih.gov/rest/pug/compound/name/PLURISIN%20#1%20(NSC%2014613)/property/IsomericSMILES/TXT\n"
     ]
    },
    {
     "name": "stderr",
     "output_type": "stream",
     "text": [
      " 38%|█████████████████████████████▌                                                | 1574/4150 [23:56<37:45,  1.14it/s]"
     ]
    },
    {
     "name": "stdout",
     "output_type": "stream",
     "text": [
      "Error retrieving SMILES for POLYDATIN: 404 Client Error: PUGREST.NotFound for url: https://pubchem.ncbi.nlm.nih.gov/rest/pug/compound/name/POLYDATIN/property/IsomericSMILES/TXT\n"
     ]
    },
    {
     "name": "stderr",
     "output_type": "stream",
     "text": [
      " 45%|██████████████████████████████████▊                                           | 1854/4150 [28:07<33:43,  1.13it/s]"
     ]
    },
    {
     "name": "stdout",
     "output_type": "stream",
     "text": [
      "Error retrieving SMILES for TETRAETHYLENEPENTAMINE 5HCL: 404 Client Error: PUGREST.NotFound for url: https://pubchem.ncbi.nlm.nih.gov/rest/pug/compound/name/TETRAETHYLENEPENTAMINE%205HCL/property/IsomericSMILES/TXT\n"
     ]
    },
    {
     "name": "stderr",
     "output_type": "stream",
     "text": [
      " 50%|███████████████████████████████████████▎                                      | 2093/4150 [31:43<30:30,  1.12it/s]"
     ]
    },
    {
     "name": "stdout",
     "output_type": "stream",
     "text": [
      "Error retrieving SMILES for Triciribinephosphate: 404 Client Error: PUGREST.NotFound for url: https://pubchem.ncbi.nlm.nih.gov/rest/pug/compound/name/Triciribinephosphate/property/IsomericSMILES/TXT\n"
     ]
    },
    {
     "name": "stderr",
     "output_type": "stream",
     "text": [
      " 52%|████████████████████████████████████████▎                                     | 2143/4150 [32:29<29:59,  1.12it/s]"
     ]
    },
    {
     "name": "stdout",
     "output_type": "stream",
     "text": [
      "Error retrieving SMILES for ONO-4059 analog: 404 Client Error: PUGREST.NotFound for url: https://pubchem.ncbi.nlm.nih.gov/rest/pug/compound/name/ONO-4059%20analog/property/IsomericSMILES/TXT\n"
     ]
    },
    {
     "name": "stderr",
     "output_type": "stream",
     "text": [
      " 52%|████████████████████████████████████████▊                                     | 2171/4150 [32:54<29:43,  1.11it/s]"
     ]
    },
    {
     "name": "stdout",
     "output_type": "stream",
     "text": [
      "Error retrieving SMILES for Cdk/Crk Inhibitor: 404 Client Error: PUGREST.NotFound for url: https://pubchem.ncbi.nlm.nih.gov/rest/pug/compound/name/Cdk/Crk%20Inhibitor/property/IsomericSMILES/TXT\n"
     ]
    },
    {
     "name": "stderr",
     "output_type": "stream",
     "text": [
      " 57%|████████████████████████████████████████████▋                                 | 2375/4150 [36:02<26:51,  1.10it/s]"
     ]
    },
    {
     "name": "stdout",
     "output_type": "stream",
     "text": [
      "Error retrieving SMILES for 3',4'-Diacetylafzelin: 404 Client Error: PUGREST.NotFound for url: https://pubchem.ncbi.nlm.nih.gov/rest/pug/compound/name/3',4'-Diacetylafzelin/property/IsomericSMILES/TXT\n"
     ]
    },
    {
     "name": "stderr",
     "output_type": "stream",
     "text": [
      " 57%|████████████████████████████████████████████▋                                 | 2379/4150 [36:05<25:49,  1.14it/s]"
     ]
    },
    {
     "name": "stdout",
     "output_type": "stream",
     "text": [
      "Error retrieving SMILES for SUDAHWBOROXANE-UHFFFAOYSA-N: 404 Client Error: PUGREST.NotFound for url: https://pubchem.ncbi.nlm.nih.gov/rest/pug/compound/name/SUDAHWBOROXANE-UHFFFAOYSA-N/property/IsomericSMILES/TXT\n"
     ]
    },
    {
     "name": "stderr",
     "output_type": "stream",
     "text": [
      " 58%|████████████████████████████████████████████▉                                 | 2391/4150 [36:16<25:54,  1.13it/s]"
     ]
    },
    {
     "name": "stdout",
     "output_type": "stream",
     "text": [
      "Error retrieving SMILES for ERK 11e: 404 Client Error: PUGREST.NotFound for url: https://pubchem.ncbi.nlm.nih.gov/rest/pug/compound/name/ERK%2011e/property/IsomericSMILES/TXT\n"
     ]
    },
    {
     "name": "stderr",
     "output_type": "stream",
     "text": [
      " 58%|█████████████████████████████████████████████▎                                | 2412/4150 [36:35<25:58,  1.12it/s]"
     ]
    },
    {
     "name": "stdout",
     "output_type": "stream",
     "text": [
      "Error retrieving SMILES for AGN-PC-0MU5N5: 404 Client Error: PUGREST.NotFound for url: https://pubchem.ncbi.nlm.nih.gov/rest/pug/compound/name/AGN-PC-0MU5N5/property/IsomericSMILES/TXT\n"
     ]
    },
    {
     "name": "stderr",
     "output_type": "stream",
     "text": [
      " 61%|███████████████████████████████████████████████▉                              | 2550/4150 [38:42<24:23,  1.09it/s]"
     ]
    },
    {
     "name": "stdout",
     "output_type": "stream",
     "text": [
      "Error retrieving SMILES for ZINC18182079: 404 Client Error: PUGREST.NotFound for url: https://pubchem.ncbi.nlm.nih.gov/rest/pug/compound/name/ZINC18182079/property/IsomericSMILES/TXT\n"
     ]
    },
    {
     "name": "stderr",
     "output_type": "stream",
     "text": [
      " 63%|█████████████████████████████████████████████████▏                            | 2619/4150 [39:45<22:26,  1.14it/s]"
     ]
    },
    {
     "name": "stdout",
     "output_type": "stream",
     "text": [
      "Error retrieving SMILES for AK176003: 404 Client Error: PUGREST.NotFound for url: https://pubchem.ncbi.nlm.nih.gov/rest/pug/compound/name/AK176003/property/IsomericSMILES/TXT\n"
     ]
    },
    {
     "name": "stderr",
     "output_type": "stream",
     "text": [
      " 66%|███████████████████████████████████████████████████▊                          | 2759/4150 [41:53<20:14,  1.15it/s]"
     ]
    },
    {
     "name": "stdout",
     "output_type": "stream",
     "text": [
      "Error retrieving SMILES for ZINC21999985: 404 Client Error: PUGREST.NotFound for url: https://pubchem.ncbi.nlm.nih.gov/rest/pug/compound/name/ZINC21999985/property/IsomericSMILES/TXT\n"
     ]
    },
    {
     "name": "stderr",
     "output_type": "stream",
     "text": [
      " 67%|████████████████████████████████████████████████████                          | 2773/4150 [42:06<20:15,  1.13it/s]"
     ]
    },
    {
     "name": "stdout",
     "output_type": "stream",
     "text": [
      "Error retrieving SMILES for DSSTox_CID_31408: 404 Client Error: PUGREST.NotFound for url: https://pubchem.ncbi.nlm.nih.gov/rest/pug/compound/name/DSSTox_CID_31408/property/IsomericSMILES/TXT\n"
     ]
    },
    {
     "name": "stderr",
     "output_type": "stream",
     "text": [
      " 67%|████████████████████████████████████████████████████▎                         | 2782/4150 [42:14<20:08,  1.13it/s]"
     ]
    },
    {
     "name": "stdout",
     "output_type": "stream",
     "text": [
      "Error retrieving SMILES for ZINC84688828: 404 Client Error: PUGREST.NotFound for url: https://pubchem.ncbi.nlm.nih.gov/rest/pug/compound/name/ZINC84688828/property/IsomericSMILES/TXT\n"
     ]
    },
    {
     "name": "stderr",
     "output_type": "stream",
     "text": [
      " 71%|███████████████████████████████████████████████████████▌                      | 2959/4150 [44:57<17:20,  1.14it/s]"
     ]
    },
    {
     "name": "stdout",
     "output_type": "stream",
     "text": [
      "Error retrieving SMILES for QCR-20: 404 Client Error: PUGREST.NotFound for url: https://pubchem.ncbi.nlm.nih.gov/rest/pug/compound/name/QCR-20/property/IsomericSMILES/TXT\n"
     ]
    },
    {
     "name": "stderr",
     "output_type": "stream",
     "text": [
      " 72%|████████████████████████████████████████████████████████▏                     | 2990/4150 [45:25<17:18,  1.12it/s]"
     ]
    },
    {
     "name": "stdout",
     "output_type": "stream",
     "text": [
      "Error retrieving SMILES for AC1NPCOI: 404 Client Error: PUGREST.NotFound for url: https://pubchem.ncbi.nlm.nih.gov/rest/pug/compound/name/AC1NPCOI/property/IsomericSMILES/TXT\n"
     ]
    },
    {
     "name": "stderr",
     "output_type": "stream",
     "text": [
      " 72%|████████████████████████████████████████████████████████▍                     | 3002/4150 [45:35<16:58,  1.13it/s]"
     ]
    },
    {
     "name": "stdout",
     "output_type": "stream",
     "text": [
      "Error retrieving SMILES for Pd-1/pd-l1 inhibitor 1: 400 Client Error: PUGREST.BadRequest for url: https://pubchem.ncbi.nlm.nih.gov/rest/pug/compound/name/Pd-1/pd-l1%20inhibitor%201/property/IsomericSMILES/TXT\n"
     ]
    },
    {
     "name": "stderr",
     "output_type": "stream",
     "text": [
      " 74%|█████████████████████████████████████████████████████████▎                    | 3052/4150 [46:23<16:17,  1.12it/s]"
     ]
    },
    {
     "name": "stdout",
     "output_type": "stream",
     "text": [
      "Error retrieving SMILES for MOLPORT-042-665-727: 404 Client Error: PUGREST.NotFound for url: https://pubchem.ncbi.nlm.nih.gov/rest/pug/compound/name/MOLPORT-042-665-727/property/IsomericSMILES/TXT\n"
     ]
    },
    {
     "name": "stderr",
     "output_type": "stream",
     "text": [
      " 76%|███████████████████████████████████████████████████████████▌                  | 3167/4150 [48:08<14:34,  1.12it/s]"
     ]
    },
    {
     "name": "stdout",
     "output_type": "stream",
     "text": [
      "Error retrieving SMILES for ZINC242723022: 404 Client Error: PUGREST.NotFound for url: https://pubchem.ncbi.nlm.nih.gov/rest/pug/compound/name/ZINC242723022/property/IsomericSMILES/TXT\n"
     ]
    },
    {
     "name": "stderr",
     "output_type": "stream",
     "text": [
      " 77%|████████████████████████████████████████████████████████████▍                 | 3213/4150 [48:49<13:58,  1.12it/s]"
     ]
    },
    {
     "name": "stdout",
     "output_type": "stream",
     "text": [
      "Error retrieving SMILES for AC1OF4NF: 404 Client Error: PUGREST.NotFound for url: https://pubchem.ncbi.nlm.nih.gov/rest/pug/compound/name/AC1OF4NF/property/IsomericSMILES/TXT\n"
     ]
    },
    {
     "name": "stderr",
     "output_type": "stream",
     "text": [
      " 78%|████████████████████████████████████████████████████████████▍                 | 3218/4150 [48:54<13:29,  1.15it/s]"
     ]
    },
    {
     "name": "stdout",
     "output_type": "stream",
     "text": [
      "Error retrieving SMILES for Ergosterine: 404 Client Error: PUGREST.NotFound for url: https://pubchem.ncbi.nlm.nih.gov/rest/pug/compound/name/Ergosterine/property/IsomericSMILES/TXT\n"
     ]
    },
    {
     "name": "stderr",
     "output_type": "stream",
     "text": [
      " 79%|█████████████████████████████████████████████████████████████▊                | 3291/4150 [50:00<12:34,  1.14it/s]"
     ]
    },
    {
     "name": "stdout",
     "output_type": "stream",
     "text": [
      "Error retrieving SMILES for AC1O7H3F: 404 Client Error: PUGREST.NotFound for url: https://pubchem.ncbi.nlm.nih.gov/rest/pug/compound/name/AC1O7H3F/property/IsomericSMILES/TXT\n"
     ]
    },
    {
     "name": "stderr",
     "output_type": "stream",
     "text": [
      " 80%|██████████████████████████████████████████████████████████████▋               | 3333/4150 [50:38<12:10,  1.12it/s]"
     ]
    },
    {
     "name": "stdout",
     "output_type": "stream",
     "text": [
      "Error retrieving SMILES for ZINC250325905: 404 Client Error: PUGREST.NotFound for url: https://pubchem.ncbi.nlm.nih.gov/rest/pug/compound/name/ZINC250325905/property/IsomericSMILES/TXT\n"
     ]
    },
    {
     "name": "stderr",
     "output_type": "stream",
     "text": [
      " 80%|██████████████████████████████████████████████████████████████▋               | 3336/4150 [50:41<12:26,  1.09it/s]"
     ]
    },
    {
     "name": "stdout",
     "output_type": "stream",
     "text": [
      "Error retrieving SMILES for AC1NUNML: 404 Client Error: PUGREST.NotFound for url: https://pubchem.ncbi.nlm.nih.gov/rest/pug/compound/name/AC1NUNML/property/IsomericSMILES/TXT\n"
     ]
    },
    {
     "name": "stderr",
     "output_type": "stream",
     "text": [
      " 81%|██████████████████████████████████████████████████████████████▊               | 3342/4150 [50:46<11:51,  1.14it/s]"
     ]
    },
    {
     "name": "stdout",
     "output_type": "stream",
     "text": [
      "Error retrieving SMILES for AK198640: 404 Client Error: PUGREST.NotFound for url: https://pubchem.ncbi.nlm.nih.gov/rest/pug/compound/name/AK198640/property/IsomericSMILES/TXT\n"
     ]
    },
    {
     "name": "stderr",
     "output_type": "stream",
     "text": [
      " 81%|██████████████████████████████████████████████████████████████▊               | 3345/4150 [50:49<11:50,  1.13it/s]"
     ]
    },
    {
     "name": "stdout",
     "output_type": "stream",
     "text": [
      "Error retrieving SMILES for AC1LAYFC: 404 Client Error: PUGREST.NotFound for url: https://pubchem.ncbi.nlm.nih.gov/rest/pug/compound/name/AC1LAYFC/property/IsomericSMILES/TXT\n"
     ]
    },
    {
     "name": "stderr",
     "output_type": "stream",
     "text": [
      " 81%|███████████████████████████████████████████████████████████████▌              | 3381/4150 [51:21<11:14,  1.14it/s]"
     ]
    },
    {
     "name": "stdout",
     "output_type": "stream",
     "text": [
      "Error retrieving SMILES for AC1LU7HW: 404 Client Error: PUGREST.NotFound for url: https://pubchem.ncbi.nlm.nih.gov/rest/pug/compound/name/AC1LU7HW/property/IsomericSMILES/TXT\n"
     ]
    },
    {
     "name": "stderr",
     "output_type": "stream",
     "text": [
      " 82%|███████████████████████████████████████████████████████████████▊              | 3394/4150 [51:33<11:11,  1.13it/s]"
     ]
    },
    {
     "name": "stdout",
     "output_type": "stream",
     "text": [
      "Error retrieving SMILES for ZD7288 HYDRATE: 404 Client Error: PUGREST.NotFound for url: https://pubchem.ncbi.nlm.nih.gov/rest/pug/compound/name/ZD7288%20HYDRATE/property/IsomericSMILES/TXT\n"
     ]
    },
    {
     "name": "stderr",
     "output_type": "stream",
     "text": [
      " 83%|████████████████████████████████████████████████████████████████▋             | 3445/4150 [52:19<10:33,  1.11it/s]"
     ]
    },
    {
     "name": "stdout",
     "output_type": "stream",
     "text": [
      "Error retrieving SMILES for AC1O53DL: 404 Client Error: PUGREST.NotFound for url: https://pubchem.ncbi.nlm.nih.gov/rest/pug/compound/name/AC1O53DL/property/IsomericSMILES/TXT\n"
     ]
    },
    {
     "name": "stderr",
     "output_type": "stream",
     "text": [
      " 83%|█████████████████████████████████████████████████████████████████             | 3461/4150 [52:34<10:05,  1.14it/s]"
     ]
    },
    {
     "name": "stdout",
     "output_type": "stream",
     "text": [
      "Error retrieving SMILES for Bacitracin (Zinc): 404 Client Error: PUGREST.NotFound for url: https://pubchem.ncbi.nlm.nih.gov/rest/pug/compound/name/Bacitracin%20(Zinc)/property/IsomericSMILES/TXT\n"
     ]
    },
    {
     "name": "stderr",
     "output_type": "stream",
     "text": [
      " 85%|██████████████████████████████████████████████████████████████████            | 3516/4150 [53:23<09:13,  1.15it/s]"
     ]
    },
    {
     "name": "stdout",
     "output_type": "stream",
     "text": [
      "Error retrieving SMILES for TIC10 isomer: 404 Client Error: PUGREST.NotFound for url: https://pubchem.ncbi.nlm.nih.gov/rest/pug/compound/name/TIC10%20isomer/property/IsomericSMILES/TXT\n"
     ]
    },
    {
     "name": "stderr",
     "output_type": "stream",
     "text": [
      " 85%|██████████████████████████████████████████████████████████████████▏           | 3520/4150 [53:26<09:04,  1.16it/s]"
     ]
    },
    {
     "name": "stdout",
     "output_type": "stream",
     "text": [
      "Error retrieving SMILES for AK170455: 404 Client Error: PUGREST.NotFound for url: https://pubchem.ncbi.nlm.nih.gov/rest/pug/compound/name/AK170455/property/IsomericSMILES/TXT\n"
     ]
    },
    {
     "name": "stderr",
     "output_type": "stream",
     "text": [
      " 85%|██████████████████████████████████████████████████████████████████▏           | 3522/4150 [53:28<09:24,  1.11it/s]"
     ]
    },
    {
     "name": "stdout",
     "output_type": "stream",
     "text": [
      "Error retrieving SMILES for AK-77283: 404 Client Error: PUGREST.NotFound for url: https://pubchem.ncbi.nlm.nih.gov/rest/pug/compound/name/AK-77283/property/IsomericSMILES/TXT\n"
     ]
    },
    {
     "name": "stderr",
     "output_type": "stream",
     "text": [
      " 85%|██████████████████████████████████████████████████████████████████▎           | 3529/4150 [53:34<08:54,  1.16it/s]"
     ]
    },
    {
     "name": "stdout",
     "output_type": "stream",
     "text": [
      "Error retrieving SMILES for AC1L1KJK: 404 Client Error: PUGREST.NotFound for url: https://pubchem.ncbi.nlm.nih.gov/rest/pug/compound/name/AC1L1KJK/property/IsomericSMILES/TXT\n"
     ]
    },
    {
     "name": "stderr",
     "output_type": "stream",
     "text": [
      " 86%|███████████████████████████████████████████████████████████████████▏          | 3573/4150 [54:14<08:17,  1.16it/s]"
     ]
    },
    {
     "name": "stdout",
     "output_type": "stream",
     "text": [
      "Error retrieving SMILES for ZINC208949883: 404 Client Error: PUGREST.NotFound for url: https://pubchem.ncbi.nlm.nih.gov/rest/pug/compound/name/ZINC208949883/property/IsomericSMILES/TXT\n"
     ]
    },
    {
     "name": "stderr",
     "output_type": "stream",
     "text": [
      " 86%|███████████████████████████████████████████████████████████████████▏          | 3574/4150 [54:14<08:10,  1.17it/s]"
     ]
    },
    {
     "name": "stdout",
     "output_type": "stream",
     "text": [
      "Error retrieving SMILES for ZINC11616871: 404 Client Error: PUGREST.NotFound for url: https://pubchem.ncbi.nlm.nih.gov/rest/pug/compound/name/ZINC11616871/property/IsomericSMILES/TXT\n"
     ]
    },
    {
     "name": "stderr",
     "output_type": "stream",
     "text": [
      " 86%|███████████████████████████████████████████████████████████████████▎          | 3583/4150 [54:22<08:18,  1.14it/s]"
     ]
    },
    {
     "name": "stdout",
     "output_type": "stream",
     "text": [
      "Error retrieving SMILES for ZINC117147304: 404 Client Error: PUGREST.NotFound for url: https://pubchem.ncbi.nlm.nih.gov/rest/pug/compound/name/ZINC117147304/property/IsomericSMILES/TXT\n"
     ]
    },
    {
     "name": "stderr",
     "output_type": "stream",
     "text": [
      " 87%|███████████████████████████████████████████████████████████████████▌          | 3595/4150 [54:33<08:18,  1.11it/s]"
     ]
    },
    {
     "name": "stdout",
     "output_type": "stream",
     "text": [
      "Error retrieving SMILES for KS-00001CUZ: 404 Client Error: PUGREST.NotFound for url: https://pubchem.ncbi.nlm.nih.gov/rest/pug/compound/name/KS-00001CUZ/property/IsomericSMILES/TXT\n"
     ]
    },
    {
     "name": "stderr",
     "output_type": "stream",
     "text": [
      " 87%|███████████████████████████████████████████████████████████████████▌          | 3596/4150 [54:34<08:04,  1.14it/s]"
     ]
    },
    {
     "name": "stdout",
     "output_type": "stream",
     "text": [
      "Error retrieving SMILES for CTK8E8456: 404 Client Error: PUGREST.NotFound for url: https://pubchem.ncbi.nlm.nih.gov/rest/pug/compound/name/CTK8E8456/property/IsomericSMILES/TXT\n"
     ]
    },
    {
     "name": "stderr",
     "output_type": "stream",
     "text": [
      " 87%|███████████████████████████████████████████████████████████████████▋          | 3604/4150 [54:41<07:59,  1.14it/s]"
     ]
    },
    {
     "name": "stdout",
     "output_type": "stream",
     "text": [
      "Error retrieving SMILES for CTK8F0346: 404 Client Error: PUGREST.NotFound for url: https://pubchem.ncbi.nlm.nih.gov/rest/pug/compound/name/CTK8F0346/property/IsomericSMILES/TXT\n"
     ]
    },
    {
     "name": "stderr",
     "output_type": "stream",
     "text": [
      " 87%|████████████████████████████████████████████████████████████████████          | 3619/4150 [54:55<07:45,  1.14it/s]"
     ]
    },
    {
     "name": "stdout",
     "output_type": "stream",
     "text": [
      "Error retrieving SMILES for ZINC208012538: 404 Client Error: PUGREST.NotFound for url: https://pubchem.ncbi.nlm.nih.gov/rest/pug/compound/name/ZINC208012538/property/IsomericSMILES/TXT\n"
     ]
    },
    {
     "name": "stderr",
     "output_type": "stream",
     "text": [
      " 87%|████████████████████████████████████████████████████████████████████          | 3623/4150 [54:58<07:35,  1.16it/s]"
     ]
    },
    {
     "name": "stdout",
     "output_type": "stream",
     "text": [
      "Error retrieving SMILES for ZINC17545571: 404 Client Error: PUGREST.NotFound for url: https://pubchem.ncbi.nlm.nih.gov/rest/pug/compound/name/ZINC17545571/property/IsomericSMILES/TXT\n"
     ]
    },
    {
     "name": "stderr",
     "output_type": "stream",
     "text": [
      " 87%|████████████████████████████████████████████████████████████████████          | 3624/4150 [54:59<07:28,  1.17it/s]"
     ]
    },
    {
     "name": "stdout",
     "output_type": "stream",
     "text": [
      "Error retrieving SMILES for 04/04/7218: 404 Client Error: PUGREST.NotFound for url: https://pubchem.ncbi.nlm.nih.gov/rest/pug/compound/name/04/04/7218/property/IsomericSMILES/TXT\n"
     ]
    },
    {
     "name": "stderr",
     "output_type": "stream",
     "text": [
      " 87%|████████████████████████████████████████████████████████████████████▏         | 3626/4150 [55:01<07:22,  1.18it/s]"
     ]
    },
    {
     "name": "stdout",
     "output_type": "stream",
     "text": [
      "Error retrieving SMILES for Curcumin, Curcuma longa L.: 404 Client Error: PUGREST.NotFound for url: https://pubchem.ncbi.nlm.nih.gov/rest/pug/compound/name/Curcumin,%20Curcuma%20longa%20L./property/IsomericSMILES/TXT\n"
     ]
    },
    {
     "name": "stderr",
     "output_type": "stream",
     "text": [
      " 88%|████████████████████████████████████████████████████████████████████▌         | 3647/4150 [55:19<07:23,  1.13it/s]"
     ]
    },
    {
     "name": "stdout",
     "output_type": "stream",
     "text": [
      "Error retrieving SMILES for ZINC34894448: 404 Client Error: PUGREST.NotFound for url: https://pubchem.ncbi.nlm.nih.gov/rest/pug/compound/name/ZINC34894448/property/IsomericSMILES/TXT\n"
     ]
    },
    {
     "name": "stderr",
     "output_type": "stream",
     "text": [
      " 88%|████████████████████████████████████████████████████████████████████▌         | 3650/4150 [55:22<07:20,  1.14it/s]"
     ]
    },
    {
     "name": "stdout",
     "output_type": "stream",
     "text": [
      "Error retrieving SMILES for AC1L9B3J: 404 Client Error: PUGREST.NotFound for url: https://pubchem.ncbi.nlm.nih.gov/rest/pug/compound/name/AC1L9B3J/property/IsomericSMILES/TXT\n"
     ]
    },
    {
     "name": "stderr",
     "output_type": "stream",
     "text": [
      " 88%|████████████████████████████████████████████████████████████████████▋         | 3652/4150 [55:24<07:29,  1.11it/s]"
     ]
    },
    {
     "name": "stdout",
     "output_type": "stream",
     "text": [
      "Error retrieving SMILES for ZINC100015731: 404 Client Error: PUGREST.NotFound for url: https://pubchem.ncbi.nlm.nih.gov/rest/pug/compound/name/ZINC100015731/property/IsomericSMILES/TXT\n"
     ]
    },
    {
     "name": "stderr",
     "output_type": "stream",
     "text": [
      " 88%|█████████████████████████████████████████████████████████████████████         | 3672/4150 [55:41<06:58,  1.14it/s]"
     ]
    },
    {
     "name": "stdout",
     "output_type": "stream",
     "text": [
      "Error retrieving SMILES for AC1L2QK3: 404 Client Error: PUGREST.NotFound for url: https://pubchem.ncbi.nlm.nih.gov/rest/pug/compound/name/AC1L2QK3/property/IsomericSMILES/TXT\n"
     ]
    },
    {
     "name": "stderr",
     "output_type": "stream",
     "text": [
      " 89%|█████████████████████████████████████████████████████████████████████         | 3674/4150 [55:43<06:54,  1.15it/s]"
     ]
    },
    {
     "name": "stdout",
     "output_type": "stream",
     "text": [
      "Error retrieving SMILES for KS-00001D5I: 404 Client Error: PUGREST.NotFound for url: https://pubchem.ncbi.nlm.nih.gov/rest/pug/compound/name/KS-00001D5I/property/IsomericSMILES/TXT\n"
     ]
    },
    {
     "name": "stderr",
     "output_type": "stream",
     "text": [
      " 89%|█████████████████████████████████████████████████████████████████████         | 3677/4150 [55:46<06:52,  1.15it/s]"
     ]
    },
    {
     "name": "stdout",
     "output_type": "stream",
     "text": [
      "Error retrieving SMILES for AC1Q29DP: 404 Client Error: PUGREST.NotFound for url: https://pubchem.ncbi.nlm.nih.gov/rest/pug/compound/name/AC1Q29DP/property/IsomericSMILES/TXT\n"
     ]
    },
    {
     "name": "stderr",
     "output_type": "stream",
     "text": [
      " 89%|█████████████████████████████████████████████████████████████████████▏        | 3684/4150 [55:52<06:41,  1.16it/s]"
     ]
    },
    {
     "name": "stdout",
     "output_type": "stream",
     "text": [
      "Error retrieving SMILES for KS-00000Y5E: 404 Client Error: PUGREST.NotFound for url: https://pubchem.ncbi.nlm.nih.gov/rest/pug/compound/name/KS-00000Y5E/property/IsomericSMILES/TXT\n"
     ]
    },
    {
     "name": "stderr",
     "output_type": "stream",
     "text": [
      " 89%|█████████████████████████████████████████████████████████████████████▎        | 3691/4150 [55:58<06:46,  1.13it/s]"
     ]
    },
    {
     "name": "stdout",
     "output_type": "stream",
     "text": [
      "Error retrieving SMILES for KGBPLKOPSFDBOX-UHFFFAOYSA-N: 404 Client Error: PUGREST.NotFound for url: https://pubchem.ncbi.nlm.nih.gov/rest/pug/compound/name/KGBPLKOPSFDBOX-UHFFFAOYSA-N/property/IsomericSMILES/TXT\n"
     ]
    },
    {
     "name": "stderr",
     "output_type": "stream",
     "text": [
      " 89%|█████████████████████████████████████████████████████████████████████▌        | 3703/4150 [56:09<06:39,  1.12it/s]"
     ]
    },
    {
     "name": "stdout",
     "output_type": "stream",
     "text": [
      "Error retrieving SMILES for AC1L1IJY: 404 Client Error: PUGREST.NotFound for url: https://pubchem.ncbi.nlm.nih.gov/rest/pug/compound/name/AC1L1IJY/property/IsomericSMILES/TXT\n"
     ]
    },
    {
     "name": "stderr",
     "output_type": "stream",
     "text": [
      " 89%|█████████████████████████████████████████████████████████████████████▌        | 3704/4150 [56:10<06:31,  1.14it/s]"
     ]
    },
    {
     "name": "stdout",
     "output_type": "stream",
     "text": [
      "Error retrieving SMILES for AK160201: 404 Client Error: PUGREST.NotFound for url: https://pubchem.ncbi.nlm.nih.gov/rest/pug/compound/name/AK160201/property/IsomericSMILES/TXT\n"
     ]
    },
    {
     "name": "stderr",
     "output_type": "stream",
     "text": [
      " 89%|█████████████████████████████████████████████████████████████████████▋        | 3706/4150 [56:11<06:25,  1.15it/s]"
     ]
    },
    {
     "name": "stdout",
     "output_type": "stream",
     "text": [
      "Error retrieving SMILES for AK174336: 404 Client Error: PUGREST.NotFound for url: https://pubchem.ncbi.nlm.nih.gov/rest/pug/compound/name/AK174336/property/IsomericSMILES/TXT\n"
     ]
    },
    {
     "name": "stderr",
     "output_type": "stream",
     "text": [
      " 89%|█████████████████████████████████████████████████████████████████████▋        | 3707/4150 [56:12<06:20,  1.16it/s]"
     ]
    },
    {
     "name": "stdout",
     "output_type": "stream",
     "text": [
      "Error retrieving SMILES for AC1L1DW2: 404 Client Error: PUGREST.NotFound for url: https://pubchem.ncbi.nlm.nih.gov/rest/pug/compound/name/AC1L1DW2/property/IsomericSMILES/TXT\n"
     ]
    },
    {
     "name": "stderr",
     "output_type": "stream",
     "text": [
      " 89%|█████████████████████████████████████████████████████████████████████▋        | 3710/4150 [56:15<06:26,  1.14it/s]"
     ]
    },
    {
     "name": "stdout",
     "output_type": "stream",
     "text": [
      "Error retrieving SMILES for AC1NRBJE: 404 Client Error: PUGREST.NotFound for url: https://pubchem.ncbi.nlm.nih.gov/rest/pug/compound/name/AC1NRBJE/property/IsomericSMILES/TXT\n"
     ]
    },
    {
     "name": "stderr",
     "output_type": "stream",
     "text": [
      " 90%|██████████████████████████████████████████████████████████████████████        | 3726/4150 [56:29<06:15,  1.13it/s]"
     ]
    },
    {
     "name": "stdout",
     "output_type": "stream",
     "text": [
      "Error retrieving SMILES for ZINC896472: 404 Client Error: PUGREST.NotFound for url: https://pubchem.ncbi.nlm.nih.gov/rest/pug/compound/name/ZINC896472/property/IsomericSMILES/TXT\n"
     ]
    },
    {
     "name": "stderr",
     "output_type": "stream",
     "text": [
      " 90%|██████████████████████████████████████████████████████████████████████▏       | 3735/4150 [56:37<05:57,  1.16it/s]"
     ]
    },
    {
     "name": "stdout",
     "output_type": "stream",
     "text": [
      "Error retrieving SMILES for Provitamin A1: 404 Client Error: PUGREST.NotFound for url: https://pubchem.ncbi.nlm.nih.gov/rest/pug/compound/name/Provitamin%20A1/property/IsomericSMILES/TXT\n"
     ]
    },
    {
     "name": "stderr",
     "output_type": "stream",
     "text": [
      " 90%|██████████████████████████████████████████████████████████████████████▎       | 3739/4150 [56:41<06:23,  1.07it/s]"
     ]
    },
    {
     "name": "stdout",
     "output_type": "stream",
     "text": [
      "Error retrieving SMILES for AC1OFCEV: 404 Client Error: PUGREST.NotFound for url: https://pubchem.ncbi.nlm.nih.gov/rest/pug/compound/name/AC1OFCEV/property/IsomericSMILES/TXT\n"
     ]
    },
    {
     "name": "stderr",
     "output_type": "stream",
     "text": [
      " 90%|██████████████████████████████████████████████████████████████████████▎       | 3742/4150 [56:43<05:57,  1.14it/s]"
     ]
    },
    {
     "name": "stdout",
     "output_type": "stream",
     "text": [
      "Error retrieving SMILES for ZINC3881972: 404 Client Error: PUGREST.NotFound for url: https://pubchem.ncbi.nlm.nih.gov/rest/pug/compound/name/ZINC3881972/property/IsomericSMILES/TXT\n"
     ]
    },
    {
     "name": "stderr",
     "output_type": "stream",
     "text": [
      " 90%|██████████████████████████████████████████████████████████████████████▍       | 3745/4150 [56:46<05:54,  1.14it/s]"
     ]
    },
    {
     "name": "stdout",
     "output_type": "stream",
     "text": [
      "Error retrieving SMILES for ZINC208951860: 404 Client Error: PUGREST.NotFound for url: https://pubchem.ncbi.nlm.nih.gov/rest/pug/compound/name/ZINC208951860/property/IsomericSMILES/TXT\n"
     ]
    },
    {
     "name": "stderr",
     "output_type": "stream",
     "text": [
      " 90%|██████████████████████████████████████████████████████████████████████▍       | 3746/4150 [56:47<05:48,  1.16it/s]"
     ]
    },
    {
     "name": "stdout",
     "output_type": "stream",
     "text": [
      "Error retrieving SMILES for AC1MWLHC: 404 Client Error: PUGREST.NotFound for url: https://pubchem.ncbi.nlm.nih.gov/rest/pug/compound/name/AC1MWLHC/property/IsomericSMILES/TXT\n"
     ]
    },
    {
     "name": "stderr",
     "output_type": "stream",
     "text": [
      " 91%|██████████████████████████████████████████████████████████████████████▋       | 3758/4150 [56:57<05:40,  1.15it/s]"
     ]
    },
    {
     "name": "stdout",
     "output_type": "stream",
     "text": [
      "Error retrieving SMILES for AC1OFCJY: 404 Client Error: PUGREST.NotFound for url: https://pubchem.ncbi.nlm.nih.gov/rest/pug/compound/name/AC1OFCJY/property/IsomericSMILES/TXT\n"
     ]
    },
    {
     "name": "stderr",
     "output_type": "stream",
     "text": [
      " 91%|██████████████████████████████████████████████████████████████████████▋       | 3761/4150 [57:00<05:38,  1.15it/s]"
     ]
    },
    {
     "name": "stdout",
     "output_type": "stream",
     "text": [
      "Error retrieving SMILES for ZINC44963243: 404 Client Error: PUGREST.NotFound for url: https://pubchem.ncbi.nlm.nih.gov/rest/pug/compound/name/ZINC44963243/property/IsomericSMILES/TXT\n"
     ]
    },
    {
     "name": "stderr",
     "output_type": "stream",
     "text": [
      " 91%|██████████████████████████████████████████████████████████████████████▊       | 3768/4150 [57:06<05:41,  1.12it/s]"
     ]
    },
    {
     "name": "stdout",
     "output_type": "stream",
     "text": [
      "Error retrieving SMILES for AC1O41R4: 404 Client Error: PUGREST.NotFound for url: https://pubchem.ncbi.nlm.nih.gov/rest/pug/compound/name/AC1O41R4/property/IsomericSMILES/TXT\n"
     ]
    },
    {
     "name": "stderr",
     "output_type": "stream",
     "text": [
      " 92%|███████████████████████████████████████████████████████████████████████▍      | 3801/4150 [57:36<05:13,  1.11it/s]"
     ]
    },
    {
     "name": "stdout",
     "output_type": "stream",
     "text": [
      "Error retrieving SMILES for AC1LIMNP: 404 Client Error: PUGREST.NotFound for url: https://pubchem.ncbi.nlm.nih.gov/rest/pug/compound/name/AC1LIMNP/property/IsomericSMILES/TXT\n"
     ]
    },
    {
     "name": "stderr",
     "output_type": "stream",
     "text": [
      " 92%|███████████████████████████████████████████████████████████████████████▋      | 3811/4150 [57:45<04:54,  1.15it/s]"
     ]
    },
    {
     "name": "stdout",
     "output_type": "stream",
     "text": [
      "Error retrieving SMILES for ZINC101426918: 404 Client Error: PUGREST.NotFound for url: https://pubchem.ncbi.nlm.nih.gov/rest/pug/compound/name/ZINC101426918/property/IsomericSMILES/TXT\n"
     ]
    },
    {
     "name": "stderr",
     "output_type": "stream",
     "text": [
      " 92%|███████████████████████████████████████████████████████████████████████▋      | 3816/4150 [57:49<04:57,  1.12it/s]"
     ]
    },
    {
     "name": "stdout",
     "output_type": "stream",
     "text": [
      "Error retrieving SMILES for DSSTox_CID_28582: 404 Client Error: PUGREST.NotFound for url: https://pubchem.ncbi.nlm.nih.gov/rest/pug/compound/name/DSSTox_CID_28582/property/IsomericSMILES/TXT\n"
     ]
    },
    {
     "name": "stderr",
     "output_type": "stream",
     "text": [
      " 92%|███████████████████████████████████████████████████████████████████████▉      | 3827/4150 [57:59<04:51,  1.11it/s]"
     ]
    },
    {
     "name": "stdout",
     "output_type": "stream",
     "text": [
      "Error retrieving SMILES for AC1OF340: 404 Client Error: PUGREST.NotFound for url: https://pubchem.ncbi.nlm.nih.gov/rest/pug/compound/name/AC1OF340/property/IsomericSMILES/TXT\n"
     ]
    },
    {
     "name": "stderr",
     "output_type": "stream",
     "text": [
      " 93%|████████████████████████████████████████████████████████████████████████▏     | 3841/4150 [58:12<04:28,  1.15it/s]"
     ]
    },
    {
     "name": "stdout",
     "output_type": "stream",
     "text": [
      "Error retrieving SMILES for AC1L21NN: 404 Client Error: PUGREST.NotFound for url: https://pubchem.ncbi.nlm.nih.gov/rest/pug/compound/name/AC1L21NN/property/IsomericSMILES/TXT\n"
     ]
    },
    {
     "name": "stderr",
     "output_type": "stream",
     "text": [
      " 93%|████████████████████████████████████████████████████████████████████████▎     | 3847/4150 [58:17<04:35,  1.10it/s]"
     ]
    },
    {
     "name": "stdout",
     "output_type": "stream",
     "text": [
      "Error retrieving SMILES for Phloretin 2'-galactoside: 404 Client Error: PUGREST.NotFound for url: https://pubchem.ncbi.nlm.nih.gov/rest/pug/compound/name/Phloretin%202'-galactoside/property/IsomericSMILES/TXT\n"
     ]
    },
    {
     "name": "stderr",
     "output_type": "stream",
     "text": [
      " 93%|████████████████████████████████████████████████████████████████████████▌     | 3864/4150 [58:33<04:15,  1.12it/s]"
     ]
    },
    {
     "name": "stdout",
     "output_type": "stream",
     "text": [
      "Error retrieving SMILES for ZINC28538988: 404 Client Error: PUGREST.NotFound for url: https://pubchem.ncbi.nlm.nih.gov/rest/pug/compound/name/ZINC28538988/property/IsomericSMILES/TXT\n"
     ]
    },
    {
     "name": "stderr",
     "output_type": "stream",
     "text": [
      " 93%|████████████████████████████████████████████████████████████████████████▋     | 3869/4150 [58:37<04:00,  1.17it/s]"
     ]
    },
    {
     "name": "stdout",
     "output_type": "stream",
     "text": [
      "Error retrieving SMILES for ZINC38139483: 404 Client Error: PUGREST.NotFound for url: https://pubchem.ncbi.nlm.nih.gov/rest/pug/compound/name/ZINC38139483/property/IsomericSMILES/TXT\n"
     ]
    },
    {
     "name": "stderr",
     "output_type": "stream",
     "text": [
      " 93%|████████████████████████████████████████████████████████████████████████▊     | 3875/4150 [58:42<03:59,  1.15it/s]"
     ]
    },
    {
     "name": "stdout",
     "output_type": "stream",
     "text": [
      "Error retrieving SMILES for Poly(2-fluoroadenylic acid): 404 Client Error: PUGREST.NotFound for url: https://pubchem.ncbi.nlm.nih.gov/rest/pug/compound/name/Poly(2-fluoroadenylic%20acid)/property/IsomericSMILES/TXT\n"
     ]
    },
    {
     "name": "stderr",
     "output_type": "stream",
     "text": [
      " 93%|████████████████████████████████████████████████████████████████████████▉     | 3879/4150 [58:46<04:00,  1.12it/s]"
     ]
    },
    {
     "name": "stdout",
     "output_type": "stream",
     "text": [
      "Error retrieving SMILES for AC1LAKOZ: 404 Client Error: PUGREST.NotFound for url: https://pubchem.ncbi.nlm.nih.gov/rest/pug/compound/name/AC1LAKOZ/property/IsomericSMILES/TXT\n"
     ]
    },
    {
     "name": "stderr",
     "output_type": "stream",
     "text": [
      " 94%|█████████████████████████████████████████████████████████████████████████▍    | 3906/4150 [59:10<03:31,  1.15it/s]"
     ]
    },
    {
     "name": "stdout",
     "output_type": "stream",
     "text": [
      "Error retrieving SMILES for 1beta-Methylimipenem: 404 Client Error: PUGREST.NotFound for url: https://pubchem.ncbi.nlm.nih.gov/rest/pug/compound/name/1beta-Methylimipenem/property/IsomericSMILES/TXT\n"
     ]
    },
    {
     "name": "stderr",
     "output_type": "stream",
     "text": [
      " 95%|█████████████████████████████████████████████████████████████████████████▋    | 3923/4150 [59:25<03:57,  1.05s/it]"
     ]
    },
    {
     "name": "stdout",
     "output_type": "stream",
     "text": [
      "Error retrieving SMILES for AC1O7GND: 404 Client Error: PUGREST.NotFound for url: https://pubchem.ncbi.nlm.nih.gov/rest/pug/compound/name/AC1O7GND/property/IsomericSMILES/TXT\n"
     ]
    },
    {
     "name": "stderr",
     "output_type": "stream",
     "text": [
      " 95%|██████████████████████████████████████████████████████████████████████████    | 3939/4150 [59:39<02:59,  1.18it/s]"
     ]
    },
    {
     "name": "stdout",
     "output_type": "stream",
     "text": [
      "Error retrieving SMILES for AC1LCZJT: 404 Client Error: PUGREST.NotFound for url: https://pubchem.ncbi.nlm.nih.gov/rest/pug/compound/name/AC1LCZJT/property/IsomericSMILES/TXT\n"
     ]
    },
    {
     "name": "stderr",
     "output_type": "stream",
     "text": [
      " 95%|██████████████████████████████████████████████████████████████████████████    | 3940/4150 [59:40<02:59,  1.17it/s]"
     ]
    },
    {
     "name": "stdout",
     "output_type": "stream",
     "text": [
      "Error retrieving SMILES for C10H10O4: 404 Client Error: PUGREST.NotFound for url: https://pubchem.ncbi.nlm.nih.gov/rest/pug/compound/name/C10H10O4/property/IsomericSMILES/TXT\n"
     ]
    },
    {
     "name": "stderr",
     "output_type": "stream",
     "text": [
      " 95%|██████████████████████████████████████████████████████████████████████████    | 3941/4150 [59:41<02:58,  1.17it/s]"
     ]
    },
    {
     "name": "stdout",
     "output_type": "stream",
     "text": [
      "Error retrieving SMILES for ZINC103939005: 404 Client Error: PUGREST.NotFound for url: https://pubchem.ncbi.nlm.nih.gov/rest/pug/compound/name/ZINC103939005/property/IsomericSMILES/TXT\n"
     ]
    },
    {
     "name": "stderr",
     "output_type": "stream",
     "text": [
      " 95%|██████████████████████████████████████████████████████████████████████████▏   | 3947/4150 [59:47<03:00,  1.13it/s]"
     ]
    },
    {
     "name": "stdout",
     "output_type": "stream",
     "text": [
      "Error retrieving SMILES for AC1L9B2S: 404 Client Error: PUGREST.NotFound for url: https://pubchem.ncbi.nlm.nih.gov/rest/pug/compound/name/AC1L9B2S/property/IsomericSMILES/TXT\n"
     ]
    },
    {
     "name": "stderr",
     "output_type": "stream",
     "text": [
      " 95%|██████████████████████████████████████████████████████████████████████████▍   | 3958/4150 [59:56<02:47,  1.15it/s]"
     ]
    },
    {
     "name": "stdout",
     "output_type": "stream",
     "text": [
      "Error retrieving SMILES for ZINC43163828: 404 Client Error: PUGREST.NotFound for url: https://pubchem.ncbi.nlm.nih.gov/rest/pug/compound/name/ZINC43163828/property/IsomericSMILES/TXT\n"
     ]
    },
    {
     "name": "stderr",
     "output_type": "stream",
     "text": [
      " 96%|████████████████████████████████████████████████████████████████████████▉   | 3981/4150 [1:00:17<02:27,  1.15it/s]"
     ]
    },
    {
     "name": "stdout",
     "output_type": "stream",
     "text": [
      "Error retrieving SMILES for ZINC97975747: 404 Client Error: PUGREST.NotFound for url: https://pubchem.ncbi.nlm.nih.gov/rest/pug/compound/name/ZINC97975747/property/IsomericSMILES/TXT\n"
     ]
    },
    {
     "name": "stderr",
     "output_type": "stream",
     "text": [
      " 96%|████████████████████████████████████████████████████████████████████████▉   | 3985/4150 [1:00:20<02:22,  1.16it/s]"
     ]
    },
    {
     "name": "stdout",
     "output_type": "stream",
     "text": [
      "Error retrieving SMILES for AC1OF33F: 404 Client Error: PUGREST.NotFound for url: https://pubchem.ncbi.nlm.nih.gov/rest/pug/compound/name/AC1OF33F/property/IsomericSMILES/TXT\n"
     ]
    },
    {
     "name": "stderr",
     "output_type": "stream",
     "text": [
      " 96%|█████████████████████████████████████████████████████████████████████████   | 3990/4150 [1:00:25<02:20,  1.14it/s]"
     ]
    },
    {
     "name": "stdout",
     "output_type": "stream",
     "text": [
      "Error retrieving SMILES for AC1OFCD4: 404 Client Error: PUGREST.NotFound for url: https://pubchem.ncbi.nlm.nih.gov/rest/pug/compound/name/AC1OFCD4/property/IsomericSMILES/TXT\n"
     ]
    },
    {
     "name": "stderr",
     "output_type": "stream",
     "text": [
      " 97%|█████████████████████████████████████████████████████████████████████████▍  | 4007/4150 [1:00:40<02:04,  1.15it/s]"
     ]
    },
    {
     "name": "stdout",
     "output_type": "stream",
     "text": [
      "Error retrieving SMILES for AC1OFCEP: 404 Client Error: PUGREST.NotFound for url: https://pubchem.ncbi.nlm.nih.gov/rest/pug/compound/name/AC1OFCEP/property/IsomericSMILES/TXT\n"
     ]
    },
    {
     "name": "stderr",
     "output_type": "stream",
     "text": [
      " 97%|█████████████████████████████████████████████████████████████████████████▍  | 4010/4150 [1:00:42<02:00,  1.16it/s]"
     ]
    },
    {
     "name": "stdout",
     "output_type": "stream",
     "text": [
      "Error retrieving SMILES for ZINC22059945: 404 Client Error: PUGREST.NotFound for url: https://pubchem.ncbi.nlm.nih.gov/rest/pug/compound/name/ZINC22059945/property/IsomericSMILES/TXT\n"
     ]
    },
    {
     "name": "stderr",
     "output_type": "stream",
     "text": [
      " 97%|█████████████████████████████████████████████████████████████████████████▋  | 4021/4150 [1:00:52<01:56,  1.11it/s]"
     ]
    },
    {
     "name": "stdout",
     "output_type": "stream",
     "text": [
      "Error retrieving SMILES for ACMC-20mj2l: 404 Client Error: PUGREST.NotFound for url: https://pubchem.ncbi.nlm.nih.gov/rest/pug/compound/name/ACMC-20mj2l/property/IsomericSMILES/TXT\n"
     ]
    },
    {
     "name": "stderr",
     "output_type": "stream",
     "text": [
      " 97%|█████████████████████████████████████████████████████████████████████████▋  | 4023/4150 [1:00:54<01:51,  1.14it/s]"
     ]
    },
    {
     "name": "stdout",
     "output_type": "stream",
     "text": [
      "Error retrieving SMILES for ZINC101112865: 404 Client Error: PUGREST.NotFound for url: https://pubchem.ncbi.nlm.nih.gov/rest/pug/compound/name/ZINC101112865/property/IsomericSMILES/TXT\n"
     ]
    },
    {
     "name": "stderr",
     "output_type": "stream",
     "text": [
      " 98%|██████████████████████████████████████████████████████████████████████████▋ | 4078/4150 [1:01:43<01:02,  1.16it/s]"
     ]
    },
    {
     "name": "stdout",
     "output_type": "stream",
     "text": [
      "Error retrieving SMILES for ZINC11616261: 404 Client Error: PUGREST.NotFound for url: https://pubchem.ncbi.nlm.nih.gov/rest/pug/compound/name/ZINC11616261/property/IsomericSMILES/TXT\n"
     ]
    },
    {
     "name": "stderr",
     "output_type": "stream",
     "text": [
      " 99%|██████████████████████████████████████████████████████████████████████████▉ | 4089/4150 [1:01:53<00:53,  1.15it/s]"
     ]
    },
    {
     "name": "stdout",
     "output_type": "stream",
     "text": [
      "Error retrieving SMILES for ZINC3831133: 404 Client Error: PUGREST.NotFound for url: https://pubchem.ncbi.nlm.nih.gov/rest/pug/compound/name/ZINC3831133/property/IsomericSMILES/TXT\n"
     ]
    },
    {
     "name": "stderr",
     "output_type": "stream",
     "text": [
      " 99%|██████████████████████████████████████████████████████████████████████████▉ | 4091/4150 [1:01:55<00:50,  1.17it/s]"
     ]
    },
    {
     "name": "stdout",
     "output_type": "stream",
     "text": [
      "Error retrieving SMILES for ZINC139045355: 404 Client Error: PUGREST.NotFound for url: https://pubchem.ncbi.nlm.nih.gov/rest/pug/compound/name/ZINC139045355/property/IsomericSMILES/TXT\n"
     ]
    },
    {
     "name": "stderr",
     "output_type": "stream",
     "text": [
      " 99%|███████████████████████████████████████████████████████████████████████████▏| 4103/4150 [1:02:05<00:41,  1.15it/s]"
     ]
    },
    {
     "name": "stdout",
     "output_type": "stream",
     "text": [
      "Error retrieving SMILES for AC1L34YQ: 404 Client Error: PUGREST.NotFound for url: https://pubchem.ncbi.nlm.nih.gov/rest/pug/compound/name/AC1L34YQ/property/IsomericSMILES/TXT\n"
     ]
    },
    {
     "name": "stderr",
     "output_type": "stream",
     "text": [
      " 99%|███████████████████████████████████████████████████████████████████████████▏| 4104/4150 [1:02:06<00:39,  1.15it/s]"
     ]
    },
    {
     "name": "stdout",
     "output_type": "stream",
     "text": [
      "Error retrieving SMILES for AC1M4BZH: 404 Client Error: PUGREST.NotFound for url: https://pubchem.ncbi.nlm.nih.gov/rest/pug/compound/name/AC1M4BZH/property/IsomericSMILES/TXT\n"
     ]
    },
    {
     "name": "stderr",
     "output_type": "stream",
     "text": [
      " 99%|███████████████████████████████████████████████████████████████████████████▌| 4126/4150 [1:02:26<00:21,  1.13it/s]"
     ]
    },
    {
     "name": "stdout",
     "output_type": "stream",
     "text": [
      "Error retrieving SMILES for AC1L1EUK: 404 Client Error: PUGREST.NotFound for url: https://pubchem.ncbi.nlm.nih.gov/rest/pug/compound/name/AC1L1EUK/property/IsomericSMILES/TXT\n"
     ]
    },
    {
     "name": "stderr",
     "output_type": "stream",
     "text": [
      " 99%|███████████████████████████████████████████████████████████████████████████▌| 4129/4150 [1:02:29<00:18,  1.15it/s]"
     ]
    },
    {
     "name": "stdout",
     "output_type": "stream",
     "text": [
      "Error retrieving SMILES for AC1Q4OOX: 404 Client Error: PUGREST.NotFound for url: https://pubchem.ncbi.nlm.nih.gov/rest/pug/compound/name/AC1Q4OOX/property/IsomericSMILES/TXT\n"
     ]
    },
    {
     "name": "stderr",
     "output_type": "stream",
     "text": [
      "100%|███████████████████████████████████████████████████████████████████████████▊| 4142/4150 [1:02:40<00:07,  1.07it/s]"
     ]
    },
    {
     "name": "stdout",
     "output_type": "stream",
     "text": [
      "Error retrieving SMILES for Vincristine Sulfate, Apocynaceae sp.: 404 Client Error: PUGREST.NotFound for url: https://pubchem.ncbi.nlm.nih.gov/rest/pug/compound/name/Vincristine%20Sulfate,%20Apocynaceae%20sp./property/IsomericSMILES/TXT\n"
     ]
    },
    {
     "name": "stderr",
     "output_type": "stream",
     "text": [
      "100%|████████████████████████████████████████████████████████████████████████████| 4150/4150 [1:02:49<00:00,  1.10it/s]\n"
     ]
    }
   ],
   "source": [
    "# Enabling progress_apply to show progress bars with pandas apply\n",
    "tqdm.pandas()\n",
    "drug_df['smiles'] = drug_df['drug'].progress_apply(get_smiles_from_name)"
   ]
  },
  {
   "cell_type": "markdown",
   "id": "48a44a5b-738d-4aa1-9f25-598861f79676",
   "metadata": {},
   "source": [
    "##### Save the drug_df DataFrame with drug names and their SMILES strings to a CSV file\n"
   ]
  },
  {
   "cell_type": "code",
   "execution_count": 22,
   "id": "982dca86-8f58-4ebf-938d-a2a7c1f1d1b7",
   "metadata": {},
   "outputs": [],
   "source": [
    "drug_df.to_csv(\"final_drugname_with_smiles\")"
   ]
  },
  {
   "cell_type": "code",
   "execution_count": null,
   "id": "7a8fb9ed-5d14-4eb0-bf4d-f57eff154e7c",
   "metadata": {},
   "outputs": [],
   "source": []
  }
 ],
 "metadata": {
  "kernelspec": {
   "display_name": "Python 3 (ipykernel)",
   "language": "python",
   "name": "python3"
  },
  "language_info": {
   "codemirror_mode": {
    "name": "ipython",
    "version": 3
   },
   "file_extension": ".py",
   "mimetype": "text/x-python",
   "name": "python",
   "nbconvert_exporter": "python",
   "pygments_lexer": "ipython3",
   "version": "3.13.3"
  }
 },
 "nbformat": 4,
 "nbformat_minor": 5
}
